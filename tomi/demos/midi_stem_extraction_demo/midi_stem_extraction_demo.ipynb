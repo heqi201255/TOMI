{
 "cells": [
  {
   "metadata": {},
   "cell_type": "markdown",
   "source": [
    "# MIDIProcessor\n",
    "The `MIDIProcessor` class is designed to extract musical features from a given MIDI file. These features include:\n",
    "* Key (limited to major and minor scales)\n",
    "* MIDI type (e.g., composite, chord, bass, melody, arp, drums — composite indicates the MIDI may contain both chord progressions and melodies)\n",
    "* Duration (in Bar-Step-Tick metrical time)\n",
    "* Stems (chord, bass, melody)\n",
    "* Chord progression\n",
    "* Groove\n",
    "\n",
    "MIDI files are parsed using the `pretty-midi` library. The note sequence is then converted into a 2D array representation, which is essentially a piano roll. We use the bar-step-tick concept in TOMI to adopt metrical time instead of absolute\n",
    "time. In the current implementation, the start and end positions of each MIDI note are quantized to the nearest step instead of tick to reduce the size of the piano roll.\n",
    "\n",
    "All feature extraction algorithms are rule-based and operate on the piano roll instead of the raw note sequence.\n",
    "\n",
    "To aid in visualization, we also provide a textual version of the piano roll for use in terminal environments:\n",
    "\n",
    "<div><img src=\"../../../img/midi_processor.jpg\" style=\"width:600px\" alt=\"\"></div>"
   ],
   "id": "56291e073c98acdf"
  },
  {
   "metadata": {
    "ExecuteTime": {
     "end_time": "2025-06-20T17:07:45.912754Z",
     "start_time": "2025-06-20T17:07:44.923529Z"
    }
   },
   "cell_type": "code",
   "source": [
    "from tomi import MIDIProcessor, RollPrintingMode\n",
    "import warnings\n",
    "warnings.filterwarnings('ignore')"
   ],
   "id": "a649ff541e6a6305",
   "outputs": [],
   "execution_count": 2
  },
  {
   "cell_type": "code",
   "id": "565e0632627e9e6f",
   "metadata": {
    "ExecuteTime": {
     "end_time": "2025-06-20T17:07:47.962082Z",
     "start_time": "2025-06-20T17:07:47.859098Z"
    }
   },
   "source": [
    "# create a MIDIProcessor objects\n",
    "midi1_composite = MIDIProcessor('./midi1_composite.mid')\n",
    "\n",
    "# if you want to load the MIDI into a different BPM, try:\n",
    "# midi1_composite = MIDIProcessor('./midi1_composite.mid', target_bpm=100) # The MIDI will be converted to BPM 100."
   ],
   "outputs": [],
   "execution_count": 3
  },
  {
   "metadata": {},
   "cell_type": "markdown",
   "source": "### Baisc Features",
   "id": "4382fa70efea1fe2"
  },
  {
   "metadata": {
    "ExecuteTime": {
     "end_time": "2025-06-20T17:07:51.543156Z",
     "start_time": "2025-06-20T17:07:51.540379Z"
    }
   },
   "cell_type": "code",
   "source": [
    "def print_features(midi: MIDIProcessor):\n",
    "    print(f\"File: {midi.name}\\nBPM: {midi.bpm}\\nKey: {midi.key}\\nDuration (Seconds): {midi.midi.end_time}\\nDuration (BarStepTick): {midi.midi.end_bst}\\nCeil BST: {midi.ceil_bst}\")\n",
    "\n",
    "print_features(midi1_composite)\n",
    "# \"3b15s23t(4/4)\" means 3 bars 15 steps and 23 ticks in 4/4 time signature."
   ],
   "id": "462f4e4b9fc3028",
   "outputs": [
    {
     "name": "stdout",
     "output_type": "stream",
     "text": [
      "File: ./midi1_composite.mid\n",
      "BPM: 120\n",
      "Key: CMajor\n",
      "Duration (Seconds): 7.994791666666666\n",
      "Duration (BarStepTick): 3b15s23t(4/4)\n",
      "Ceil BST: 4b(4/4)\n"
     ]
    }
   ],
   "execution_count": 4
  },
  {
   "metadata": {},
   "cell_type": "markdown",
   "source": [
    "### Piano Roll Visualization\n",
    "There are 3 view modes:\n",
    "* RollPrintingMode.Compact (only displays the pitch rows containing notes)\n",
    "* RollPrintingMode.Normal (only displays the pitch rows from the top note row to the bottom note row)\n",
    "* RollPrintingMode.Full (displays all 128 pitch rows)\n",
    "\n",
    "In the view, the \"▆\" blocks represent note durations, and the taller \"█\" blocks indicate note onsets. A dimmer color indicates a lower note velocity."
   ],
   "id": "9287bcd2d1d0d3c5"
  },
  {
   "cell_type": "code",
   "id": "88b5de6ac3449049",
   "metadata": {
    "ExecuteTime": {
     "end_time": "2025-06-19T16:25:13.683323Z",
     "start_time": "2025-06-19T16:25:13.655970Z"
    }
   },
   "source": [
    "# visualize MIDI piano roll and meta-info\n",
    "# Compact mode (default)\n",
    "midi1_composite.piano_roll.print_roll(mode=RollPrintingMode.Compact)"
   ],
   "outputs": [
    {
     "name": "stdout",
     "output_type": "stream",
     "text": [
      "View: Compact, Type: Composite, MIDI: ./midi1_composite.mid, TimeSignature: 4/4\n",
      "Quantization Mode: Start_end, Quantization Factor: 16, Length: 4bars 0steps 0ticks \n",
      "key: CMajor/AMinor\n"
     ]
    },
    {
     "data": {
      "text/plain": [
       "<IPython.core.display.HTML object>"
      ],
      "text/html": [
       "\n",
       "                    <div style=\"\n",
       "                        overflow-x: auto;\n",
       "                        white-space: pre;\n",
       "                        font-family: monospace;\n",
       "                        line-height: 1.1;\n",
       "                        font-size: 16px;\n",
       "                        padding: 4px;\n",
       "                        margin: 0;\n",
       "                    \">┏━━━━┳┳━━━┯━━━┯━━━┯━━━┳━━━┯━━━┯━━━┯━━━┳━━━┯━━━┯━━━┯━━━┳━━━┯━━━┯━━━┯━━━┓\n",
       "┃  A5┃|           <span style=\"color: #46FFFF\">█</span><span style=\"color: #46FFFF\">▆</span><span style=\"color: #46FFFF\">▆</span><span style=\"color: #46FFFF\">▆</span>|               |           <span style=\"color: #46FFFF\">█</span><span style=\"color: #46FFFF\">▆</span><span style=\"color: #46FFFF\">▆</span><span style=\"color: #46FFFF\">▆</span>|               ┃\n",
       "┃  G5┃<span style=\"color: #58FFFF\">█</span><span style=\"color: #58FFFF\">▆</span><span style=\"color: #58FFFF\">▆</span><span style=\"color: #58FFFF\">▆</span><span style=\"color: #58FFFF\">▆</span><span style=\"color: #58FFFF\">▆</span><span style=\"color: #58FFFF\">▆</span><span style=\"color: #58FFFF\">▆</span>  <span style=\"color: #3EFFFF\">█</span><span style=\"color: #3EFFFF\">▆</span>    <span style=\"color: #2BFFFF\">█</span><span style=\"color: #2BFFFF\">▆</span><span style=\"color: #2BFFFF\">▆</span><span style=\"color: #2BFFFF\">▆</span><span style=\"color: #2BFFFF\">▆</span><span style=\"color: #2BFFFF\">▆</span><span style=\"color: #2BFFFF\">▆</span><span style=\"color: #2BFFFF\">▆</span>        <span style=\"color: #58FFFF\">█</span><span style=\"color: #58FFFF\">▆</span><span style=\"color: #58FFFF\">▆</span><span style=\"color: #58FFFF\">▆</span><span style=\"color: #58FFFF\">▆</span><span style=\"color: #58FFFF\">▆</span><span style=\"color: #58FFFF\">▆</span><span style=\"color: #58FFFF\">▆</span>  <span style=\"color: #3EFFFF\">█</span><span style=\"color: #3EFFFF\">▆</span>    <span style=\"color: #2BFFFF\">█</span><span style=\"color: #2BFFFF\">▆</span><span style=\"color: #2BFFFF\">▆</span><span style=\"color: #2BFFFF\">▆</span><span style=\"color: #2BFFFF\">▆</span><span style=\"color: #2BFFFF\">▆</span><span style=\"color: #2BFFFF\">▆</span><span style=\"color: #2BFFFF\">▆</span>        ┃\n",
       "┃  F5┃<span style=\"color: #3DFFFF\">█</span>       <span style=\"color: #3EFFFF\">█</span><span style=\"color: #3EFFFF\">▆</span>      |               <span style=\"color: #3DFFFF\">█</span>       <span style=\"color: #3EFFFF\">█</span><span style=\"color: #3EFFFF\">▆</span>      |               ┃\n",
       "┃  C5┃|               |       <span style=\"color: #34FFFF\">█</span><span style=\"color: #34FFFF\">▆</span><span style=\"color: #34FFFF\">▆</span><span style=\"color: #34FFFF\">▆</span><span style=\"color: #34FFFF\">▆</span><span style=\"color: #34FFFF\">▆</span><span style=\"color: #34FFFF\">▆</span><span style=\"color: #34FFFF\">▆</span>|               |       <span style=\"color: #34FFFF\">█</span><span style=\"color: #34FFFF\">▆</span><span style=\"color: #34FFFF\">▆</span><span style=\"color: #34FFFF\">▆</span><span style=\"color: #34FFFF\">▆</span><span style=\"color: #34FFFF\">▆</span><span style=\"color: #34FFFF\">▆</span><span style=\"color: #34FFFF\">▆</span>┃\n",
       "┃  G4┃|               <span style=\"color: #3AFFFF\">█</span><span style=\"color: #3AFFFF\">▆</span><span style=\"color: #3AFFFF\">▆</span><span style=\"color: #3AFFFF\">▆</span><span style=\"color: #3AFFFF\">▆</span><span style=\"color: #3AFFFF\">▆</span><span style=\"color: #3AFFFF\">▆</span><span style=\"color: #3AFFFF\">▆</span><span style=\"color: #3AFFFF\">▆</span><span style=\"color: #3AFFFF\">▆</span><span style=\"color: #3AFFFF\">▆</span><span style=\"color: #3AFFFF\">▆</span><span style=\"color: #3AFFFF\">▆</span><span style=\"color: #3AFFFF\">▆</span><span style=\"color: #3AFFFF\">▆</span><span style=\"color: #3AFFFF\">▆</span>|               <span style=\"color: #3AFFFF\">█</span><span style=\"color: #3AFFFF\">▆</span><span style=\"color: #3AFFFF\">▆</span><span style=\"color: #3AFFFF\">▆</span><span style=\"color: #3AFFFF\">▆</span><span style=\"color: #3AFFFF\">▆</span><span style=\"color: #3AFFFF\">▆</span><span style=\"color: #3AFFFF\">▆</span><span style=\"color: #3AFFFF\">▆</span><span style=\"color: #3AFFFF\">▆</span><span style=\"color: #3AFFFF\">▆</span><span style=\"color: #3AFFFF\">▆</span><span style=\"color: #3AFFFF\">▆</span><span style=\"color: #3AFFFF\">▆</span><span style=\"color: #3AFFFF\">▆</span><span style=\"color: #3AFFFF\">▆</span>┃\n",
       "┃  F4┃<span style=\"color: #3AFFFF\">█</span><span style=\"color: #3AFFFF\">▆</span><span style=\"color: #3AFFFF\">▆</span><span style=\"color: #3AFFFF\">▆</span><span style=\"color: #3AFFFF\">▆</span><span style=\"color: #3AFFFF\">▆</span><span style=\"color: #3AFFFF\">▆</span><span style=\"color: #3AFFFF\">▆</span><span style=\"color: #3AFFFF\">▆</span><span style=\"color: #3AFFFF\">▆</span><span style=\"color: #3AFFFF\">▆</span><span style=\"color: #3AFFFF\">▆</span><span style=\"color: #3AFFFF\">▆</span><span style=\"color: #3AFFFF\">▆</span><span style=\"color: #3AFFFF\">▆</span><span style=\"color: #3AFFFF\">▆</span>|               <span style=\"color: #3AFFFF\">█</span><span style=\"color: #3AFFFF\">▆</span><span style=\"color: #3AFFFF\">▆</span><span style=\"color: #3AFFFF\">▆</span><span style=\"color: #3AFFFF\">▆</span><span style=\"color: #3AFFFF\">▆</span><span style=\"color: #3AFFFF\">▆</span><span style=\"color: #3AFFFF\">▆</span><span style=\"color: #3AFFFF\">▆</span><span style=\"color: #3AFFFF\">▆</span><span style=\"color: #3AFFFF\">▆</span><span style=\"color: #3AFFFF\">▆</span><span style=\"color: #3AFFFF\">▆</span><span style=\"color: #3AFFFF\">▆</span><span style=\"color: #3AFFFF\">▆</span><span style=\"color: #3AFFFF\">▆</span>|               ┃\n",
       "┃  E4┃|               <span style=\"color: #2CFFFF\">█</span><span style=\"color: #2CFFFF\">▆</span><span style=\"color: #2CFFFF\">▆</span><span style=\"color: #2CFFFF\">▆</span><span style=\"color: #2CFFFF\">▆</span><span style=\"color: #2CFFFF\">▆</span><span style=\"color: #2CFFFF\">▆</span><span style=\"color: #2CFFFF\">▆</span><span style=\"color: #2CFFFF\">▆</span><span style=\"color: #2CFFFF\">▆</span><span style=\"color: #2CFFFF\">▆</span><span style=\"color: #2CFFFF\">▆</span><span style=\"color: #2CFFFF\">▆</span><span style=\"color: #2CFFFF\">▆</span><span style=\"color: #2CFFFF\">▆</span><span style=\"color: #2CFFFF\">▆</span>|               <span style=\"color: #2CFFFF\">█</span><span style=\"color: #2CFFFF\">▆</span><span style=\"color: #2CFFFF\">▆</span><span style=\"color: #2CFFFF\">▆</span><span style=\"color: #2CFFFF\">▆</span><span style=\"color: #2CFFFF\">▆</span><span style=\"color: #2CFFFF\">▆</span><span style=\"color: #2CFFFF\">▆</span><span style=\"color: #2CFFFF\">▆</span><span style=\"color: #2CFFFF\">▆</span><span style=\"color: #2CFFFF\">▆</span><span style=\"color: #2CFFFF\">▆</span><span style=\"color: #2CFFFF\">▆</span><span style=\"color: #2CFFFF\">▆</span><span style=\"color: #2CFFFF\">▆</span><span style=\"color: #2CFFFF\">▆</span>┃\n",
       "┃  D4┃<span style=\"color: #2CFFFF\">█</span><span style=\"color: #2CFFFF\">▆</span><span style=\"color: #2CFFFF\">▆</span><span style=\"color: #2CFFFF\">▆</span><span style=\"color: #2CFFFF\">▆</span><span style=\"color: #2CFFFF\">▆</span><span style=\"color: #2CFFFF\">▆</span><span style=\"color: #2CFFFF\">▆</span><span style=\"color: #2CFFFF\">▆</span><span style=\"color: #2CFFFF\">▆</span><span style=\"color: #2CFFFF\">▆</span><span style=\"color: #2CFFFF\">▆</span><span style=\"color: #2CFFFF\">▆</span><span style=\"color: #2CFFFF\">▆</span><span style=\"color: #2CFFFF\">▆</span><span style=\"color: #2CFFFF\">▆</span>|               <span style=\"color: #2CFFFF\">█</span><span style=\"color: #2CFFFF\">▆</span><span style=\"color: #2CFFFF\">▆</span><span style=\"color: #2CFFFF\">▆</span><span style=\"color: #2CFFFF\">▆</span><span style=\"color: #2CFFFF\">▆</span><span style=\"color: #2CFFFF\">▆</span><span style=\"color: #2CFFFF\">▆</span><span style=\"color: #2CFFFF\">▆</span><span style=\"color: #2CFFFF\">▆</span><span style=\"color: #2CFFFF\">▆</span><span style=\"color: #2CFFFF\">▆</span><span style=\"color: #2CFFFF\">▆</span><span style=\"color: #2CFFFF\">▆</span><span style=\"color: #2CFFFF\">▆</span><span style=\"color: #2CFFFF\">▆</span>|               ┃\n",
       "┃  A3┃|               <span style=\"color: #32FFFF\">█</span><span style=\"color: #32FFFF\">▆</span><span style=\"color: #32FFFF\">▆</span><span style=\"color: #32FFFF\">▆</span><span style=\"color: #32FFFF\">▆</span><span style=\"color: #32FFFF\">▆</span><span style=\"color: #32FFFF\">▆</span><span style=\"color: #32FFFF\">▆</span><span style=\"color: #32FFFF\">▆</span><span style=\"color: #32FFFF\">▆</span><span style=\"color: #32FFFF\">▆</span><span style=\"color: #32FFFF\">▆</span><span style=\"color: #32FFFF\">▆</span><span style=\"color: #32FFFF\">▆</span><span style=\"color: #32FFFF\">▆</span><span style=\"color: #32FFFF\">▆</span>|               <span style=\"color: #32FFFF\">█</span><span style=\"color: #32FFFF\">▆</span><span style=\"color: #32FFFF\">▆</span><span style=\"color: #32FFFF\">▆</span><span style=\"color: #32FFFF\">▆</span><span style=\"color: #32FFFF\">▆</span><span style=\"color: #32FFFF\">▆</span><span style=\"color: #32FFFF\">▆</span><span style=\"color: #32FFFF\">▆</span><span style=\"color: #32FFFF\">▆</span><span style=\"color: #32FFFF\">▆</span><span style=\"color: #32FFFF\">▆</span><span style=\"color: #32FFFF\">▆</span><span style=\"color: #32FFFF\">▆</span><span style=\"color: #32FFFF\">▆</span><span style=\"color: #32FFFF\">▆</span>┃\n",
       "┃  G3┃<span style=\"color: #32FFFF\">█</span><span style=\"color: #32FFFF\">▆</span><span style=\"color: #32FFFF\">▆</span><span style=\"color: #32FFFF\">▆</span><span style=\"color: #32FFFF\">▆</span><span style=\"color: #32FFFF\">▆</span><span style=\"color: #32FFFF\">▆</span><span style=\"color: #32FFFF\">▆</span><span style=\"color: #32FFFF\">▆</span><span style=\"color: #32FFFF\">▆</span><span style=\"color: #32FFFF\">▆</span><span style=\"color: #32FFFF\">▆</span><span style=\"color: #32FFFF\">▆</span><span style=\"color: #32FFFF\">▆</span><span style=\"color: #32FFFF\">▆</span><span style=\"color: #32FFFF\">▆</span>|               <span style=\"color: #32FFFF\">█</span><span style=\"color: #32FFFF\">▆</span><span style=\"color: #32FFFF\">▆</span><span style=\"color: #32FFFF\">▆</span><span style=\"color: #32FFFF\">▆</span><span style=\"color: #32FFFF\">▆</span><span style=\"color: #32FFFF\">▆</span><span style=\"color: #32FFFF\">▆</span><span style=\"color: #32FFFF\">▆</span><span style=\"color: #32FFFF\">▆</span><span style=\"color: #32FFFF\">▆</span><span style=\"color: #32FFFF\">▆</span><span style=\"color: #32FFFF\">▆</span><span style=\"color: #32FFFF\">▆</span><span style=\"color: #32FFFF\">▆</span><span style=\"color: #32FFFF\">▆</span>|               ┃\n",
       "┃  D3┃|               <span style=\"color: #27FFFF\">█</span><span style=\"color: #27FFFF\">▆</span><span style=\"color: #27FFFF\">▆</span><span style=\"color: #27FFFF\">▆</span><span style=\"color: #27FFFF\">▆</span><span style=\"color: #27FFFF\">▆</span><span style=\"color: #27FFFF\">▆</span><span style=\"color: #27FFFF\">▆</span><span style=\"color: #27FFFF\">▆</span><span style=\"color: #27FFFF\">▆</span><span style=\"color: #27FFFF\">▆</span><span style=\"color: #27FFFF\">▆</span><span style=\"color: #27FFFF\">▆</span><span style=\"color: #27FFFF\">▆</span><span style=\"color: #27FFFF\">▆</span><span style=\"color: #27FFFF\">▆</span>|               <span style=\"color: #27FFFF\">█</span><span style=\"color: #27FFFF\">▆</span><span style=\"color: #27FFFF\">▆</span><span style=\"color: #27FFFF\">▆</span><span style=\"color: #27FFFF\">▆</span><span style=\"color: #27FFFF\">▆</span><span style=\"color: #27FFFF\">▆</span><span style=\"color: #27FFFF\">▆</span><span style=\"color: #27FFFF\">▆</span><span style=\"color: #27FFFF\">▆</span><span style=\"color: #27FFFF\">▆</span><span style=\"color: #27FFFF\">▆</span><span style=\"color: #27FFFF\">▆</span><span style=\"color: #27FFFF\">▆</span><span style=\"color: #27FFFF\">▆</span><span style=\"color: #27FFFF\">▆</span>┃\n",
       "┃  C3┃<span style=\"color: #27FFFF\">█</span><span style=\"color: #27FFFF\">▆</span><span style=\"color: #27FFFF\">▆</span><span style=\"color: #27FFFF\">▆</span><span style=\"color: #27FFFF\">▆</span><span style=\"color: #27FFFF\">▆</span><span style=\"color: #27FFFF\">▆</span><span style=\"color: #27FFFF\">▆</span><span style=\"color: #27FFFF\">▆</span><span style=\"color: #27FFFF\">▆</span><span style=\"color: #64FFFF\">▆</span><span style=\"color: #64FFFF\">▆</span><span style=\"color: #27FFFF\">▆</span><span style=\"color: #27FFFF\">▆</span><span style=\"color: #27FFFF\">▆</span><span style=\"color: #27FFFF\">▆</span>|               <span style=\"color: #27FFFF\">█</span><span style=\"color: #27FFFF\">▆</span><span style=\"color: #27FFFF\">▆</span><span style=\"color: #27FFFF\">▆</span><span style=\"color: #27FFFF\">▆</span><span style=\"color: #27FFFF\">▆</span><span style=\"color: #27FFFF\">▆</span><span style=\"color: #27FFFF\">▆</span><span style=\"color: #27FFFF\">▆</span><span style=\"color: #27FFFF\">▆</span><span style=\"color: #64FFFF\">▆</span><span style=\"color: #64FFFF\">▆</span><span style=\"color: #27FFFF\">▆</span><span style=\"color: #27FFFF\">▆</span><span style=\"color: #27FFFF\">▆</span><span style=\"color: #27FFFF\">▆</span>|               ┃\n",
       "┗━━━━┻┻━━━┷━━━┷━━━┷━━━┻━━━┷━━━┷━━━┷━━━┻━━━┷━━━┷━━━┷━━━┻━━━┷━━━┷━━━┷━━━┛\n",
       "      0               1               2               3               4</div>\n",
       "                    "
      ]
     },
     "metadata": {},
     "output_type": "display_data"
    }
   ],
   "execution_count": 4
  },
  {
   "metadata": {
    "ExecuteTime": {
     "end_time": "2025-06-19T16:25:17.749593Z",
     "start_time": "2025-06-19T16:25:17.728874Z"
    }
   },
   "cell_type": "code",
   "source": [
    "# Normal mode\n",
    "midi1_composite.piano_roll.print_roll(mode=RollPrintingMode.Normal)"
   ],
   "id": "e0707867896b01a5",
   "outputs": [
    {
     "name": "stdout",
     "output_type": "stream",
     "text": [
      "View: Normal, Type: Composite, MIDI: ./midi1_composite.mid, TimeSignature: 4/4\n",
      "Quantization Mode: Start_end, Quantization Factor: 16, Length: 4bars 0steps 0ticks \n",
      "key: CMajor/AMinor\n"
     ]
    },
    {
     "data": {
      "text/plain": [
       "<IPython.core.display.HTML object>"
      ],
      "text/html": [
       "\n",
       "                    <div style=\"\n",
       "                        overflow-x: auto;\n",
       "                        white-space: pre;\n",
       "                        font-family: monospace;\n",
       "                        line-height: 1.1;\n",
       "                        font-size: 16px;\n",
       "                        padding: 4px;\n",
       "                        margin: 0;\n",
       "                    \">┏━━━━━┳┳━━━┯━━━┯━━━┯━━━┳━━━┯━━━┯━━━┯━━━┳━━━┯━━━┯━━━┯━━━┳━━━┯━━━┯━━━┯━━━┓\n",
       "┃   A5┃|           <span style=\"color: #46FFFF\">█</span><span style=\"color: #46FFFF\">▆</span><span style=\"color: #46FFFF\">▆</span><span style=\"color: #46FFFF\">▆</span>|               |           <span style=\"color: #46FFFF\">█</span><span style=\"color: #46FFFF\">▆</span><span style=\"color: #46FFFF\">▆</span><span style=\"color: #46FFFF\">▆</span>|               ┃\n",
       "┃  G#5┃|               |               |               |               ┃\n",
       "┃   G5┃<span style=\"color: #58FFFF\">█</span><span style=\"color: #58FFFF\">▆</span><span style=\"color: #58FFFF\">▆</span><span style=\"color: #58FFFF\">▆</span><span style=\"color: #58FFFF\">▆</span><span style=\"color: #58FFFF\">▆</span><span style=\"color: #58FFFF\">▆</span><span style=\"color: #58FFFF\">▆</span>  <span style=\"color: #3EFFFF\">█</span><span style=\"color: #3EFFFF\">▆</span>    <span style=\"color: #2BFFFF\">█</span><span style=\"color: #2BFFFF\">▆</span><span style=\"color: #2BFFFF\">▆</span><span style=\"color: #2BFFFF\">▆</span><span style=\"color: #2BFFFF\">▆</span><span style=\"color: #2BFFFF\">▆</span><span style=\"color: #2BFFFF\">▆</span><span style=\"color: #2BFFFF\">▆</span>        <span style=\"color: #58FFFF\">█</span><span style=\"color: #58FFFF\">▆</span><span style=\"color: #58FFFF\">▆</span><span style=\"color: #58FFFF\">▆</span><span style=\"color: #58FFFF\">▆</span><span style=\"color: #58FFFF\">▆</span><span style=\"color: #58FFFF\">▆</span><span style=\"color: #58FFFF\">▆</span>  <span style=\"color: #3EFFFF\">█</span><span style=\"color: #3EFFFF\">▆</span>    <span style=\"color: #2BFFFF\">█</span><span style=\"color: #2BFFFF\">▆</span><span style=\"color: #2BFFFF\">▆</span><span style=\"color: #2BFFFF\">▆</span><span style=\"color: #2BFFFF\">▆</span><span style=\"color: #2BFFFF\">▆</span><span style=\"color: #2BFFFF\">▆</span><span style=\"color: #2BFFFF\">▆</span>        ┃\n",
       "┃  F#5┃|               |               |               |               ┃\n",
       "┃   F5┃<span style=\"color: #3DFFFF\">█</span>       <span style=\"color: #3EFFFF\">█</span><span style=\"color: #3EFFFF\">▆</span>      |               <span style=\"color: #3DFFFF\">█</span>       <span style=\"color: #3EFFFF\">█</span><span style=\"color: #3EFFFF\">▆</span>      |               ┃\n",
       "┃   E5┃|               |               |               |               ┃\n",
       "┃  D#5┃|               |               |               |               ┃\n",
       "┃   D5┃|               |               |               |               ┃\n",
       "┃  C#5┃|               |               |               |               ┃\n",
       "┃   C5┃|               |       <span style=\"color: #34FFFF\">█</span><span style=\"color: #34FFFF\">▆</span><span style=\"color: #34FFFF\">▆</span><span style=\"color: #34FFFF\">▆</span><span style=\"color: #34FFFF\">▆</span><span style=\"color: #34FFFF\">▆</span><span style=\"color: #34FFFF\">▆</span><span style=\"color: #34FFFF\">▆</span>|               |       <span style=\"color: #34FFFF\">█</span><span style=\"color: #34FFFF\">▆</span><span style=\"color: #34FFFF\">▆</span><span style=\"color: #34FFFF\">▆</span><span style=\"color: #34FFFF\">▆</span><span style=\"color: #34FFFF\">▆</span><span style=\"color: #34FFFF\">▆</span><span style=\"color: #34FFFF\">▆</span>┃\n",
       "┃   B4┃|               |               |               |               ┃\n",
       "┃  A#4┃|               |               |               |               ┃\n",
       "┃   A4┃|               |               |               |               ┃\n",
       "┃  G#4┃|               |               |               |               ┃\n",
       "┃   G4┃|               <span style=\"color: #3AFFFF\">█</span><span style=\"color: #3AFFFF\">▆</span><span style=\"color: #3AFFFF\">▆</span><span style=\"color: #3AFFFF\">▆</span><span style=\"color: #3AFFFF\">▆</span><span style=\"color: #3AFFFF\">▆</span><span style=\"color: #3AFFFF\">▆</span><span style=\"color: #3AFFFF\">▆</span><span style=\"color: #3AFFFF\">▆</span><span style=\"color: #3AFFFF\">▆</span><span style=\"color: #3AFFFF\">▆</span><span style=\"color: #3AFFFF\">▆</span><span style=\"color: #3AFFFF\">▆</span><span style=\"color: #3AFFFF\">▆</span><span style=\"color: #3AFFFF\">▆</span><span style=\"color: #3AFFFF\">▆</span>|               <span style=\"color: #3AFFFF\">█</span><span style=\"color: #3AFFFF\">▆</span><span style=\"color: #3AFFFF\">▆</span><span style=\"color: #3AFFFF\">▆</span><span style=\"color: #3AFFFF\">▆</span><span style=\"color: #3AFFFF\">▆</span><span style=\"color: #3AFFFF\">▆</span><span style=\"color: #3AFFFF\">▆</span><span style=\"color: #3AFFFF\">▆</span><span style=\"color: #3AFFFF\">▆</span><span style=\"color: #3AFFFF\">▆</span><span style=\"color: #3AFFFF\">▆</span><span style=\"color: #3AFFFF\">▆</span><span style=\"color: #3AFFFF\">▆</span><span style=\"color: #3AFFFF\">▆</span><span style=\"color: #3AFFFF\">▆</span>┃\n",
       "┃  F#4┃|               |               |               |               ┃\n",
       "┃   F4┃<span style=\"color: #3AFFFF\">█</span><span style=\"color: #3AFFFF\">▆</span><span style=\"color: #3AFFFF\">▆</span><span style=\"color: #3AFFFF\">▆</span><span style=\"color: #3AFFFF\">▆</span><span style=\"color: #3AFFFF\">▆</span><span style=\"color: #3AFFFF\">▆</span><span style=\"color: #3AFFFF\">▆</span><span style=\"color: #3AFFFF\">▆</span><span style=\"color: #3AFFFF\">▆</span><span style=\"color: #3AFFFF\">▆</span><span style=\"color: #3AFFFF\">▆</span><span style=\"color: #3AFFFF\">▆</span><span style=\"color: #3AFFFF\">▆</span><span style=\"color: #3AFFFF\">▆</span><span style=\"color: #3AFFFF\">▆</span>|               <span style=\"color: #3AFFFF\">█</span><span style=\"color: #3AFFFF\">▆</span><span style=\"color: #3AFFFF\">▆</span><span style=\"color: #3AFFFF\">▆</span><span style=\"color: #3AFFFF\">▆</span><span style=\"color: #3AFFFF\">▆</span><span style=\"color: #3AFFFF\">▆</span><span style=\"color: #3AFFFF\">▆</span><span style=\"color: #3AFFFF\">▆</span><span style=\"color: #3AFFFF\">▆</span><span style=\"color: #3AFFFF\">▆</span><span style=\"color: #3AFFFF\">▆</span><span style=\"color: #3AFFFF\">▆</span><span style=\"color: #3AFFFF\">▆</span><span style=\"color: #3AFFFF\">▆</span><span style=\"color: #3AFFFF\">▆</span>|               ┃\n",
       "┃   E4┃|               <span style=\"color: #2CFFFF\">█</span><span style=\"color: #2CFFFF\">▆</span><span style=\"color: #2CFFFF\">▆</span><span style=\"color: #2CFFFF\">▆</span><span style=\"color: #2CFFFF\">▆</span><span style=\"color: #2CFFFF\">▆</span><span style=\"color: #2CFFFF\">▆</span><span style=\"color: #2CFFFF\">▆</span><span style=\"color: #2CFFFF\">▆</span><span style=\"color: #2CFFFF\">▆</span><span style=\"color: #2CFFFF\">▆</span><span style=\"color: #2CFFFF\">▆</span><span style=\"color: #2CFFFF\">▆</span><span style=\"color: #2CFFFF\">▆</span><span style=\"color: #2CFFFF\">▆</span><span style=\"color: #2CFFFF\">▆</span>|               <span style=\"color: #2CFFFF\">█</span><span style=\"color: #2CFFFF\">▆</span><span style=\"color: #2CFFFF\">▆</span><span style=\"color: #2CFFFF\">▆</span><span style=\"color: #2CFFFF\">▆</span><span style=\"color: #2CFFFF\">▆</span><span style=\"color: #2CFFFF\">▆</span><span style=\"color: #2CFFFF\">▆</span><span style=\"color: #2CFFFF\">▆</span><span style=\"color: #2CFFFF\">▆</span><span style=\"color: #2CFFFF\">▆</span><span style=\"color: #2CFFFF\">▆</span><span style=\"color: #2CFFFF\">▆</span><span style=\"color: #2CFFFF\">▆</span><span style=\"color: #2CFFFF\">▆</span><span style=\"color: #2CFFFF\">▆</span>┃\n",
       "┃  D#4┃|               |               |               |               ┃\n",
       "┃   D4┃<span style=\"color: #2CFFFF\">█</span><span style=\"color: #2CFFFF\">▆</span><span style=\"color: #2CFFFF\">▆</span><span style=\"color: #2CFFFF\">▆</span><span style=\"color: #2CFFFF\">▆</span><span style=\"color: #2CFFFF\">▆</span><span style=\"color: #2CFFFF\">▆</span><span style=\"color: #2CFFFF\">▆</span><span style=\"color: #2CFFFF\">▆</span><span style=\"color: #2CFFFF\">▆</span><span style=\"color: #2CFFFF\">▆</span><span style=\"color: #2CFFFF\">▆</span><span style=\"color: #2CFFFF\">▆</span><span style=\"color: #2CFFFF\">▆</span><span style=\"color: #2CFFFF\">▆</span><span style=\"color: #2CFFFF\">▆</span>|               <span style=\"color: #2CFFFF\">█</span><span style=\"color: #2CFFFF\">▆</span><span style=\"color: #2CFFFF\">▆</span><span style=\"color: #2CFFFF\">▆</span><span style=\"color: #2CFFFF\">▆</span><span style=\"color: #2CFFFF\">▆</span><span style=\"color: #2CFFFF\">▆</span><span style=\"color: #2CFFFF\">▆</span><span style=\"color: #2CFFFF\">▆</span><span style=\"color: #2CFFFF\">▆</span><span style=\"color: #2CFFFF\">▆</span><span style=\"color: #2CFFFF\">▆</span><span style=\"color: #2CFFFF\">▆</span><span style=\"color: #2CFFFF\">▆</span><span style=\"color: #2CFFFF\">▆</span><span style=\"color: #2CFFFF\">▆</span>|               ┃\n",
       "┃  C#4┃|               |               |               |               ┃\n",
       "┃   C4┃|               |               |               |               ┃\n",
       "┃   B3┃|               |               |               |               ┃\n",
       "┃  A#3┃|               |               |               |               ┃\n",
       "┃   A3┃|               <span style=\"color: #32FFFF\">█</span><span style=\"color: #32FFFF\">▆</span><span style=\"color: #32FFFF\">▆</span><span style=\"color: #32FFFF\">▆</span><span style=\"color: #32FFFF\">▆</span><span style=\"color: #32FFFF\">▆</span><span style=\"color: #32FFFF\">▆</span><span style=\"color: #32FFFF\">▆</span><span style=\"color: #32FFFF\">▆</span><span style=\"color: #32FFFF\">▆</span><span style=\"color: #32FFFF\">▆</span><span style=\"color: #32FFFF\">▆</span><span style=\"color: #32FFFF\">▆</span><span style=\"color: #32FFFF\">▆</span><span style=\"color: #32FFFF\">▆</span><span style=\"color: #32FFFF\">▆</span>|               <span style=\"color: #32FFFF\">█</span><span style=\"color: #32FFFF\">▆</span><span style=\"color: #32FFFF\">▆</span><span style=\"color: #32FFFF\">▆</span><span style=\"color: #32FFFF\">▆</span><span style=\"color: #32FFFF\">▆</span><span style=\"color: #32FFFF\">▆</span><span style=\"color: #32FFFF\">▆</span><span style=\"color: #32FFFF\">▆</span><span style=\"color: #32FFFF\">▆</span><span style=\"color: #32FFFF\">▆</span><span style=\"color: #32FFFF\">▆</span><span style=\"color: #32FFFF\">▆</span><span style=\"color: #32FFFF\">▆</span><span style=\"color: #32FFFF\">▆</span><span style=\"color: #32FFFF\">▆</span>┃\n",
       "┃  G#3┃|               |               |               |               ┃\n",
       "┃   G3┃<span style=\"color: #32FFFF\">█</span><span style=\"color: #32FFFF\">▆</span><span style=\"color: #32FFFF\">▆</span><span style=\"color: #32FFFF\">▆</span><span style=\"color: #32FFFF\">▆</span><span style=\"color: #32FFFF\">▆</span><span style=\"color: #32FFFF\">▆</span><span style=\"color: #32FFFF\">▆</span><span style=\"color: #32FFFF\">▆</span><span style=\"color: #32FFFF\">▆</span><span style=\"color: #32FFFF\">▆</span><span style=\"color: #32FFFF\">▆</span><span style=\"color: #32FFFF\">▆</span><span style=\"color: #32FFFF\">▆</span><span style=\"color: #32FFFF\">▆</span><span style=\"color: #32FFFF\">▆</span>|               <span style=\"color: #32FFFF\">█</span><span style=\"color: #32FFFF\">▆</span><span style=\"color: #32FFFF\">▆</span><span style=\"color: #32FFFF\">▆</span><span style=\"color: #32FFFF\">▆</span><span style=\"color: #32FFFF\">▆</span><span style=\"color: #32FFFF\">▆</span><span style=\"color: #32FFFF\">▆</span><span style=\"color: #32FFFF\">▆</span><span style=\"color: #32FFFF\">▆</span><span style=\"color: #32FFFF\">▆</span><span style=\"color: #32FFFF\">▆</span><span style=\"color: #32FFFF\">▆</span><span style=\"color: #32FFFF\">▆</span><span style=\"color: #32FFFF\">▆</span><span style=\"color: #32FFFF\">▆</span>|               ┃\n",
       "┃  F#3┃|               |               |               |               ┃\n",
       "┃   F3┃|               |               |               |               ┃\n",
       "┃   E3┃|               |               |               |               ┃\n",
       "┃  D#3┃|               |               |               |               ┃\n",
       "┃   D3┃|               <span style=\"color: #27FFFF\">█</span><span style=\"color: #27FFFF\">▆</span><span style=\"color: #27FFFF\">▆</span><span style=\"color: #27FFFF\">▆</span><span style=\"color: #27FFFF\">▆</span><span style=\"color: #27FFFF\">▆</span><span style=\"color: #27FFFF\">▆</span><span style=\"color: #27FFFF\">▆</span><span style=\"color: #27FFFF\">▆</span><span style=\"color: #27FFFF\">▆</span><span style=\"color: #27FFFF\">▆</span><span style=\"color: #27FFFF\">▆</span><span style=\"color: #27FFFF\">▆</span><span style=\"color: #27FFFF\">▆</span><span style=\"color: #27FFFF\">▆</span><span style=\"color: #27FFFF\">▆</span>|               <span style=\"color: #27FFFF\">█</span><span style=\"color: #27FFFF\">▆</span><span style=\"color: #27FFFF\">▆</span><span style=\"color: #27FFFF\">▆</span><span style=\"color: #27FFFF\">▆</span><span style=\"color: #27FFFF\">▆</span><span style=\"color: #27FFFF\">▆</span><span style=\"color: #27FFFF\">▆</span><span style=\"color: #27FFFF\">▆</span><span style=\"color: #27FFFF\">▆</span><span style=\"color: #27FFFF\">▆</span><span style=\"color: #27FFFF\">▆</span><span style=\"color: #27FFFF\">▆</span><span style=\"color: #27FFFF\">▆</span><span style=\"color: #27FFFF\">▆</span><span style=\"color: #27FFFF\">▆</span>┃\n",
       "┃  C#3┃|               |               |               |               ┃\n",
       "┃   C3┃<span style=\"color: #27FFFF\">█</span><span style=\"color: #27FFFF\">▆</span><span style=\"color: #27FFFF\">▆</span><span style=\"color: #27FFFF\">▆</span><span style=\"color: #27FFFF\">▆</span><span style=\"color: #27FFFF\">▆</span><span style=\"color: #27FFFF\">▆</span><span style=\"color: #27FFFF\">▆</span><span style=\"color: #27FFFF\">▆</span><span style=\"color: #27FFFF\">▆</span><span style=\"color: #64FFFF\">▆</span><span style=\"color: #64FFFF\">▆</span><span style=\"color: #27FFFF\">▆</span><span style=\"color: #27FFFF\">▆</span><span style=\"color: #27FFFF\">▆</span><span style=\"color: #27FFFF\">▆</span>|               <span style=\"color: #27FFFF\">█</span><span style=\"color: #27FFFF\">▆</span><span style=\"color: #27FFFF\">▆</span><span style=\"color: #27FFFF\">▆</span><span style=\"color: #27FFFF\">▆</span><span style=\"color: #27FFFF\">▆</span><span style=\"color: #27FFFF\">▆</span><span style=\"color: #27FFFF\">▆</span><span style=\"color: #27FFFF\">▆</span><span style=\"color: #27FFFF\">▆</span><span style=\"color: #64FFFF\">▆</span><span style=\"color: #64FFFF\">▆</span><span style=\"color: #27FFFF\">▆</span><span style=\"color: #27FFFF\">▆</span><span style=\"color: #27FFFF\">▆</span><span style=\"color: #27FFFF\">▆</span>|               ┃\n",
       "┗━━━━━┻┻━━━┷━━━┷━━━┷━━━┻━━━┷━━━┷━━━┷━━━┻━━━┷━━━┷━━━┷━━━┻━━━┷━━━┷━━━┷━━━┛\n",
       "       0               1               2               3               4</div>\n",
       "                    "
      ]
     },
     "metadata": {},
     "output_type": "display_data"
    }
   ],
   "execution_count": 5
  },
  {
   "metadata": {
    "ExecuteTime": {
     "end_time": "2025-06-19T16:25:21.814749Z",
     "start_time": "2025-06-19T16:25:21.790504Z"
    }
   },
   "cell_type": "code",
   "source": [
    "# Full mode\n",
    "midi1_composite.piano_roll.print_roll(mode=RollPrintingMode.Full)"
   ],
   "id": "98be393fac32d2ae",
   "outputs": [
    {
     "name": "stdout",
     "output_type": "stream",
     "text": [
      "View: Full, Type: Composite, MIDI: ./midi1_composite.mid, TimeSignature: 4/4\n",
      "Quantization Mode: Start_end, Quantization Factor: 16, Length: 4bars 0steps 0ticks \n",
      "key: CMajor/AMinor\n"
     ]
    },
    {
     "data": {
      "text/plain": [
       "<IPython.core.display.HTML object>"
      ],
      "text/html": [
       "\n",
       "                    <div style=\"\n",
       "                        overflow-x: auto;\n",
       "                        white-space: pre;\n",
       "                        font-family: monospace;\n",
       "                        line-height: 1.1;\n",
       "                        font-size: 16px;\n",
       "                        padding: 4px;\n",
       "                        margin: 0;\n",
       "                    \">┏━━━━━━┳┳━━━┯━━━┯━━━┯━━━┳━━━┯━━━┯━━━┯━━━┳━━━┯━━━┯━━━┯━━━┳━━━┯━━━┯━━━┯━━━┓\n",
       "┃    G9┃|               |               |               |               ┃\n",
       "┃   F#9┃|               |               |               |               ┃\n",
       "┃    F9┃|               |               |               |               ┃\n",
       "┃    E9┃|               |               |               |               ┃\n",
       "┃   D#9┃|               |               |               |               ┃\n",
       "┃    D9┃|               |               |               |               ┃\n",
       "┃   C#9┃|               |               |               |               ┃\n",
       "┃    C9┃|               |               |               |               ┃\n",
       "┃    B8┃|               |               |               |               ┃\n",
       "┃   A#8┃|               |               |               |               ┃\n",
       "┃    A8┃|               |               |               |               ┃\n",
       "┃   G#8┃|               |               |               |               ┃\n",
       "┃    G8┃|               |               |               |               ┃\n",
       "┃   F#8┃|               |               |               |               ┃\n",
       "┃    F8┃|               |               |               |               ┃\n",
       "┃    E8┃|               |               |               |               ┃\n",
       "┃   D#8┃|               |               |               |               ┃\n",
       "┃    D8┃|               |               |               |               ┃\n",
       "┃   C#8┃|               |               |               |               ┃\n",
       "┃    C8┃|               |               |               |               ┃\n",
       "┃    B7┃|               |               |               |               ┃\n",
       "┃   A#7┃|               |               |               |               ┃\n",
       "┃    A7┃|               |               |               |               ┃\n",
       "┃   G#7┃|               |               |               |               ┃\n",
       "┃    G7┃|               |               |               |               ┃\n",
       "┃   F#7┃|               |               |               |               ┃\n",
       "┃    F7┃|               |               |               |               ┃\n",
       "┃    E7┃|               |               |               |               ┃\n",
       "┃   D#7┃|               |               |               |               ┃\n",
       "┃    D7┃|               |               |               |               ┃\n",
       "┃   C#7┃|               |               |               |               ┃\n",
       "┃    C7┃|               |               |               |               ┃\n",
       "┃    B6┃|               |               |               |               ┃\n",
       "┃   A#6┃|               |               |               |               ┃\n",
       "┃    A6┃|               |               |               |               ┃\n",
       "┃   G#6┃|               |               |               |               ┃\n",
       "┃    G6┃|               |               |               |               ┃\n",
       "┃   F#6┃|               |               |               |               ┃\n",
       "┃    F6┃|               |               |               |               ┃\n",
       "┃    E6┃|               |               |               |               ┃\n",
       "┃   D#6┃|               |               |               |               ┃\n",
       "┃    D6┃|               |               |               |               ┃\n",
       "┃   C#6┃|               |               |               |               ┃\n",
       "┃    C6┃|               |               |               |               ┃\n",
       "┃    B5┃|               |               |               |               ┃\n",
       "┃   A#5┃|               |               |               |               ┃\n",
       "┃    A5┃|           <span style=\"color: #46FFFF\">█</span><span style=\"color: #46FFFF\">▆</span><span style=\"color: #46FFFF\">▆</span><span style=\"color: #46FFFF\">▆</span>|               |           <span style=\"color: #46FFFF\">█</span><span style=\"color: #46FFFF\">▆</span><span style=\"color: #46FFFF\">▆</span><span style=\"color: #46FFFF\">▆</span>|               ┃\n",
       "┃   G#5┃|               |               |               |               ┃\n",
       "┃    G5┃<span style=\"color: #58FFFF\">█</span><span style=\"color: #58FFFF\">▆</span><span style=\"color: #58FFFF\">▆</span><span style=\"color: #58FFFF\">▆</span><span style=\"color: #58FFFF\">▆</span><span style=\"color: #58FFFF\">▆</span><span style=\"color: #58FFFF\">▆</span><span style=\"color: #58FFFF\">▆</span>  <span style=\"color: #3EFFFF\">█</span><span style=\"color: #3EFFFF\">▆</span>    <span style=\"color: #2BFFFF\">█</span><span style=\"color: #2BFFFF\">▆</span><span style=\"color: #2BFFFF\">▆</span><span style=\"color: #2BFFFF\">▆</span><span style=\"color: #2BFFFF\">▆</span><span style=\"color: #2BFFFF\">▆</span><span style=\"color: #2BFFFF\">▆</span><span style=\"color: #2BFFFF\">▆</span>        <span style=\"color: #58FFFF\">█</span><span style=\"color: #58FFFF\">▆</span><span style=\"color: #58FFFF\">▆</span><span style=\"color: #58FFFF\">▆</span><span style=\"color: #58FFFF\">▆</span><span style=\"color: #58FFFF\">▆</span><span style=\"color: #58FFFF\">▆</span><span style=\"color: #58FFFF\">▆</span>  <span style=\"color: #3EFFFF\">█</span><span style=\"color: #3EFFFF\">▆</span>    <span style=\"color: #2BFFFF\">█</span><span style=\"color: #2BFFFF\">▆</span><span style=\"color: #2BFFFF\">▆</span><span style=\"color: #2BFFFF\">▆</span><span style=\"color: #2BFFFF\">▆</span><span style=\"color: #2BFFFF\">▆</span><span style=\"color: #2BFFFF\">▆</span><span style=\"color: #2BFFFF\">▆</span>        ┃\n",
       "┃   F#5┃|               |               |               |               ┃\n",
       "┃    F5┃<span style=\"color: #3DFFFF\">█</span>       <span style=\"color: #3EFFFF\">█</span><span style=\"color: #3EFFFF\">▆</span>      |               <span style=\"color: #3DFFFF\">█</span>       <span style=\"color: #3EFFFF\">█</span><span style=\"color: #3EFFFF\">▆</span>      |               ┃\n",
       "┃    E5┃|               |               |               |               ┃\n",
       "┃   D#5┃|               |               |               |               ┃\n",
       "┃    D5┃|               |               |               |               ┃\n",
       "┃   C#5┃|               |               |               |               ┃\n",
       "┃    C5┃|               |       <span style=\"color: #34FFFF\">█</span><span style=\"color: #34FFFF\">▆</span><span style=\"color: #34FFFF\">▆</span><span style=\"color: #34FFFF\">▆</span><span style=\"color: #34FFFF\">▆</span><span style=\"color: #34FFFF\">▆</span><span style=\"color: #34FFFF\">▆</span><span style=\"color: #34FFFF\">▆</span>|               |       <span style=\"color: #34FFFF\">█</span><span style=\"color: #34FFFF\">▆</span><span style=\"color: #34FFFF\">▆</span><span style=\"color: #34FFFF\">▆</span><span style=\"color: #34FFFF\">▆</span><span style=\"color: #34FFFF\">▆</span><span style=\"color: #34FFFF\">▆</span><span style=\"color: #34FFFF\">▆</span>┃\n",
       "┃    B4┃|               |               |               |               ┃\n",
       "┃   A#4┃|               |               |               |               ┃\n",
       "┃    A4┃|               |               |               |               ┃\n",
       "┃   G#4┃|               |               |               |               ┃\n",
       "┃    G4┃|               <span style=\"color: #3AFFFF\">█</span><span style=\"color: #3AFFFF\">▆</span><span style=\"color: #3AFFFF\">▆</span><span style=\"color: #3AFFFF\">▆</span><span style=\"color: #3AFFFF\">▆</span><span style=\"color: #3AFFFF\">▆</span><span style=\"color: #3AFFFF\">▆</span><span style=\"color: #3AFFFF\">▆</span><span style=\"color: #3AFFFF\">▆</span><span style=\"color: #3AFFFF\">▆</span><span style=\"color: #3AFFFF\">▆</span><span style=\"color: #3AFFFF\">▆</span><span style=\"color: #3AFFFF\">▆</span><span style=\"color: #3AFFFF\">▆</span><span style=\"color: #3AFFFF\">▆</span><span style=\"color: #3AFFFF\">▆</span>|               <span style=\"color: #3AFFFF\">█</span><span style=\"color: #3AFFFF\">▆</span><span style=\"color: #3AFFFF\">▆</span><span style=\"color: #3AFFFF\">▆</span><span style=\"color: #3AFFFF\">▆</span><span style=\"color: #3AFFFF\">▆</span><span style=\"color: #3AFFFF\">▆</span><span style=\"color: #3AFFFF\">▆</span><span style=\"color: #3AFFFF\">▆</span><span style=\"color: #3AFFFF\">▆</span><span style=\"color: #3AFFFF\">▆</span><span style=\"color: #3AFFFF\">▆</span><span style=\"color: #3AFFFF\">▆</span><span style=\"color: #3AFFFF\">▆</span><span style=\"color: #3AFFFF\">▆</span><span style=\"color: #3AFFFF\">▆</span>┃\n",
       "┃   F#4┃|               |               |               |               ┃\n",
       "┃    F4┃<span style=\"color: #3AFFFF\">█</span><span style=\"color: #3AFFFF\">▆</span><span style=\"color: #3AFFFF\">▆</span><span style=\"color: #3AFFFF\">▆</span><span style=\"color: #3AFFFF\">▆</span><span style=\"color: #3AFFFF\">▆</span><span style=\"color: #3AFFFF\">▆</span><span style=\"color: #3AFFFF\">▆</span><span style=\"color: #3AFFFF\">▆</span><span style=\"color: #3AFFFF\">▆</span><span style=\"color: #3AFFFF\">▆</span><span style=\"color: #3AFFFF\">▆</span><span style=\"color: #3AFFFF\">▆</span><span style=\"color: #3AFFFF\">▆</span><span style=\"color: #3AFFFF\">▆</span><span style=\"color: #3AFFFF\">▆</span>|               <span style=\"color: #3AFFFF\">█</span><span style=\"color: #3AFFFF\">▆</span><span style=\"color: #3AFFFF\">▆</span><span style=\"color: #3AFFFF\">▆</span><span style=\"color: #3AFFFF\">▆</span><span style=\"color: #3AFFFF\">▆</span><span style=\"color: #3AFFFF\">▆</span><span style=\"color: #3AFFFF\">▆</span><span style=\"color: #3AFFFF\">▆</span><span style=\"color: #3AFFFF\">▆</span><span style=\"color: #3AFFFF\">▆</span><span style=\"color: #3AFFFF\">▆</span><span style=\"color: #3AFFFF\">▆</span><span style=\"color: #3AFFFF\">▆</span><span style=\"color: #3AFFFF\">▆</span><span style=\"color: #3AFFFF\">▆</span>|               ┃\n",
       "┃    E4┃|               <span style=\"color: #2CFFFF\">█</span><span style=\"color: #2CFFFF\">▆</span><span style=\"color: #2CFFFF\">▆</span><span style=\"color: #2CFFFF\">▆</span><span style=\"color: #2CFFFF\">▆</span><span style=\"color: #2CFFFF\">▆</span><span style=\"color: #2CFFFF\">▆</span><span style=\"color: #2CFFFF\">▆</span><span style=\"color: #2CFFFF\">▆</span><span style=\"color: #2CFFFF\">▆</span><span style=\"color: #2CFFFF\">▆</span><span style=\"color: #2CFFFF\">▆</span><span style=\"color: #2CFFFF\">▆</span><span style=\"color: #2CFFFF\">▆</span><span style=\"color: #2CFFFF\">▆</span><span style=\"color: #2CFFFF\">▆</span>|               <span style=\"color: #2CFFFF\">█</span><span style=\"color: #2CFFFF\">▆</span><span style=\"color: #2CFFFF\">▆</span><span style=\"color: #2CFFFF\">▆</span><span style=\"color: #2CFFFF\">▆</span><span style=\"color: #2CFFFF\">▆</span><span style=\"color: #2CFFFF\">▆</span><span style=\"color: #2CFFFF\">▆</span><span style=\"color: #2CFFFF\">▆</span><span style=\"color: #2CFFFF\">▆</span><span style=\"color: #2CFFFF\">▆</span><span style=\"color: #2CFFFF\">▆</span><span style=\"color: #2CFFFF\">▆</span><span style=\"color: #2CFFFF\">▆</span><span style=\"color: #2CFFFF\">▆</span><span style=\"color: #2CFFFF\">▆</span>┃\n",
       "┃   D#4┃|               |               |               |               ┃\n",
       "┃    D4┃<span style=\"color: #2CFFFF\">█</span><span style=\"color: #2CFFFF\">▆</span><span style=\"color: #2CFFFF\">▆</span><span style=\"color: #2CFFFF\">▆</span><span style=\"color: #2CFFFF\">▆</span><span style=\"color: #2CFFFF\">▆</span><span style=\"color: #2CFFFF\">▆</span><span style=\"color: #2CFFFF\">▆</span><span style=\"color: #2CFFFF\">▆</span><span style=\"color: #2CFFFF\">▆</span><span style=\"color: #2CFFFF\">▆</span><span style=\"color: #2CFFFF\">▆</span><span style=\"color: #2CFFFF\">▆</span><span style=\"color: #2CFFFF\">▆</span><span style=\"color: #2CFFFF\">▆</span><span style=\"color: #2CFFFF\">▆</span>|               <span style=\"color: #2CFFFF\">█</span><span style=\"color: #2CFFFF\">▆</span><span style=\"color: #2CFFFF\">▆</span><span style=\"color: #2CFFFF\">▆</span><span style=\"color: #2CFFFF\">▆</span><span style=\"color: #2CFFFF\">▆</span><span style=\"color: #2CFFFF\">▆</span><span style=\"color: #2CFFFF\">▆</span><span style=\"color: #2CFFFF\">▆</span><span style=\"color: #2CFFFF\">▆</span><span style=\"color: #2CFFFF\">▆</span><span style=\"color: #2CFFFF\">▆</span><span style=\"color: #2CFFFF\">▆</span><span style=\"color: #2CFFFF\">▆</span><span style=\"color: #2CFFFF\">▆</span><span style=\"color: #2CFFFF\">▆</span>|               ┃\n",
       "┃   C#4┃|               |               |               |               ┃\n",
       "┃    C4┃|               |               |               |               ┃\n",
       "┃    B3┃|               |               |               |               ┃\n",
       "┃   A#3┃|               |               |               |               ┃\n",
       "┃    A3┃|               <span style=\"color: #32FFFF\">█</span><span style=\"color: #32FFFF\">▆</span><span style=\"color: #32FFFF\">▆</span><span style=\"color: #32FFFF\">▆</span><span style=\"color: #32FFFF\">▆</span><span style=\"color: #32FFFF\">▆</span><span style=\"color: #32FFFF\">▆</span><span style=\"color: #32FFFF\">▆</span><span style=\"color: #32FFFF\">▆</span><span style=\"color: #32FFFF\">▆</span><span style=\"color: #32FFFF\">▆</span><span style=\"color: #32FFFF\">▆</span><span style=\"color: #32FFFF\">▆</span><span style=\"color: #32FFFF\">▆</span><span style=\"color: #32FFFF\">▆</span><span style=\"color: #32FFFF\">▆</span>|               <span style=\"color: #32FFFF\">█</span><span style=\"color: #32FFFF\">▆</span><span style=\"color: #32FFFF\">▆</span><span style=\"color: #32FFFF\">▆</span><span style=\"color: #32FFFF\">▆</span><span style=\"color: #32FFFF\">▆</span><span style=\"color: #32FFFF\">▆</span><span style=\"color: #32FFFF\">▆</span><span style=\"color: #32FFFF\">▆</span><span style=\"color: #32FFFF\">▆</span><span style=\"color: #32FFFF\">▆</span><span style=\"color: #32FFFF\">▆</span><span style=\"color: #32FFFF\">▆</span><span style=\"color: #32FFFF\">▆</span><span style=\"color: #32FFFF\">▆</span><span style=\"color: #32FFFF\">▆</span>┃\n",
       "┃   G#3┃|               |               |               |               ┃\n",
       "┃    G3┃<span style=\"color: #32FFFF\">█</span><span style=\"color: #32FFFF\">▆</span><span style=\"color: #32FFFF\">▆</span><span style=\"color: #32FFFF\">▆</span><span style=\"color: #32FFFF\">▆</span><span style=\"color: #32FFFF\">▆</span><span style=\"color: #32FFFF\">▆</span><span style=\"color: #32FFFF\">▆</span><span style=\"color: #32FFFF\">▆</span><span style=\"color: #32FFFF\">▆</span><span style=\"color: #32FFFF\">▆</span><span style=\"color: #32FFFF\">▆</span><span style=\"color: #32FFFF\">▆</span><span style=\"color: #32FFFF\">▆</span><span style=\"color: #32FFFF\">▆</span><span style=\"color: #32FFFF\">▆</span>|               <span style=\"color: #32FFFF\">█</span><span style=\"color: #32FFFF\">▆</span><span style=\"color: #32FFFF\">▆</span><span style=\"color: #32FFFF\">▆</span><span style=\"color: #32FFFF\">▆</span><span style=\"color: #32FFFF\">▆</span><span style=\"color: #32FFFF\">▆</span><span style=\"color: #32FFFF\">▆</span><span style=\"color: #32FFFF\">▆</span><span style=\"color: #32FFFF\">▆</span><span style=\"color: #32FFFF\">▆</span><span style=\"color: #32FFFF\">▆</span><span style=\"color: #32FFFF\">▆</span><span style=\"color: #32FFFF\">▆</span><span style=\"color: #32FFFF\">▆</span><span style=\"color: #32FFFF\">▆</span>|               ┃\n",
       "┃   F#3┃|               |               |               |               ┃\n",
       "┃    F3┃|               |               |               |               ┃\n",
       "┃    E3┃|               |               |               |               ┃\n",
       "┃   D#3┃|               |               |               |               ┃\n",
       "┃    D3┃|               <span style=\"color: #27FFFF\">█</span><span style=\"color: #27FFFF\">▆</span><span style=\"color: #27FFFF\">▆</span><span style=\"color: #27FFFF\">▆</span><span style=\"color: #27FFFF\">▆</span><span style=\"color: #27FFFF\">▆</span><span style=\"color: #27FFFF\">▆</span><span style=\"color: #27FFFF\">▆</span><span style=\"color: #27FFFF\">▆</span><span style=\"color: #27FFFF\">▆</span><span style=\"color: #27FFFF\">▆</span><span style=\"color: #27FFFF\">▆</span><span style=\"color: #27FFFF\">▆</span><span style=\"color: #27FFFF\">▆</span><span style=\"color: #27FFFF\">▆</span><span style=\"color: #27FFFF\">▆</span>|               <span style=\"color: #27FFFF\">█</span><span style=\"color: #27FFFF\">▆</span><span style=\"color: #27FFFF\">▆</span><span style=\"color: #27FFFF\">▆</span><span style=\"color: #27FFFF\">▆</span><span style=\"color: #27FFFF\">▆</span><span style=\"color: #27FFFF\">▆</span><span style=\"color: #27FFFF\">▆</span><span style=\"color: #27FFFF\">▆</span><span style=\"color: #27FFFF\">▆</span><span style=\"color: #27FFFF\">▆</span><span style=\"color: #27FFFF\">▆</span><span style=\"color: #27FFFF\">▆</span><span style=\"color: #27FFFF\">▆</span><span style=\"color: #27FFFF\">▆</span><span style=\"color: #27FFFF\">▆</span>┃\n",
       "┃   C#3┃|               |               |               |               ┃\n",
       "┃    C3┃<span style=\"color: #27FFFF\">█</span><span style=\"color: #27FFFF\">▆</span><span style=\"color: #27FFFF\">▆</span><span style=\"color: #27FFFF\">▆</span><span style=\"color: #27FFFF\">▆</span><span style=\"color: #27FFFF\">▆</span><span style=\"color: #27FFFF\">▆</span><span style=\"color: #27FFFF\">▆</span><span style=\"color: #27FFFF\">▆</span><span style=\"color: #27FFFF\">▆</span><span style=\"color: #64FFFF\">▆</span><span style=\"color: #64FFFF\">▆</span><span style=\"color: #27FFFF\">▆</span><span style=\"color: #27FFFF\">▆</span><span style=\"color: #27FFFF\">▆</span><span style=\"color: #27FFFF\">▆</span>|               <span style=\"color: #27FFFF\">█</span><span style=\"color: #27FFFF\">▆</span><span style=\"color: #27FFFF\">▆</span><span style=\"color: #27FFFF\">▆</span><span style=\"color: #27FFFF\">▆</span><span style=\"color: #27FFFF\">▆</span><span style=\"color: #27FFFF\">▆</span><span style=\"color: #27FFFF\">▆</span><span style=\"color: #27FFFF\">▆</span><span style=\"color: #27FFFF\">▆</span><span style=\"color: #64FFFF\">▆</span><span style=\"color: #64FFFF\">▆</span><span style=\"color: #27FFFF\">▆</span><span style=\"color: #27FFFF\">▆</span><span style=\"color: #27FFFF\">▆</span><span style=\"color: #27FFFF\">▆</span>|               ┃\n",
       "┃    B2┃|               |               |               |               ┃\n",
       "┃   A#2┃|               |               |               |               ┃\n",
       "┃    A2┃|               |               |               |               ┃\n",
       "┃   G#2┃|               |               |               |               ┃\n",
       "┃    G2┃|               |               |               |               ┃\n",
       "┃   F#2┃|               |               |               |               ┃\n",
       "┃    F2┃|               |               |               |               ┃\n",
       "┃    E2┃|               |               |               |               ┃\n",
       "┃   D#2┃|               |               |               |               ┃\n",
       "┃    D2┃|               |               |               |               ┃\n",
       "┃   C#2┃|               |               |               |               ┃\n",
       "┃    C2┃|               |               |               |               ┃\n",
       "┃    B1┃|               |               |               |               ┃\n",
       "┃   A#1┃|               |               |               |               ┃\n",
       "┃    A1┃|               |               |               |               ┃\n",
       "┃   G#1┃|               |               |               |               ┃\n",
       "┃    G1┃|               |               |               |               ┃\n",
       "┃   F#1┃|               |               |               |               ┃\n",
       "┃    F1┃|               |               |               |               ┃\n",
       "┃    E1┃|               |               |               |               ┃\n",
       "┃   D#1┃|               |               |               |               ┃\n",
       "┃    D1┃|               |               |               |               ┃\n",
       "┃   C#1┃|               |               |               |               ┃\n",
       "┃    C1┃|               |               |               |               ┃\n",
       "┃    B0┃|               |               |               |               ┃\n",
       "┃   A#0┃|               |               |               |               ┃\n",
       "┃    A0┃|               |               |               |               ┃\n",
       "┃   G#0┃|               |               |               |               ┃\n",
       "┃    G0┃|               |               |               |               ┃\n",
       "┃   F#0┃|               |               |               |               ┃\n",
       "┃    F0┃|               |               |               |               ┃\n",
       "┃    E0┃|               |               |               |               ┃\n",
       "┃   D#0┃|               |               |               |               ┃\n",
       "┃    D0┃|               |               |               |               ┃\n",
       "┃   C#0┃|               |               |               |               ┃\n",
       "┃    C0┃|               |               |               |               ┃\n",
       "┃   B-1┃|               |               |               |               ┃\n",
       "┃  A#-1┃|               |               |               |               ┃\n",
       "┃   A-1┃|               |               |               |               ┃\n",
       "┃  G#-1┃|               |               |               |               ┃\n",
       "┃   G-1┃|               |               |               |               ┃\n",
       "┃  F#-1┃|               |               |               |               ┃\n",
       "┃   F-1┃|               |               |               |               ┃\n",
       "┃   E-1┃|               |               |               |               ┃\n",
       "┃  D#-1┃|               |               |               |               ┃\n",
       "┃   D-1┃|               |               |               |               ┃\n",
       "┃  C#-1┃|               |               |               |               ┃\n",
       "┃   C-1┃|               |               |               |               ┃\n",
       "┗━━━━━━┻┻━━━┷━━━┷━━━┷━━━┻━━━┷━━━┷━━━┷━━━┻━━━┷━━━┷━━━┷━━━┻━━━┷━━━┷━━━┷━━━┛\n",
       "        0               1               2               3               4</div>\n",
       "                    "
      ]
     },
     "metadata": {},
     "output_type": "display_data"
    }
   ],
   "execution_count": 6
  },
  {
   "metadata": {},
   "cell_type": "markdown",
   "source": [
    "### Scale Shadow\n",
    "We can add the scale shadow into the piano roll to check which notes are in the scale and which are not. Currently we only support major and minor scales."
   ],
   "id": "304678624c1551de"
  },
  {
   "cell_type": "code",
   "id": "714992384190460d",
   "metadata": {
    "ExecuteTime": {
     "end_time": "2025-06-19T16:25:31.309885Z",
     "start_time": "2025-06-19T16:25:31.282986Z"
    }
   },
   "source": "midi1_composite.piano_roll.print_roll(mode=RollPrintingMode.Normal, scale_shadow=True)",
   "outputs": [
    {
     "name": "stdout",
     "output_type": "stream",
     "text": [
      "View: Normal, Type: Composite, MIDI: ./midi1_composite.mid, TimeSignature: 4/4\n",
      "Quantization Mode: Start_end, Quantization Factor: 16, Length: 4bars 0steps 0ticks \n",
      "key: CMajor/AMinor\n"
     ]
    },
    {
     "data": {
      "text/plain": [
       "<IPython.core.display.HTML object>"
      ],
      "text/html": [
       "\n",
       "                    <div style=\"\n",
       "                        overflow-x: auto;\n",
       "                        white-space: pre;\n",
       "                        font-family: monospace;\n",
       "                        line-height: 1.1;\n",
       "                        font-size: 16px;\n",
       "                        padding: 4px;\n",
       "                        margin: 0;\n",
       "                    \">┏━━━━━┳┳━━━┯━━━┯━━━┯━━━┳━━━┯━━━┯━━━┯━━━┳━━━┯━━━┯━━━┯━━━┳━━━┯━━━┯━━━┯━━━┓\n",
       "┃   A5┃<span style=\"background-color: #646464\">|           </span><span style=\"color: #46FFFF; background-color: #646464\">█</span><span style=\"background-color: #646464\"></span><span style=\"color: #46FFFF; background-color: #646464\">▆</span><span style=\"background-color: #646464\"></span><span style=\"color: #46FFFF; background-color: #646464\">▆</span><span style=\"background-color: #646464\"></span><span style=\"color: #46FFFF; background-color: #646464\">▆</span><span style=\"background-color: #646464\">|               |           </span><span style=\"color: #46FFFF; background-color: #646464\">█</span><span style=\"background-color: #646464\"></span><span style=\"color: #46FFFF; background-color: #646464\">▆</span><span style=\"background-color: #646464\"></span><span style=\"color: #46FFFF; background-color: #646464\">▆</span><span style=\"background-color: #646464\"></span><span style=\"color: #46FFFF; background-color: #646464\">▆</span><span style=\"background-color: #646464\">|               </span>┃\n",
       "┃  G#5┃|               |               |               |               ┃\n",
       "┃   G5┃<span style=\"background-color: #646464\"></span><span style=\"color: #58FFFF; background-color: #646464\">█</span><span style=\"background-color: #646464\"></span><span style=\"color: #58FFFF; background-color: #646464\">▆</span><span style=\"background-color: #646464\"></span><span style=\"color: #58FFFF; background-color: #646464\">▆</span><span style=\"background-color: #646464\"></span><span style=\"color: #58FFFF; background-color: #646464\">▆</span><span style=\"background-color: #646464\"></span><span style=\"color: #58FFFF; background-color: #646464\">▆</span><span style=\"background-color: #646464\"></span><span style=\"color: #58FFFF; background-color: #646464\">▆</span><span style=\"background-color: #646464\"></span><span style=\"color: #58FFFF; background-color: #646464\">▆</span><span style=\"background-color: #646464\"></span><span style=\"color: #58FFFF; background-color: #646464\">▆</span><span style=\"background-color: #646464\">  </span><span style=\"color: #3EFFFF; background-color: #646464\">█</span><span style=\"background-color: #646464\"></span><span style=\"color: #3EFFFF; background-color: #646464\">▆</span><span style=\"background-color: #646464\">    </span><span style=\"color: #2BFFFF; background-color: #646464\">█</span><span style=\"background-color: #646464\"></span><span style=\"color: #2BFFFF; background-color: #646464\">▆</span><span style=\"background-color: #646464\"></span><span style=\"color: #2BFFFF; background-color: #646464\">▆</span><span style=\"background-color: #646464\"></span><span style=\"color: #2BFFFF; background-color: #646464\">▆</span><span style=\"background-color: #646464\"></span><span style=\"color: #2BFFFF; background-color: #646464\">▆</span><span style=\"background-color: #646464\"></span><span style=\"color: #2BFFFF; background-color: #646464\">▆</span><span style=\"background-color: #646464\"></span><span style=\"color: #2BFFFF; background-color: #646464\">▆</span><span style=\"background-color: #646464\"></span><span style=\"color: #2BFFFF; background-color: #646464\">▆</span><span style=\"background-color: #646464\">        </span><span style=\"color: #58FFFF; background-color: #646464\">█</span><span style=\"background-color: #646464\"></span><span style=\"color: #58FFFF; background-color: #646464\">▆</span><span style=\"background-color: #646464\"></span><span style=\"color: #58FFFF; background-color: #646464\">▆</span><span style=\"background-color: #646464\"></span><span style=\"color: #58FFFF; background-color: #646464\">▆</span><span style=\"background-color: #646464\"></span><span style=\"color: #58FFFF; background-color: #646464\">▆</span><span style=\"background-color: #646464\"></span><span style=\"color: #58FFFF; background-color: #646464\">▆</span><span style=\"background-color: #646464\"></span><span style=\"color: #58FFFF; background-color: #646464\">▆</span><span style=\"background-color: #646464\"></span><span style=\"color: #58FFFF; background-color: #646464\">▆</span><span style=\"background-color: #646464\">  </span><span style=\"color: #3EFFFF; background-color: #646464\">█</span><span style=\"background-color: #646464\"></span><span style=\"color: #3EFFFF; background-color: #646464\">▆</span><span style=\"background-color: #646464\">    </span><span style=\"color: #2BFFFF; background-color: #646464\">█</span><span style=\"background-color: #646464\"></span><span style=\"color: #2BFFFF; background-color: #646464\">▆</span><span style=\"background-color: #646464\"></span><span style=\"color: #2BFFFF; background-color: #646464\">▆</span><span style=\"background-color: #646464\"></span><span style=\"color: #2BFFFF; background-color: #646464\">▆</span><span style=\"background-color: #646464\"></span><span style=\"color: #2BFFFF; background-color: #646464\">▆</span><span style=\"background-color: #646464\"></span><span style=\"color: #2BFFFF; background-color: #646464\">▆</span><span style=\"background-color: #646464\"></span><span style=\"color: #2BFFFF; background-color: #646464\">▆</span><span style=\"background-color: #646464\"></span><span style=\"color: #2BFFFF; background-color: #646464\">▆</span><span style=\"background-color: #646464\">        </span>┃\n",
       "┃  F#5┃|               |               |               |               ┃\n",
       "┃   F5┃<span style=\"background-color: #646464\"></span><span style=\"color: #3DFFFF; background-color: #646464\">█</span><span style=\"background-color: #646464\">       </span><span style=\"color: #3EFFFF; background-color: #646464\">█</span><span style=\"background-color: #646464\"></span><span style=\"color: #3EFFFF; background-color: #646464\">▆</span><span style=\"background-color: #646464\">      |               </span><span style=\"color: #3DFFFF; background-color: #646464\">█</span><span style=\"background-color: #646464\">       </span><span style=\"color: #3EFFFF; background-color: #646464\">█</span><span style=\"background-color: #646464\"></span><span style=\"color: #3EFFFF; background-color: #646464\">▆</span><span style=\"background-color: #646464\">      |               </span>┃\n",
       "┃   E5┃<span style=\"background-color: #646464\">|               |               |               |               </span>┃\n",
       "┃  D#5┃|               |               |               |               ┃\n",
       "┃   D5┃<span style=\"background-color: #646464\">|               |               |               |               </span>┃\n",
       "┃  C#5┃|               |               |               |               ┃\n",
       "┃   C5┃<span style=\"background-color: #646464\">|               |       </span><span style=\"color: #34FFFF; background-color: #646464\">█</span><span style=\"background-color: #646464\"></span><span style=\"color: #34FFFF; background-color: #646464\">▆</span><span style=\"background-color: #646464\"></span><span style=\"color: #34FFFF; background-color: #646464\">▆</span><span style=\"background-color: #646464\"></span><span style=\"color: #34FFFF; background-color: #646464\">▆</span><span style=\"background-color: #646464\"></span><span style=\"color: #34FFFF; background-color: #646464\">▆</span><span style=\"background-color: #646464\"></span><span style=\"color: #34FFFF; background-color: #646464\">▆</span><span style=\"background-color: #646464\"></span><span style=\"color: #34FFFF; background-color: #646464\">▆</span><span style=\"background-color: #646464\"></span><span style=\"color: #34FFFF; background-color: #646464\">▆</span><span style=\"background-color: #646464\">|               |       </span><span style=\"color: #34FFFF; background-color: #646464\">█</span><span style=\"background-color: #646464\"></span><span style=\"color: #34FFFF; background-color: #646464\">▆</span><span style=\"background-color: #646464\"></span><span style=\"color: #34FFFF; background-color: #646464\">▆</span><span style=\"background-color: #646464\"></span><span style=\"color: #34FFFF; background-color: #646464\">▆</span><span style=\"background-color: #646464\"></span><span style=\"color: #34FFFF; background-color: #646464\">▆</span><span style=\"background-color: #646464\"></span><span style=\"color: #34FFFF; background-color: #646464\">▆</span><span style=\"background-color: #646464\"></span><span style=\"color: #34FFFF; background-color: #646464\">▆</span><span style=\"background-color: #646464\"></span><span style=\"color: #34FFFF; background-color: #646464\">▆</span><span style=\"background-color: #646464\"></span>┃\n",
       "┃   B4┃<span style=\"background-color: #646464\">|               |               |               |               </span>┃\n",
       "┃  A#4┃|               |               |               |               ┃\n",
       "┃   A4┃<span style=\"background-color: #646464\">|               |               |               |               </span>┃\n",
       "┃  G#4┃|               |               |               |               ┃\n",
       "┃   G4┃<span style=\"background-color: #646464\">|               </span><span style=\"color: #3AFFFF; background-color: #646464\">█</span><span style=\"background-color: #646464\"></span><span style=\"color: #3AFFFF; background-color: #646464\">▆</span><span style=\"background-color: #646464\"></span><span style=\"color: #3AFFFF; background-color: #646464\">▆</span><span style=\"background-color: #646464\"></span><span style=\"color: #3AFFFF; background-color: #646464\">▆</span><span style=\"background-color: #646464\"></span><span style=\"color: #3AFFFF; background-color: #646464\">▆</span><span style=\"background-color: #646464\"></span><span style=\"color: #3AFFFF; background-color: #646464\">▆</span><span style=\"background-color: #646464\"></span><span style=\"color: #3AFFFF; background-color: #646464\">▆</span><span style=\"background-color: #646464\"></span><span style=\"color: #3AFFFF; background-color: #646464\">▆</span><span style=\"background-color: #646464\"></span><span style=\"color: #3AFFFF; background-color: #646464\">▆</span><span style=\"background-color: #646464\"></span><span style=\"color: #3AFFFF; background-color: #646464\">▆</span><span style=\"background-color: #646464\"></span><span style=\"color: #3AFFFF; background-color: #646464\">▆</span><span style=\"background-color: #646464\"></span><span style=\"color: #3AFFFF; background-color: #646464\">▆</span><span style=\"background-color: #646464\"></span><span style=\"color: #3AFFFF; background-color: #646464\">▆</span><span style=\"background-color: #646464\"></span><span style=\"color: #3AFFFF; background-color: #646464\">▆</span><span style=\"background-color: #646464\"></span><span style=\"color: #3AFFFF; background-color: #646464\">▆</span><span style=\"background-color: #646464\"></span><span style=\"color: #3AFFFF; background-color: #646464\">▆</span><span style=\"background-color: #646464\">|               </span><span style=\"color: #3AFFFF; background-color: #646464\">█</span><span style=\"background-color: #646464\"></span><span style=\"color: #3AFFFF; background-color: #646464\">▆</span><span style=\"background-color: #646464\"></span><span style=\"color: #3AFFFF; background-color: #646464\">▆</span><span style=\"background-color: #646464\"></span><span style=\"color: #3AFFFF; background-color: #646464\">▆</span><span style=\"background-color: #646464\"></span><span style=\"color: #3AFFFF; background-color: #646464\">▆</span><span style=\"background-color: #646464\"></span><span style=\"color: #3AFFFF; background-color: #646464\">▆</span><span style=\"background-color: #646464\"></span><span style=\"color: #3AFFFF; background-color: #646464\">▆</span><span style=\"background-color: #646464\"></span><span style=\"color: #3AFFFF; background-color: #646464\">▆</span><span style=\"background-color: #646464\"></span><span style=\"color: #3AFFFF; background-color: #646464\">▆</span><span style=\"background-color: #646464\"></span><span style=\"color: #3AFFFF; background-color: #646464\">▆</span><span style=\"background-color: #646464\"></span><span style=\"color: #3AFFFF; background-color: #646464\">▆</span><span style=\"background-color: #646464\"></span><span style=\"color: #3AFFFF; background-color: #646464\">▆</span><span style=\"background-color: #646464\"></span><span style=\"color: #3AFFFF; background-color: #646464\">▆</span><span style=\"background-color: #646464\"></span><span style=\"color: #3AFFFF; background-color: #646464\">▆</span><span style=\"background-color: #646464\"></span><span style=\"color: #3AFFFF; background-color: #646464\">▆</span><span style=\"background-color: #646464\"></span><span style=\"color: #3AFFFF; background-color: #646464\">▆</span><span style=\"background-color: #646464\"></span>┃\n",
       "┃  F#4┃|               |               |               |               ┃\n",
       "┃   F4┃<span style=\"background-color: #646464\"></span><span style=\"color: #3AFFFF; background-color: #646464\">█</span><span style=\"background-color: #646464\"></span><span style=\"color: #3AFFFF; background-color: #646464\">▆</span><span style=\"background-color: #646464\"></span><span style=\"color: #3AFFFF; background-color: #646464\">▆</span><span style=\"background-color: #646464\"></span><span style=\"color: #3AFFFF; background-color: #646464\">▆</span><span style=\"background-color: #646464\"></span><span style=\"color: #3AFFFF; background-color: #646464\">▆</span><span style=\"background-color: #646464\"></span><span style=\"color: #3AFFFF; background-color: #646464\">▆</span><span style=\"background-color: #646464\"></span><span style=\"color: #3AFFFF; background-color: #646464\">▆</span><span style=\"background-color: #646464\"></span><span style=\"color: #3AFFFF; background-color: #646464\">▆</span><span style=\"background-color: #646464\"></span><span style=\"color: #3AFFFF; background-color: #646464\">▆</span><span style=\"background-color: #646464\"></span><span style=\"color: #3AFFFF; background-color: #646464\">▆</span><span style=\"background-color: #646464\"></span><span style=\"color: #3AFFFF; background-color: #646464\">▆</span><span style=\"background-color: #646464\"></span><span style=\"color: #3AFFFF; background-color: #646464\">▆</span><span style=\"background-color: #646464\"></span><span style=\"color: #3AFFFF; background-color: #646464\">▆</span><span style=\"background-color: #646464\"></span><span style=\"color: #3AFFFF; background-color: #646464\">▆</span><span style=\"background-color: #646464\"></span><span style=\"color: #3AFFFF; background-color: #646464\">▆</span><span style=\"background-color: #646464\"></span><span style=\"color: #3AFFFF; background-color: #646464\">▆</span><span style=\"background-color: #646464\">|               </span><span style=\"color: #3AFFFF; background-color: #646464\">█</span><span style=\"background-color: #646464\"></span><span style=\"color: #3AFFFF; background-color: #646464\">▆</span><span style=\"background-color: #646464\"></span><span style=\"color: #3AFFFF; background-color: #646464\">▆</span><span style=\"background-color: #646464\"></span><span style=\"color: #3AFFFF; background-color: #646464\">▆</span><span style=\"background-color: #646464\"></span><span style=\"color: #3AFFFF; background-color: #646464\">▆</span><span style=\"background-color: #646464\"></span><span style=\"color: #3AFFFF; background-color: #646464\">▆</span><span style=\"background-color: #646464\"></span><span style=\"color: #3AFFFF; background-color: #646464\">▆</span><span style=\"background-color: #646464\"></span><span style=\"color: #3AFFFF; background-color: #646464\">▆</span><span style=\"background-color: #646464\"></span><span style=\"color: #3AFFFF; background-color: #646464\">▆</span><span style=\"background-color: #646464\"></span><span style=\"color: #3AFFFF; background-color: #646464\">▆</span><span style=\"background-color: #646464\"></span><span style=\"color: #3AFFFF; background-color: #646464\">▆</span><span style=\"background-color: #646464\"></span><span style=\"color: #3AFFFF; background-color: #646464\">▆</span><span style=\"background-color: #646464\"></span><span style=\"color: #3AFFFF; background-color: #646464\">▆</span><span style=\"background-color: #646464\"></span><span style=\"color: #3AFFFF; background-color: #646464\">▆</span><span style=\"background-color: #646464\"></span><span style=\"color: #3AFFFF; background-color: #646464\">▆</span><span style=\"background-color: #646464\"></span><span style=\"color: #3AFFFF; background-color: #646464\">▆</span><span style=\"background-color: #646464\">|               </span>┃\n",
       "┃   E4┃<span style=\"background-color: #646464\">|               </span><span style=\"color: #2CFFFF; background-color: #646464\">█</span><span style=\"background-color: #646464\"></span><span style=\"color: #2CFFFF; background-color: #646464\">▆</span><span style=\"background-color: #646464\"></span><span style=\"color: #2CFFFF; background-color: #646464\">▆</span><span style=\"background-color: #646464\"></span><span style=\"color: #2CFFFF; background-color: #646464\">▆</span><span style=\"background-color: #646464\"></span><span style=\"color: #2CFFFF; background-color: #646464\">▆</span><span style=\"background-color: #646464\"></span><span style=\"color: #2CFFFF; background-color: #646464\">▆</span><span style=\"background-color: #646464\"></span><span style=\"color: #2CFFFF; background-color: #646464\">▆</span><span style=\"background-color: #646464\"></span><span style=\"color: #2CFFFF; background-color: #646464\">▆</span><span style=\"background-color: #646464\"></span><span style=\"color: #2CFFFF; background-color: #646464\">▆</span><span style=\"background-color: #646464\"></span><span style=\"color: #2CFFFF; background-color: #646464\">▆</span><span style=\"background-color: #646464\"></span><span style=\"color: #2CFFFF; background-color: #646464\">▆</span><span style=\"background-color: #646464\"></span><span style=\"color: #2CFFFF; background-color: #646464\">▆</span><span style=\"background-color: #646464\"></span><span style=\"color: #2CFFFF; background-color: #646464\">▆</span><span style=\"background-color: #646464\"></span><span style=\"color: #2CFFFF; background-color: #646464\">▆</span><span style=\"background-color: #646464\"></span><span style=\"color: #2CFFFF; background-color: #646464\">▆</span><span style=\"background-color: #646464\"></span><span style=\"color: #2CFFFF; background-color: #646464\">▆</span><span style=\"background-color: #646464\">|               </span><span style=\"color: #2CFFFF; background-color: #646464\">█</span><span style=\"background-color: #646464\"></span><span style=\"color: #2CFFFF; background-color: #646464\">▆</span><span style=\"background-color: #646464\"></span><span style=\"color: #2CFFFF; background-color: #646464\">▆</span><span style=\"background-color: #646464\"></span><span style=\"color: #2CFFFF; background-color: #646464\">▆</span><span style=\"background-color: #646464\"></span><span style=\"color: #2CFFFF; background-color: #646464\">▆</span><span style=\"background-color: #646464\"></span><span style=\"color: #2CFFFF; background-color: #646464\">▆</span><span style=\"background-color: #646464\"></span><span style=\"color: #2CFFFF; background-color: #646464\">▆</span><span style=\"background-color: #646464\"></span><span style=\"color: #2CFFFF; background-color: #646464\">▆</span><span style=\"background-color: #646464\"></span><span style=\"color: #2CFFFF; background-color: #646464\">▆</span><span style=\"background-color: #646464\"></span><span style=\"color: #2CFFFF; background-color: #646464\">▆</span><span style=\"background-color: #646464\"></span><span style=\"color: #2CFFFF; background-color: #646464\">▆</span><span style=\"background-color: #646464\"></span><span style=\"color: #2CFFFF; background-color: #646464\">▆</span><span style=\"background-color: #646464\"></span><span style=\"color: #2CFFFF; background-color: #646464\">▆</span><span style=\"background-color: #646464\"></span><span style=\"color: #2CFFFF; background-color: #646464\">▆</span><span style=\"background-color: #646464\"></span><span style=\"color: #2CFFFF; background-color: #646464\">▆</span><span style=\"background-color: #646464\"></span><span style=\"color: #2CFFFF; background-color: #646464\">▆</span><span style=\"background-color: #646464\"></span>┃\n",
       "┃  D#4┃|               |               |               |               ┃\n",
       "┃   D4┃<span style=\"background-color: #646464\"></span><span style=\"color: #2CFFFF; background-color: #646464\">█</span><span style=\"background-color: #646464\"></span><span style=\"color: #2CFFFF; background-color: #646464\">▆</span><span style=\"background-color: #646464\"></span><span style=\"color: #2CFFFF; background-color: #646464\">▆</span><span style=\"background-color: #646464\"></span><span style=\"color: #2CFFFF; background-color: #646464\">▆</span><span style=\"background-color: #646464\"></span><span style=\"color: #2CFFFF; background-color: #646464\">▆</span><span style=\"background-color: #646464\"></span><span style=\"color: #2CFFFF; background-color: #646464\">▆</span><span style=\"background-color: #646464\"></span><span style=\"color: #2CFFFF; background-color: #646464\">▆</span><span style=\"background-color: #646464\"></span><span style=\"color: #2CFFFF; background-color: #646464\">▆</span><span style=\"background-color: #646464\"></span><span style=\"color: #2CFFFF; background-color: #646464\">▆</span><span style=\"background-color: #646464\"></span><span style=\"color: #2CFFFF; background-color: #646464\">▆</span><span style=\"background-color: #646464\"></span><span style=\"color: #2CFFFF; background-color: #646464\">▆</span><span style=\"background-color: #646464\"></span><span style=\"color: #2CFFFF; background-color: #646464\">▆</span><span style=\"background-color: #646464\"></span><span style=\"color: #2CFFFF; background-color: #646464\">▆</span><span style=\"background-color: #646464\"></span><span style=\"color: #2CFFFF; background-color: #646464\">▆</span><span style=\"background-color: #646464\"></span><span style=\"color: #2CFFFF; background-color: #646464\">▆</span><span style=\"background-color: #646464\"></span><span style=\"color: #2CFFFF; background-color: #646464\">▆</span><span style=\"background-color: #646464\">|               </span><span style=\"color: #2CFFFF; background-color: #646464\">█</span><span style=\"background-color: #646464\"></span><span style=\"color: #2CFFFF; background-color: #646464\">▆</span><span style=\"background-color: #646464\"></span><span style=\"color: #2CFFFF; background-color: #646464\">▆</span><span style=\"background-color: #646464\"></span><span style=\"color: #2CFFFF; background-color: #646464\">▆</span><span style=\"background-color: #646464\"></span><span style=\"color: #2CFFFF; background-color: #646464\">▆</span><span style=\"background-color: #646464\"></span><span style=\"color: #2CFFFF; background-color: #646464\">▆</span><span style=\"background-color: #646464\"></span><span style=\"color: #2CFFFF; background-color: #646464\">▆</span><span style=\"background-color: #646464\"></span><span style=\"color: #2CFFFF; background-color: #646464\">▆</span><span style=\"background-color: #646464\"></span><span style=\"color: #2CFFFF; background-color: #646464\">▆</span><span style=\"background-color: #646464\"></span><span style=\"color: #2CFFFF; background-color: #646464\">▆</span><span style=\"background-color: #646464\"></span><span style=\"color: #2CFFFF; background-color: #646464\">▆</span><span style=\"background-color: #646464\"></span><span style=\"color: #2CFFFF; background-color: #646464\">▆</span><span style=\"background-color: #646464\"></span><span style=\"color: #2CFFFF; background-color: #646464\">▆</span><span style=\"background-color: #646464\"></span><span style=\"color: #2CFFFF; background-color: #646464\">▆</span><span style=\"background-color: #646464\"></span><span style=\"color: #2CFFFF; background-color: #646464\">▆</span><span style=\"background-color: #646464\"></span><span style=\"color: #2CFFFF; background-color: #646464\">▆</span><span style=\"background-color: #646464\">|               </span>┃\n",
       "┃  C#4┃|               |               |               |               ┃\n",
       "┃   C4┃<span style=\"background-color: #646464\">|               |               |               |               </span>┃\n",
       "┃   B3┃<span style=\"background-color: #646464\">|               |               |               |               </span>┃\n",
       "┃  A#3┃|               |               |               |               ┃\n",
       "┃   A3┃<span style=\"background-color: #646464\">|               </span><span style=\"color: #32FFFF; background-color: #646464\">█</span><span style=\"background-color: #646464\"></span><span style=\"color: #32FFFF; background-color: #646464\">▆</span><span style=\"background-color: #646464\"></span><span style=\"color: #32FFFF; background-color: #646464\">▆</span><span style=\"background-color: #646464\"></span><span style=\"color: #32FFFF; background-color: #646464\">▆</span><span style=\"background-color: #646464\"></span><span style=\"color: #32FFFF; background-color: #646464\">▆</span><span style=\"background-color: #646464\"></span><span style=\"color: #32FFFF; background-color: #646464\">▆</span><span style=\"background-color: #646464\"></span><span style=\"color: #32FFFF; background-color: #646464\">▆</span><span style=\"background-color: #646464\"></span><span style=\"color: #32FFFF; background-color: #646464\">▆</span><span style=\"background-color: #646464\"></span><span style=\"color: #32FFFF; background-color: #646464\">▆</span><span style=\"background-color: #646464\"></span><span style=\"color: #32FFFF; background-color: #646464\">▆</span><span style=\"background-color: #646464\"></span><span style=\"color: #32FFFF; background-color: #646464\">▆</span><span style=\"background-color: #646464\"></span><span style=\"color: #32FFFF; background-color: #646464\">▆</span><span style=\"background-color: #646464\"></span><span style=\"color: #32FFFF; background-color: #646464\">▆</span><span style=\"background-color: #646464\"></span><span style=\"color: #32FFFF; background-color: #646464\">▆</span><span style=\"background-color: #646464\"></span><span style=\"color: #32FFFF; background-color: #646464\">▆</span><span style=\"background-color: #646464\"></span><span style=\"color: #32FFFF; background-color: #646464\">▆</span><span style=\"background-color: #646464\">|               </span><span style=\"color: #32FFFF; background-color: #646464\">█</span><span style=\"background-color: #646464\"></span><span style=\"color: #32FFFF; background-color: #646464\">▆</span><span style=\"background-color: #646464\"></span><span style=\"color: #32FFFF; background-color: #646464\">▆</span><span style=\"background-color: #646464\"></span><span style=\"color: #32FFFF; background-color: #646464\">▆</span><span style=\"background-color: #646464\"></span><span style=\"color: #32FFFF; background-color: #646464\">▆</span><span style=\"background-color: #646464\"></span><span style=\"color: #32FFFF; background-color: #646464\">▆</span><span style=\"background-color: #646464\"></span><span style=\"color: #32FFFF; background-color: #646464\">▆</span><span style=\"background-color: #646464\"></span><span style=\"color: #32FFFF; background-color: #646464\">▆</span><span style=\"background-color: #646464\"></span><span style=\"color: #32FFFF; background-color: #646464\">▆</span><span style=\"background-color: #646464\"></span><span style=\"color: #32FFFF; background-color: #646464\">▆</span><span style=\"background-color: #646464\"></span><span style=\"color: #32FFFF; background-color: #646464\">▆</span><span style=\"background-color: #646464\"></span><span style=\"color: #32FFFF; background-color: #646464\">▆</span><span style=\"background-color: #646464\"></span><span style=\"color: #32FFFF; background-color: #646464\">▆</span><span style=\"background-color: #646464\"></span><span style=\"color: #32FFFF; background-color: #646464\">▆</span><span style=\"background-color: #646464\"></span><span style=\"color: #32FFFF; background-color: #646464\">▆</span><span style=\"background-color: #646464\"></span><span style=\"color: #32FFFF; background-color: #646464\">▆</span><span style=\"background-color: #646464\"></span>┃\n",
       "┃  G#3┃|               |               |               |               ┃\n",
       "┃   G3┃<span style=\"background-color: #646464\"></span><span style=\"color: #32FFFF; background-color: #646464\">█</span><span style=\"background-color: #646464\"></span><span style=\"color: #32FFFF; background-color: #646464\">▆</span><span style=\"background-color: #646464\"></span><span style=\"color: #32FFFF; background-color: #646464\">▆</span><span style=\"background-color: #646464\"></span><span style=\"color: #32FFFF; background-color: #646464\">▆</span><span style=\"background-color: #646464\"></span><span style=\"color: #32FFFF; background-color: #646464\">▆</span><span style=\"background-color: #646464\"></span><span style=\"color: #32FFFF; background-color: #646464\">▆</span><span style=\"background-color: #646464\"></span><span style=\"color: #32FFFF; background-color: #646464\">▆</span><span style=\"background-color: #646464\"></span><span style=\"color: #32FFFF; background-color: #646464\">▆</span><span style=\"background-color: #646464\"></span><span style=\"color: #32FFFF; background-color: #646464\">▆</span><span style=\"background-color: #646464\"></span><span style=\"color: #32FFFF; background-color: #646464\">▆</span><span style=\"background-color: #646464\"></span><span style=\"color: #32FFFF; background-color: #646464\">▆</span><span style=\"background-color: #646464\"></span><span style=\"color: #32FFFF; background-color: #646464\">▆</span><span style=\"background-color: #646464\"></span><span style=\"color: #32FFFF; background-color: #646464\">▆</span><span style=\"background-color: #646464\"></span><span style=\"color: #32FFFF; background-color: #646464\">▆</span><span style=\"background-color: #646464\"></span><span style=\"color: #32FFFF; background-color: #646464\">▆</span><span style=\"background-color: #646464\"></span><span style=\"color: #32FFFF; background-color: #646464\">▆</span><span style=\"background-color: #646464\">|               </span><span style=\"color: #32FFFF; background-color: #646464\">█</span><span style=\"background-color: #646464\"></span><span style=\"color: #32FFFF; background-color: #646464\">▆</span><span style=\"background-color: #646464\"></span><span style=\"color: #32FFFF; background-color: #646464\">▆</span><span style=\"background-color: #646464\"></span><span style=\"color: #32FFFF; background-color: #646464\">▆</span><span style=\"background-color: #646464\"></span><span style=\"color: #32FFFF; background-color: #646464\">▆</span><span style=\"background-color: #646464\"></span><span style=\"color: #32FFFF; background-color: #646464\">▆</span><span style=\"background-color: #646464\"></span><span style=\"color: #32FFFF; background-color: #646464\">▆</span><span style=\"background-color: #646464\"></span><span style=\"color: #32FFFF; background-color: #646464\">▆</span><span style=\"background-color: #646464\"></span><span style=\"color: #32FFFF; background-color: #646464\">▆</span><span style=\"background-color: #646464\"></span><span style=\"color: #32FFFF; background-color: #646464\">▆</span><span style=\"background-color: #646464\"></span><span style=\"color: #32FFFF; background-color: #646464\">▆</span><span style=\"background-color: #646464\"></span><span style=\"color: #32FFFF; background-color: #646464\">▆</span><span style=\"background-color: #646464\"></span><span style=\"color: #32FFFF; background-color: #646464\">▆</span><span style=\"background-color: #646464\"></span><span style=\"color: #32FFFF; background-color: #646464\">▆</span><span style=\"background-color: #646464\"></span><span style=\"color: #32FFFF; background-color: #646464\">▆</span><span style=\"background-color: #646464\"></span><span style=\"color: #32FFFF; background-color: #646464\">▆</span><span style=\"background-color: #646464\">|               </span>┃\n",
       "┃  F#3┃|               |               |               |               ┃\n",
       "┃   F3┃<span style=\"background-color: #646464\">|               |               |               |               </span>┃\n",
       "┃   E3┃<span style=\"background-color: #646464\">|               |               |               |               </span>┃\n",
       "┃  D#3┃|               |               |               |               ┃\n",
       "┃   D3┃<span style=\"background-color: #646464\">|               </span><span style=\"color: #27FFFF; background-color: #646464\">█</span><span style=\"background-color: #646464\"></span><span style=\"color: #27FFFF; background-color: #646464\">▆</span><span style=\"background-color: #646464\"></span><span style=\"color: #27FFFF; background-color: #646464\">▆</span><span style=\"background-color: #646464\"></span><span style=\"color: #27FFFF; background-color: #646464\">▆</span><span style=\"background-color: #646464\"></span><span style=\"color: #27FFFF; background-color: #646464\">▆</span><span style=\"background-color: #646464\"></span><span style=\"color: #27FFFF; background-color: #646464\">▆</span><span style=\"background-color: #646464\"></span><span style=\"color: #27FFFF; background-color: #646464\">▆</span><span style=\"background-color: #646464\"></span><span style=\"color: #27FFFF; background-color: #646464\">▆</span><span style=\"background-color: #646464\"></span><span style=\"color: #27FFFF; background-color: #646464\">▆</span><span style=\"background-color: #646464\"></span><span style=\"color: #27FFFF; background-color: #646464\">▆</span><span style=\"background-color: #646464\"></span><span style=\"color: #27FFFF; background-color: #646464\">▆</span><span style=\"background-color: #646464\"></span><span style=\"color: #27FFFF; background-color: #646464\">▆</span><span style=\"background-color: #646464\"></span><span style=\"color: #27FFFF; background-color: #646464\">▆</span><span style=\"background-color: #646464\"></span><span style=\"color: #27FFFF; background-color: #646464\">▆</span><span style=\"background-color: #646464\"></span><span style=\"color: #27FFFF; background-color: #646464\">▆</span><span style=\"background-color: #646464\"></span><span style=\"color: #27FFFF; background-color: #646464\">▆</span><span style=\"background-color: #646464\">|               </span><span style=\"color: #27FFFF; background-color: #646464\">█</span><span style=\"background-color: #646464\"></span><span style=\"color: #27FFFF; background-color: #646464\">▆</span><span style=\"background-color: #646464\"></span><span style=\"color: #27FFFF; background-color: #646464\">▆</span><span style=\"background-color: #646464\"></span><span style=\"color: #27FFFF; background-color: #646464\">▆</span><span style=\"background-color: #646464\"></span><span style=\"color: #27FFFF; background-color: #646464\">▆</span><span style=\"background-color: #646464\"></span><span style=\"color: #27FFFF; background-color: #646464\">▆</span><span style=\"background-color: #646464\"></span><span style=\"color: #27FFFF; background-color: #646464\">▆</span><span style=\"background-color: #646464\"></span><span style=\"color: #27FFFF; background-color: #646464\">▆</span><span style=\"background-color: #646464\"></span><span style=\"color: #27FFFF; background-color: #646464\">▆</span><span style=\"background-color: #646464\"></span><span style=\"color: #27FFFF; background-color: #646464\">▆</span><span style=\"background-color: #646464\"></span><span style=\"color: #27FFFF; background-color: #646464\">▆</span><span style=\"background-color: #646464\"></span><span style=\"color: #27FFFF; background-color: #646464\">▆</span><span style=\"background-color: #646464\"></span><span style=\"color: #27FFFF; background-color: #646464\">▆</span><span style=\"background-color: #646464\"></span><span style=\"color: #27FFFF; background-color: #646464\">▆</span><span style=\"background-color: #646464\"></span><span style=\"color: #27FFFF; background-color: #646464\">▆</span><span style=\"background-color: #646464\"></span><span style=\"color: #27FFFF; background-color: #646464\">▆</span><span style=\"background-color: #646464\"></span>┃\n",
       "┃  C#3┃|               |               |               |               ┃\n",
       "┃   C3┃<span style=\"background-color: #646464\"></span><span style=\"color: #27FFFF; background-color: #646464\">█</span><span style=\"background-color: #646464\"></span><span style=\"color: #27FFFF; background-color: #646464\">▆</span><span style=\"background-color: #646464\"></span><span style=\"color: #27FFFF; background-color: #646464\">▆</span><span style=\"background-color: #646464\"></span><span style=\"color: #27FFFF; background-color: #646464\">▆</span><span style=\"background-color: #646464\"></span><span style=\"color: #27FFFF; background-color: #646464\">▆</span><span style=\"background-color: #646464\"></span><span style=\"color: #27FFFF; background-color: #646464\">▆</span><span style=\"background-color: #646464\"></span><span style=\"color: #27FFFF; background-color: #646464\">▆</span><span style=\"background-color: #646464\"></span><span style=\"color: #27FFFF; background-color: #646464\">▆</span><span style=\"background-color: #646464\"></span><span style=\"color: #27FFFF; background-color: #646464\">▆</span><span style=\"background-color: #646464\"></span><span style=\"color: #27FFFF; background-color: #646464\">▆</span><span style=\"background-color: #646464\"></span><span style=\"color: #64FFFF; background-color: #646464\">▆</span><span style=\"background-color: #646464\"></span><span style=\"color: #64FFFF; background-color: #646464\">▆</span><span style=\"background-color: #646464\"></span><span style=\"color: #27FFFF; background-color: #646464\">▆</span><span style=\"background-color: #646464\"></span><span style=\"color: #27FFFF; background-color: #646464\">▆</span><span style=\"background-color: #646464\"></span><span style=\"color: #27FFFF; background-color: #646464\">▆</span><span style=\"background-color: #646464\"></span><span style=\"color: #27FFFF; background-color: #646464\">▆</span><span style=\"background-color: #646464\">|               </span><span style=\"color: #27FFFF; background-color: #646464\">█</span><span style=\"background-color: #646464\"></span><span style=\"color: #27FFFF; background-color: #646464\">▆</span><span style=\"background-color: #646464\"></span><span style=\"color: #27FFFF; background-color: #646464\">▆</span><span style=\"background-color: #646464\"></span><span style=\"color: #27FFFF; background-color: #646464\">▆</span><span style=\"background-color: #646464\"></span><span style=\"color: #27FFFF; background-color: #646464\">▆</span><span style=\"background-color: #646464\"></span><span style=\"color: #27FFFF; background-color: #646464\">▆</span><span style=\"background-color: #646464\"></span><span style=\"color: #27FFFF; background-color: #646464\">▆</span><span style=\"background-color: #646464\"></span><span style=\"color: #27FFFF; background-color: #646464\">▆</span><span style=\"background-color: #646464\"></span><span style=\"color: #27FFFF; background-color: #646464\">▆</span><span style=\"background-color: #646464\"></span><span style=\"color: #27FFFF; background-color: #646464\">▆</span><span style=\"background-color: #646464\"></span><span style=\"color: #64FFFF; background-color: #646464\">▆</span><span style=\"background-color: #646464\"></span><span style=\"color: #64FFFF; background-color: #646464\">▆</span><span style=\"background-color: #646464\"></span><span style=\"color: #27FFFF; background-color: #646464\">▆</span><span style=\"background-color: #646464\"></span><span style=\"color: #27FFFF; background-color: #646464\">▆</span><span style=\"background-color: #646464\"></span><span style=\"color: #27FFFF; background-color: #646464\">▆</span><span style=\"background-color: #646464\"></span><span style=\"color: #27FFFF; background-color: #646464\">▆</span><span style=\"background-color: #646464\">|               </span>┃\n",
       "┗━━━━━┻┻━━━┷━━━┷━━━┷━━━┻━━━┷━━━┷━━━┷━━━┻━━━┷━━━┷━━━┷━━━┻━━━┷━━━┷━━━┷━━━┛\n",
       "       0               1               2               3               4</div>\n",
       "                    "
      ]
     },
     "metadata": {},
     "output_type": "display_data"
    }
   ],
   "execution_count": 7
  },
  {
   "metadata": {},
   "cell_type": "markdown",
   "source": [
    "### Stem Extraction\n",
    "We can extract bass, chord, and melody stems from the MIDI file.\n",
    "\n",
    "Note that the algorithm has limitations. **The extracted bass and chord stems retain only the fundamental pitches and do not preserve the original rhythmic patterns.** For example, if a chord is played with a repeating rhythm like \"X X X X \" (e.g., four 16th-note strikes), it may be interpreted as a single sustained chord \"X-------\". Note that when processing complex MIDI files such as broken chords, the algorithm may also misclassify chords/bass notes."
   ],
   "id": "fa94db4f2aef64b2"
  },
  {
   "metadata": {
    "ExecuteTime": {
     "end_time": "2025-06-19T16:25:35.937772Z",
     "start_time": "2025-06-19T16:25:35.805798Z"
    }
   },
   "cell_type": "code",
   "source": [
    "midi1_composite.bass_roll.print_roll()\n",
    "midi1_composite.chord_roll.print_roll()\n",
    "midi1_composite.melody_roll.print_roll()"
   ],
   "id": "f70f67a95dc8d9ca",
   "outputs": [
    {
     "name": "stdout",
     "output_type": "stream",
     "text": [
      "View: Compact, Type: Bass, MIDI: ./midi1_composite.mid, TimeSignature: 4/4\n",
      "Quantization Mode: Start_end, Quantization Factor: 16, Length: 4bars 0steps 0ticks \n",
      "key: CMajor/AMinor\n"
     ]
    },
    {
     "data": {
      "text/plain": [
       "<IPython.core.display.HTML object>"
      ],
      "text/html": [
       "\n",
       "                    <div style=\"\n",
       "                        overflow-x: auto;\n",
       "                        white-space: pre;\n",
       "                        font-family: monospace;\n",
       "                        line-height: 1.1;\n",
       "                        font-size: 16px;\n",
       "                        padding: 4px;\n",
       "                        margin: 0;\n",
       "                    \">┏━━━━┳┳━━━┯━━━┯━━━┯━━━┳━━━┯━━━┯━━━┯━━━┳━━━┯━━━┯━━━┯━━━┳━━━┯━━━┯━━━┯━━━┓\n",
       "┃  D3┃|               <span style=\"color: #27FFFF\">█</span><span style=\"color: #27FFFF\">▆</span><span style=\"color: #27FFFF\">▆</span><span style=\"color: #27FFFF\">▆</span><span style=\"color: #27FFFF\">▆</span><span style=\"color: #27FFFF\">▆</span><span style=\"color: #27FFFF\">▆</span><span style=\"color: #27FFFF\">▆</span><span style=\"color: #27FFFF\">▆</span><span style=\"color: #27FFFF\">▆</span><span style=\"color: #27FFFF\">▆</span><span style=\"color: #27FFFF\">▆</span><span style=\"color: #27FFFF\">▆</span><span style=\"color: #27FFFF\">▆</span><span style=\"color: #27FFFF\">▆</span><span style=\"color: #27FFFF\">▆</span>|               <span style=\"color: #27FFFF\">█</span><span style=\"color: #27FFFF\">▆</span><span style=\"color: #27FFFF\">▆</span><span style=\"color: #27FFFF\">▆</span><span style=\"color: #27FFFF\">▆</span><span style=\"color: #27FFFF\">▆</span><span style=\"color: #27FFFF\">▆</span><span style=\"color: #27FFFF\">▆</span><span style=\"color: #27FFFF\">▆</span><span style=\"color: #27FFFF\">▆</span><span style=\"color: #27FFFF\">▆</span><span style=\"color: #27FFFF\">▆</span><span style=\"color: #27FFFF\">▆</span><span style=\"color: #27FFFF\">▆</span><span style=\"color: #27FFFF\">▆</span><span style=\"color: #27FFFF\">▆</span>┃\n",
       "┃  C3┃<span style=\"color: #27FFFF\">█</span><span style=\"color: #27FFFF\">▆</span><span style=\"color: #27FFFF\">▆</span><span style=\"color: #27FFFF\">▆</span><span style=\"color: #27FFFF\">▆</span><span style=\"color: #27FFFF\">▆</span><span style=\"color: #27FFFF\">▆</span><span style=\"color: #27FFFF\">▆</span><span style=\"color: #27FFFF\">▆</span><span style=\"color: #27FFFF\">▆</span><span style=\"color: #27FFFF\">▆</span><span style=\"color: #27FFFF\">▆</span><span style=\"color: #27FFFF\">▆</span><span style=\"color: #27FFFF\">▆</span><span style=\"color: #27FFFF\">▆</span><span style=\"color: #27FFFF\">▆</span>|               <span style=\"color: #27FFFF\">█</span><span style=\"color: #27FFFF\">▆</span><span style=\"color: #27FFFF\">▆</span><span style=\"color: #27FFFF\">▆</span><span style=\"color: #27FFFF\">▆</span><span style=\"color: #27FFFF\">▆</span><span style=\"color: #27FFFF\">▆</span><span style=\"color: #27FFFF\">▆</span><span style=\"color: #27FFFF\">▆</span><span style=\"color: #27FFFF\">▆</span><span style=\"color: #27FFFF\">▆</span><span style=\"color: #27FFFF\">▆</span><span style=\"color: #27FFFF\">▆</span><span style=\"color: #27FFFF\">▆</span><span style=\"color: #27FFFF\">▆</span><span style=\"color: #27FFFF\">▆</span>|               ┃\n",
       "┗━━━━┻┻━━━┷━━━┷━━━┷━━━┻━━━┷━━━┷━━━┷━━━┻━━━┷━━━┷━━━┷━━━┻━━━┷━━━┷━━━┷━━━┛\n",
       "      0               1               2               3               4</div>\n",
       "                    "
      ]
     },
     "metadata": {},
     "output_type": "display_data"
    },
    {
     "name": "stdout",
     "output_type": "stream",
     "text": [
      "View: Compact, Type: Chord, MIDI: ./midi1_composite.mid, TimeSignature: 4/4\n",
      "Quantization Mode: Start_end, Quantization Factor: 16, Length: 4bars 0steps 0ticks \n",
      "key: CMajor/AMinor\n"
     ]
    },
    {
     "data": {
      "text/plain": [
       "<IPython.core.display.HTML object>"
      ],
      "text/html": [
       "\n",
       "                    <div style=\"\n",
       "                        overflow-x: auto;\n",
       "                        white-space: pre;\n",
       "                        font-family: monospace;\n",
       "                        line-height: 1.1;\n",
       "                        font-size: 16px;\n",
       "                        padding: 4px;\n",
       "                        margin: 0;\n",
       "                    \">┏━━━━┳┳━━━┯━━━┯━━━┯━━━┳━━━┯━━━┯━━━┯━━━┳━━━┯━━━┯━━━┯━━━┳━━━┯━━━┯━━━┯━━━┓\n",
       "┃  G4┃|               <span style=\"color: #3AFFFF\">█</span><span style=\"color: #3AFFFF\">▆</span><span style=\"color: #3AFFFF\">▆</span><span style=\"color: #3AFFFF\">▆</span><span style=\"color: #3AFFFF\">▆</span><span style=\"color: #3AFFFF\">▆</span><span style=\"color: #3AFFFF\">▆</span><span style=\"color: #3AFFFF\">▆</span><span style=\"color: #3AFFFF\">▆</span><span style=\"color: #3AFFFF\">▆</span><span style=\"color: #3AFFFF\">▆</span><span style=\"color: #3AFFFF\">▆</span><span style=\"color: #3AFFFF\">▆</span><span style=\"color: #3AFFFF\">▆</span><span style=\"color: #3AFFFF\">▆</span><span style=\"color: #3AFFFF\">▆</span>|               <span style=\"color: #3AFFFF\">█</span><span style=\"color: #3AFFFF\">▆</span><span style=\"color: #3AFFFF\">▆</span><span style=\"color: #3AFFFF\">▆</span><span style=\"color: #3AFFFF\">▆</span><span style=\"color: #3AFFFF\">▆</span><span style=\"color: #3AFFFF\">▆</span><span style=\"color: #3AFFFF\">▆</span><span style=\"color: #3AFFFF\">▆</span><span style=\"color: #3AFFFF\">▆</span><span style=\"color: #3AFFFF\">▆</span><span style=\"color: #3AFFFF\">▆</span><span style=\"color: #3AFFFF\">▆</span><span style=\"color: #3AFFFF\">▆</span><span style=\"color: #3AFFFF\">▆</span><span style=\"color: #3AFFFF\">▆</span>┃\n",
       "┃  F4┃<span style=\"color: #3AFFFF\">█</span><span style=\"color: #3AFFFF\">▆</span><span style=\"color: #3AFFFF\">▆</span><span style=\"color: #3AFFFF\">▆</span><span style=\"color: #3AFFFF\">▆</span><span style=\"color: #3AFFFF\">▆</span><span style=\"color: #3AFFFF\">▆</span><span style=\"color: #3AFFFF\">▆</span><span style=\"color: #3AFFFF\">▆</span><span style=\"color: #3AFFFF\">▆</span><span style=\"color: #3AFFFF\">▆</span><span style=\"color: #3AFFFF\">▆</span><span style=\"color: #3AFFFF\">▆</span><span style=\"color: #3AFFFF\">▆</span><span style=\"color: #3AFFFF\">▆</span><span style=\"color: #3AFFFF\">▆</span>|               <span style=\"color: #3AFFFF\">█</span><span style=\"color: #3AFFFF\">▆</span><span style=\"color: #3AFFFF\">▆</span><span style=\"color: #3AFFFF\">▆</span><span style=\"color: #3AFFFF\">▆</span><span style=\"color: #3AFFFF\">▆</span><span style=\"color: #3AFFFF\">▆</span><span style=\"color: #3AFFFF\">▆</span><span style=\"color: #3AFFFF\">▆</span><span style=\"color: #3AFFFF\">▆</span><span style=\"color: #3AFFFF\">▆</span><span style=\"color: #3AFFFF\">▆</span><span style=\"color: #3AFFFF\">▆</span><span style=\"color: #3AFFFF\">▆</span><span style=\"color: #3AFFFF\">▆</span><span style=\"color: #3AFFFF\">▆</span>|               ┃\n",
       "┃  E4┃|               <span style=\"color: #2CFFFF\">█</span><span style=\"color: #2CFFFF\">▆</span><span style=\"color: #2CFFFF\">▆</span><span style=\"color: #2CFFFF\">▆</span><span style=\"color: #2CFFFF\">▆</span><span style=\"color: #2CFFFF\">▆</span><span style=\"color: #2CFFFF\">▆</span><span style=\"color: #2CFFFF\">▆</span><span style=\"color: #2CFFFF\">▆</span><span style=\"color: #2CFFFF\">▆</span><span style=\"color: #2CFFFF\">▆</span><span style=\"color: #2CFFFF\">▆</span><span style=\"color: #2CFFFF\">▆</span><span style=\"color: #2CFFFF\">▆</span><span style=\"color: #2CFFFF\">▆</span><span style=\"color: #2CFFFF\">▆</span>|               <span style=\"color: #2CFFFF\">█</span><span style=\"color: #2CFFFF\">▆</span><span style=\"color: #2CFFFF\">▆</span><span style=\"color: #2CFFFF\">▆</span><span style=\"color: #2CFFFF\">▆</span><span style=\"color: #2CFFFF\">▆</span><span style=\"color: #2CFFFF\">▆</span><span style=\"color: #2CFFFF\">▆</span><span style=\"color: #2CFFFF\">▆</span><span style=\"color: #2CFFFF\">▆</span><span style=\"color: #2CFFFF\">▆</span><span style=\"color: #2CFFFF\">▆</span><span style=\"color: #2CFFFF\">▆</span><span style=\"color: #2CFFFF\">▆</span><span style=\"color: #2CFFFF\">▆</span><span style=\"color: #2CFFFF\">▆</span>┃\n",
       "┃  D4┃<span style=\"color: #2CFFFF\">█</span><span style=\"color: #2CFFFF\">▆</span><span style=\"color: #2CFFFF\">▆</span><span style=\"color: #2CFFFF\">▆</span><span style=\"color: #2CFFFF\">▆</span><span style=\"color: #2CFFFF\">▆</span><span style=\"color: #2CFFFF\">▆</span><span style=\"color: #2CFFFF\">▆</span><span style=\"color: #2CFFFF\">▆</span><span style=\"color: #2CFFFF\">▆</span><span style=\"color: #2CFFFF\">▆</span><span style=\"color: #2CFFFF\">▆</span><span style=\"color: #2CFFFF\">▆</span><span style=\"color: #2CFFFF\">▆</span><span style=\"color: #2CFFFF\">▆</span><span style=\"color: #2CFFFF\">▆</span>|               <span style=\"color: #2CFFFF\">█</span><span style=\"color: #2CFFFF\">▆</span><span style=\"color: #2CFFFF\">▆</span><span style=\"color: #2CFFFF\">▆</span><span style=\"color: #2CFFFF\">▆</span><span style=\"color: #2CFFFF\">▆</span><span style=\"color: #2CFFFF\">▆</span><span style=\"color: #2CFFFF\">▆</span><span style=\"color: #2CFFFF\">▆</span><span style=\"color: #2CFFFF\">▆</span><span style=\"color: #2CFFFF\">▆</span><span style=\"color: #2CFFFF\">▆</span><span style=\"color: #2CFFFF\">▆</span><span style=\"color: #2CFFFF\">▆</span><span style=\"color: #2CFFFF\">▆</span><span style=\"color: #2CFFFF\">▆</span>|               ┃\n",
       "┃  A3┃|               <span style=\"color: #32FFFF\">█</span><span style=\"color: #32FFFF\">▆</span><span style=\"color: #32FFFF\">▆</span><span style=\"color: #32FFFF\">▆</span><span style=\"color: #32FFFF\">▆</span><span style=\"color: #32FFFF\">▆</span><span style=\"color: #32FFFF\">▆</span><span style=\"color: #32FFFF\">▆</span><span style=\"color: #32FFFF\">▆</span><span style=\"color: #32FFFF\">▆</span><span style=\"color: #32FFFF\">▆</span><span style=\"color: #32FFFF\">▆</span><span style=\"color: #32FFFF\">▆</span><span style=\"color: #32FFFF\">▆</span><span style=\"color: #32FFFF\">▆</span><span style=\"color: #32FFFF\">▆</span>|               <span style=\"color: #32FFFF\">█</span><span style=\"color: #32FFFF\">▆</span><span style=\"color: #32FFFF\">▆</span><span style=\"color: #32FFFF\">▆</span><span style=\"color: #32FFFF\">▆</span><span style=\"color: #32FFFF\">▆</span><span style=\"color: #32FFFF\">▆</span><span style=\"color: #32FFFF\">▆</span><span style=\"color: #32FFFF\">▆</span><span style=\"color: #32FFFF\">▆</span><span style=\"color: #32FFFF\">▆</span><span style=\"color: #32FFFF\">▆</span><span style=\"color: #32FFFF\">▆</span><span style=\"color: #32FFFF\">▆</span><span style=\"color: #32FFFF\">▆</span><span style=\"color: #32FFFF\">▆</span>┃\n",
       "┃  G3┃<span style=\"color: #32FFFF\">█</span><span style=\"color: #32FFFF\">▆</span><span style=\"color: #32FFFF\">▆</span><span style=\"color: #32FFFF\">▆</span><span style=\"color: #32FFFF\">▆</span><span style=\"color: #32FFFF\">▆</span><span style=\"color: #32FFFF\">▆</span><span style=\"color: #32FFFF\">▆</span><span style=\"color: #32FFFF\">▆</span><span style=\"color: #32FFFF\">▆</span><span style=\"color: #32FFFF\">▆</span><span style=\"color: #32FFFF\">▆</span><span style=\"color: #32FFFF\">▆</span><span style=\"color: #32FFFF\">▆</span><span style=\"color: #32FFFF\">▆</span><span style=\"color: #32FFFF\">▆</span>|               <span style=\"color: #32FFFF\">█</span><span style=\"color: #32FFFF\">▆</span><span style=\"color: #32FFFF\">▆</span><span style=\"color: #32FFFF\">▆</span><span style=\"color: #32FFFF\">▆</span><span style=\"color: #32FFFF\">▆</span><span style=\"color: #32FFFF\">▆</span><span style=\"color: #32FFFF\">▆</span><span style=\"color: #32FFFF\">▆</span><span style=\"color: #32FFFF\">▆</span><span style=\"color: #32FFFF\">▆</span><span style=\"color: #32FFFF\">▆</span><span style=\"color: #32FFFF\">▆</span><span style=\"color: #32FFFF\">▆</span><span style=\"color: #32FFFF\">▆</span><span style=\"color: #32FFFF\">▆</span>|               ┃\n",
       "┃  D3┃|               <span style=\"color: #27FFFF\">█</span><span style=\"color: #27FFFF\">▆</span><span style=\"color: #27FFFF\">▆</span><span style=\"color: #27FFFF\">▆</span><span style=\"color: #27FFFF\">▆</span><span style=\"color: #27FFFF\">▆</span><span style=\"color: #27FFFF\">▆</span><span style=\"color: #27FFFF\">▆</span><span style=\"color: #27FFFF\">▆</span><span style=\"color: #27FFFF\">▆</span><span style=\"color: #27FFFF\">▆</span><span style=\"color: #27FFFF\">▆</span><span style=\"color: #27FFFF\">▆</span><span style=\"color: #27FFFF\">▆</span><span style=\"color: #27FFFF\">▆</span><span style=\"color: #27FFFF\">▆</span>|               <span style=\"color: #27FFFF\">█</span><span style=\"color: #27FFFF\">▆</span><span style=\"color: #27FFFF\">▆</span><span style=\"color: #27FFFF\">▆</span><span style=\"color: #27FFFF\">▆</span><span style=\"color: #27FFFF\">▆</span><span style=\"color: #27FFFF\">▆</span><span style=\"color: #27FFFF\">▆</span><span style=\"color: #27FFFF\">▆</span><span style=\"color: #27FFFF\">▆</span><span style=\"color: #27FFFF\">▆</span><span style=\"color: #27FFFF\">▆</span><span style=\"color: #27FFFF\">▆</span><span style=\"color: #27FFFF\">▆</span><span style=\"color: #27FFFF\">▆</span><span style=\"color: #27FFFF\">▆</span>┃\n",
       "┃  C3┃<span style=\"color: #27FFFF\">█</span><span style=\"color: #27FFFF\">▆</span><span style=\"color: #27FFFF\">▆</span><span style=\"color: #27FFFF\">▆</span><span style=\"color: #27FFFF\">▆</span><span style=\"color: #27FFFF\">▆</span><span style=\"color: #27FFFF\">▆</span><span style=\"color: #27FFFF\">▆</span><span style=\"color: #27FFFF\">▆</span><span style=\"color: #27FFFF\">▆</span><span style=\"color: #27FFFF\">▆</span><span style=\"color: #27FFFF\">▆</span><span style=\"color: #27FFFF\">▆</span><span style=\"color: #27FFFF\">▆</span><span style=\"color: #27FFFF\">▆</span><span style=\"color: #27FFFF\">▆</span>|               <span style=\"color: #27FFFF\">█</span><span style=\"color: #27FFFF\">▆</span><span style=\"color: #27FFFF\">▆</span><span style=\"color: #27FFFF\">▆</span><span style=\"color: #27FFFF\">▆</span><span style=\"color: #27FFFF\">▆</span><span style=\"color: #27FFFF\">▆</span><span style=\"color: #27FFFF\">▆</span><span style=\"color: #27FFFF\">▆</span><span style=\"color: #27FFFF\">▆</span><span style=\"color: #27FFFF\">▆</span><span style=\"color: #27FFFF\">▆</span><span style=\"color: #27FFFF\">▆</span><span style=\"color: #27FFFF\">▆</span><span style=\"color: #27FFFF\">▆</span><span style=\"color: #27FFFF\">▆</span>|               ┃\n",
       "┗━━━━┻┻━━━┷━━━┷━━━┷━━━┻━━━┷━━━┷━━━┷━━━┻━━━┷━━━┷━━━┷━━━┻━━━┷━━━┷━━━┷━━━┛\n",
       "      0               1               2               3               4</div>\n",
       "                    "
      ]
     },
     "metadata": {},
     "output_type": "display_data"
    },
    {
     "name": "stdout",
     "output_type": "stream",
     "text": [
      "View: Compact, Type: Melody, MIDI: ./midi1_composite.mid, TimeSignature: 4/4\n",
      "Quantization Mode: Start_end, Quantization Factor: 16, Length: 4bars 0steps 0ticks \n",
      "key: CMajor/AMinor\n"
     ]
    },
    {
     "data": {
      "text/plain": [
       "<IPython.core.display.HTML object>"
      ],
      "text/html": [
       "\n",
       "                    <div style=\"\n",
       "                        overflow-x: auto;\n",
       "                        white-space: pre;\n",
       "                        font-family: monospace;\n",
       "                        line-height: 1.1;\n",
       "                        font-size: 16px;\n",
       "                        padding: 4px;\n",
       "                        margin: 0;\n",
       "                    \">┏━━━━┳┳━━━┯━━━┯━━━┯━━━┳━━━┯━━━┯━━━┯━━━┳━━━┯━━━┯━━━┯━━━┳━━━┯━━━┯━━━┯━━━┓\n",
       "┃  A5┃|           <span style=\"color: #46FFFF\">█</span><span style=\"color: #46FFFF\">▆</span><span style=\"color: #46FFFF\">▆</span><span style=\"color: #46FFFF\">▆</span>|               |           <span style=\"color: #46FFFF\">█</span><span style=\"color: #46FFFF\">▆</span><span style=\"color: #46FFFF\">▆</span><span style=\"color: #46FFFF\">▆</span>|               ┃\n",
       "┃  G5┃<span style=\"color: #58FFFF\">█</span><span style=\"color: #58FFFF\">▆</span><span style=\"color: #58FFFF\">▆</span><span style=\"color: #58FFFF\">▆</span><span style=\"color: #58FFFF\">▆</span><span style=\"color: #58FFFF\">▆</span><span style=\"color: #58FFFF\">▆</span><span style=\"color: #58FFFF\">▆</span>  <span style=\"color: #3EFFFF\">█</span><span style=\"color: #3EFFFF\">▆</span>    <span style=\"color: #2BFFFF\">█</span><span style=\"color: #2BFFFF\">▆</span><span style=\"color: #2BFFFF\">▆</span><span style=\"color: #2BFFFF\">▆</span><span style=\"color: #2BFFFF\">▆</span><span style=\"color: #2BFFFF\">▆</span><span style=\"color: #2BFFFF\">▆</span><span style=\"color: #2BFFFF\">▆</span>        <span style=\"color: #58FFFF\">█</span><span style=\"color: #58FFFF\">▆</span><span style=\"color: #58FFFF\">▆</span><span style=\"color: #58FFFF\">▆</span><span style=\"color: #58FFFF\">▆</span><span style=\"color: #58FFFF\">▆</span><span style=\"color: #58FFFF\">▆</span><span style=\"color: #58FFFF\">▆</span>  <span style=\"color: #3EFFFF\">█</span><span style=\"color: #3EFFFF\">▆</span>    <span style=\"color: #2BFFFF\">█</span><span style=\"color: #2BFFFF\">▆</span><span style=\"color: #2BFFFF\">▆</span><span style=\"color: #2BFFFF\">▆</span><span style=\"color: #2BFFFF\">▆</span><span style=\"color: #2BFFFF\">▆</span><span style=\"color: #2BFFFF\">▆</span><span style=\"color: #2BFFFF\">▆</span>        ┃\n",
       "┃  F5┃<span style=\"color: #3DFFFF\">█</span>       <span style=\"color: #3EFFFF\">█</span><span style=\"color: #3EFFFF\">▆</span>      |               <span style=\"color: #3DFFFF\">█</span>       <span style=\"color: #3EFFFF\">█</span><span style=\"color: #3EFFFF\">▆</span>      |               ┃\n",
       "┃  C5┃|               |       <span style=\"color: #34FFFF\">█</span><span style=\"color: #34FFFF\">▆</span><span style=\"color: #34FFFF\">▆</span><span style=\"color: #34FFFF\">▆</span><span style=\"color: #34FFFF\">▆</span><span style=\"color: #34FFFF\">▆</span><span style=\"color: #34FFFF\">▆</span><span style=\"color: #34FFFF\">▆</span>|               |       <span style=\"color: #34FFFF\">█</span><span style=\"color: #34FFFF\">▆</span><span style=\"color: #34FFFF\">▆</span><span style=\"color: #34FFFF\">▆</span><span style=\"color: #34FFFF\">▆</span><span style=\"color: #34FFFF\">▆</span><span style=\"color: #34FFFF\">▆</span><span style=\"color: #34FFFF\">▆</span>┃\n",
       "┗━━━━┻┻━━━┷━━━┷━━━┷━━━┻━━━┷━━━┷━━━┷━━━┻━━━┷━━━┷━━━┷━━━┻━━━┷━━━┷━━━┷━━━┛\n",
       "      0               1               2               3               4</div>\n",
       "                    "
      ]
     },
     "metadata": {},
     "output_type": "display_data"
    }
   ],
   "execution_count": 8
  },
  {
   "metadata": {
    "ExecuteTime": {
     "end_time": "2025-06-19T16:25:39.510279Z",
     "start_time": "2025-06-19T16:25:39.399385Z"
    }
   },
   "cell_type": "code",
   "source": [
    "# A groovy midi case\n",
    "midi2_groovy = MIDIProcessor('./midi2_groovy.mid')\n",
    "midi2_groovy.piano_roll.print_roll()"
   ],
   "id": "79c34836aaa09477",
   "outputs": [
    {
     "name": "stdout",
     "output_type": "stream",
     "text": [
      "View: Compact, Type: Composite, MIDI: ./midi2_groovy.mid, TimeSignature: 4/4\n",
      "Quantization Mode: Start_end, Quantization Factor: 16, Length: 4bars 0steps 0ticks \n",
      "key: CMajor/AMinor\n"
     ]
    },
    {
     "data": {
      "text/plain": [
       "<IPython.core.display.HTML object>"
      ],
      "text/html": [
       "\n",
       "                    <div style=\"\n",
       "                        overflow-x: auto;\n",
       "                        white-space: pre;\n",
       "                        font-family: monospace;\n",
       "                        line-height: 1.1;\n",
       "                        font-size: 16px;\n",
       "                        padding: 4px;\n",
       "                        margin: 0;\n",
       "                    \">┏━━━━┳┳━━━┯━━━┯━━━┯━━━┳━━━┯━━━┯━━━┯━━━┳━━━┯━━━┯━━━┯━━━┳━━━┯━━━┯━━━┯━━━┓\n",
       "┃  D4┃|               <span style=\"color: #64FFFF\">█</span><span style=\"color: #64FFFF\">▆</span><span style=\"color: #64FFFF\">█</span><span style=\"color: #64FFFF\">▆</span><span style=\"color: #64FFFF\">█</span><span style=\"color: #64FFFF\">▆</span><span style=\"color: #64FFFF\">█</span><span style=\"color: #64FFFF\">▆</span><span style=\"color: #64FFFF\">█</span><span style=\"color: #64FFFF\">▆</span><span style=\"color: #64FFFF\">█</span><span style=\"color: #64FFFF\">▆</span><span style=\"color: #64FFFF\">█</span><span style=\"color: #64FFFF\">▆</span><span style=\"color: #64FFFF\">█</span><span style=\"color: #64FFFF\">▆</span>|               |               ┃\n",
       "┃  C4┃<span style=\"color: #64FFFF\">█</span><span style=\"color: #64FFFF\">▆</span><span style=\"color: #64FFFF\">█</span><span style=\"color: #64FFFF\">▆</span><span style=\"color: #64FFFF\">█</span><span style=\"color: #64FFFF\">▆</span><span style=\"color: #64FFFF\">█</span><span style=\"color: #64FFFF\">▆</span><span style=\"color: #64FFFF\">█</span><span style=\"color: #64FFFF\">▆</span><span style=\"color: #64FFFF\">█</span><span style=\"color: #64FFFF\">▆</span><span style=\"color: #64FFFF\">█</span><span style=\"color: #64FFFF\">▆</span><span style=\"color: #64FFFF\">█</span><span style=\"color: #64FFFF\">▆</span>|               |               |               ┃\n",
       "┃  B3┃|               |               |               <span style=\"color: #64FFFF\">█</span><span style=\"color: #64FFFF\">▆</span><span style=\"color: #64FFFF\">█</span><span style=\"color: #64FFFF\">▆</span><span style=\"color: #64FFFF\">█</span><span style=\"color: #64FFFF\">▆</span><span style=\"color: #64FFFF\">█</span><span style=\"color: #64FFFF\">▆</span><span style=\"color: #64FFFF\">█</span><span style=\"color: #64FFFF\">▆</span><span style=\"color: #64FFFF\">█</span><span style=\"color: #64FFFF\">▆</span><span style=\"color: #64FFFF\">█</span><span style=\"color: #64FFFF\">▆</span><span style=\"color: #64FFFF\">█</span><span style=\"color: #64FFFF\">▆</span>┃\n",
       "┃  A3┃|               <span style=\"color: #64FFFF\">█</span><span style=\"color: #64FFFF\">▆</span><span style=\"color: #64FFFF\">█</span><span style=\"color: #64FFFF\">▆</span><span style=\"color: #64FFFF\">█</span><span style=\"color: #64FFFF\">▆</span><span style=\"color: #64FFFF\">█</span><span style=\"color: #64FFFF\">▆</span><span style=\"color: #64FFFF\">█</span><span style=\"color: #64FFFF\">▆</span><span style=\"color: #64FFFF\">█</span><span style=\"color: #64FFFF\">▆</span><span style=\"color: #64FFFF\">█</span><span style=\"color: #64FFFF\">▆</span><span style=\"color: #64FFFF\">█</span><span style=\"color: #64FFFF\">▆</span><span style=\"color: #64FFFF\">█</span><span style=\"color: #64FFFF\">▆</span><span style=\"color: #64FFFF\">█</span><span style=\"color: #64FFFF\">▆</span><span style=\"color: #64FFFF\">█</span><span style=\"color: #64FFFF\">▆</span><span style=\"color: #64FFFF\">█</span><span style=\"color: #64FFFF\">▆</span><span style=\"color: #64FFFF\">█</span><span style=\"color: #64FFFF\">▆</span><span style=\"color: #64FFFF\">█</span><span style=\"color: #64FFFF\">▆</span><span style=\"color: #64FFFF\">█</span><span style=\"color: #64FFFF\">▆</span><span style=\"color: #64FFFF\">█</span><span style=\"color: #64FFFF\">▆</span>|               ┃\n",
       "┃  G3┃<span style=\"color: #64FFFF\">█</span><span style=\"color: #64FFFF\">▆</span><span style=\"color: #64FFFF\">█</span><span style=\"color: #64FFFF\">▆</span><span style=\"color: #64FFFF\">█</span><span style=\"color: #64FFFF\">▆</span><span style=\"color: #64FFFF\">█</span><span style=\"color: #64FFFF\">▆</span><span style=\"color: #64FFFF\">█</span><span style=\"color: #64FFFF\">▆</span><span style=\"color: #64FFFF\">█</span><span style=\"color: #64FFFF\">▆</span><span style=\"color: #64FFFF\">█</span><span style=\"color: #64FFFF\">▆</span><span style=\"color: #64FFFF\">█</span><span style=\"color: #64FFFF\">▆</span>|               |               <span style=\"color: #64FFFF\">█</span><span style=\"color: #64FFFF\">▆</span><span style=\"color: #64FFFF\">█</span><span style=\"color: #64FFFF\">▆</span><span style=\"color: #64FFFF\">█</span><span style=\"color: #64FFFF\">▆</span><span style=\"color: #64FFFF\">█</span><span style=\"color: #64FFFF\">▆</span><span style=\"color: #64FFFF\">█</span><span style=\"color: #64FFFF\">▆</span><span style=\"color: #64FFFF\">█</span><span style=\"color: #64FFFF\">▆</span><span style=\"color: #64FFFF\">█</span><span style=\"color: #64FFFF\">▆</span><span style=\"color: #64FFFF\">█</span><span style=\"color: #64FFFF\">▆</span>┃\n",
       "┃  F3┃|               <span style=\"color: #64FFFF\">█</span><span style=\"color: #64FFFF\">▆</span><span style=\"color: #64FFFF\">█</span><span style=\"color: #64FFFF\">▆</span><span style=\"color: #64FFFF\">█</span><span style=\"color: #64FFFF\">▆</span><span style=\"color: #64FFFF\">█</span><span style=\"color: #64FFFF\">▆</span><span style=\"color: #64FFFF\">█</span><span style=\"color: #64FFFF\">▆</span><span style=\"color: #64FFFF\">█</span><span style=\"color: #64FFFF\">▆</span><span style=\"color: #64FFFF\">█</span><span style=\"color: #64FFFF\">▆</span><span style=\"color: #64FFFF\">█</span><span style=\"color: #64FFFF\">▆</span>|               |               ┃\n",
       "┃  E3┃|               |               <span style=\"color: #64FFFF\">█</span><span style=\"color: #64FFFF\">▆</span><span style=\"color: #64FFFF\">█</span><span style=\"color: #64FFFF\">▆</span><span style=\"color: #64FFFF\">█</span><span style=\"color: #64FFFF\">▆</span><span style=\"color: #64FFFF\">█</span><span style=\"color: #64FFFF\">▆</span><span style=\"color: #64FFFF\">█</span><span style=\"color: #64FFFF\">▆</span><span style=\"color: #64FFFF\">█</span><span style=\"color: #64FFFF\">▆</span><span style=\"color: #64FFFF\">█</span><span style=\"color: #64FFFF\">▆</span><span style=\"color: #64FFFF\">█</span><span style=\"color: #64FFFF\">▆</span>|               ┃\n",
       "┃  D3┃<span style=\"color: #64FFFF\">█</span><span style=\"color: #64FFFF\">▆</span><span style=\"color: #64FFFF\">█</span><span style=\"color: #64FFFF\">▆</span><span style=\"color: #64FFFF\">█</span><span style=\"color: #64FFFF\">▆</span><span style=\"color: #64FFFF\">█</span><span style=\"color: #64FFFF\">▆</span><span style=\"color: #64FFFF\">█</span><span style=\"color: #64FFFF\">▆</span><span style=\"color: #64FFFF\">█</span><span style=\"color: #64FFFF\">▆</span><span style=\"color: #64FFFF\">█</span><span style=\"color: #64FFFF\">▆</span><span style=\"color: #64FFFF\">█</span><span style=\"color: #64FFFF\">▆</span>|               |               <span style=\"color: #64FFFF\">█</span><span style=\"color: #64FFFF\">▆</span><span style=\"color: #64FFFF\">█</span><span style=\"color: #64FFFF\">▆</span><span style=\"color: #64FFFF\">█</span><span style=\"color: #64FFFF\">▆</span><span style=\"color: #64FFFF\">█</span><span style=\"color: #64FFFF\">▆</span><span style=\"color: #64FFFF\">█</span><span style=\"color: #64FFFF\">▆</span><span style=\"color: #64FFFF\">█</span><span style=\"color: #64FFFF\">▆</span><span style=\"color: #64FFFF\">█</span><span style=\"color: #64FFFF\">▆</span><span style=\"color: #64FFFF\">█</span><span style=\"color: #64FFFF\">▆</span>┃\n",
       "┃  C3┃|               <span style=\"color: #64FFFF\">█</span><span style=\"color: #64FFFF\">▆</span><span style=\"color: #64FFFF\">█</span><span style=\"color: #64FFFF\">▆</span><span style=\"color: #64FFFF\">█</span><span style=\"color: #64FFFF\">▆</span><span style=\"color: #64FFFF\">█</span><span style=\"color: #64FFFF\">▆</span><span style=\"color: #64FFFF\">█</span><span style=\"color: #64FFFF\">▆</span><span style=\"color: #64FFFF\">█</span><span style=\"color: #64FFFF\">▆</span><span style=\"color: #64FFFF\">█</span><span style=\"color: #64FFFF\">▆</span><span style=\"color: #64FFFF\">█</span><span style=\"color: #64FFFF\">▆</span>|               |               ┃\n",
       "┃  B2┃|               |               <span style=\"color: #64FFFF\">█</span><span style=\"color: #64FFFF\">▆</span><span style=\"color: #64FFFF\">█</span><span style=\"color: #64FFFF\">▆</span><span style=\"color: #64FFFF\">█</span><span style=\"color: #64FFFF\">▆</span><span style=\"color: #64FFFF\">█</span><span style=\"color: #64FFFF\">▆</span><span style=\"color: #64FFFF\">█</span><span style=\"color: #64FFFF\">▆</span><span style=\"color: #64FFFF\">█</span><span style=\"color: #64FFFF\">▆</span><span style=\"color: #64FFFF\">█</span><span style=\"color: #64FFFF\">▆</span><span style=\"color: #64FFFF\">█</span><span style=\"color: #64FFFF\">▆</span>|               ┃\n",
       "┃  A2┃<span style=\"color: #64FFFF\">█</span><span style=\"color: #64FFFF\">▆</span><span style=\"color: #64FFFF\">█</span><span style=\"color: #64FFFF\">▆</span><span style=\"color: #64FFFF\">█</span><span style=\"color: #64FFFF\">▆</span><span style=\"color: #64FFFF\">█</span><span style=\"color: #64FFFF\">▆</span><span style=\"color: #64FFFF\">█</span><span style=\"color: #64FFFF\">▆</span><span style=\"color: #64FFFF\">█</span><span style=\"color: #64FFFF\">▆</span><span style=\"color: #64FFFF\">█</span><span style=\"color: #64FFFF\">▆</span><span style=\"color: #64FFFF\">█</span><span style=\"color: #64FFFF\">▆</span>|               |               <span style=\"color: #64FFFF\">█</span><span style=\"color: #64FFFF\">▆</span><span style=\"color: #64FFFF\">█</span><span style=\"color: #64FFFF\">▆</span><span style=\"color: #64FFFF\">█</span><span style=\"color: #64FFFF\">▆</span><span style=\"color: #64FFFF\">█</span><span style=\"color: #64FFFF\">▆</span><span style=\"color: #64FFFF\">█</span><span style=\"color: #64FFFF\">▆</span><span style=\"color: #64FFFF\">█</span><span style=\"color: #64FFFF\">▆</span><span style=\"color: #64FFFF\">█</span><span style=\"color: #64FFFF\">▆</span><span style=\"color: #64FFFF\">█</span><span style=\"color: #64FFFF\">▆</span>┃\n",
       "┃  G2┃|               |               <span style=\"color: #64FFFF\">█</span><span style=\"color: #64FFFF\">▆</span><span style=\"color: #64FFFF\">█</span><span style=\"color: #64FFFF\">▆</span><span style=\"color: #64FFFF\">█</span><span style=\"color: #64FFFF\">▆</span><span style=\"color: #64FFFF\">█</span><span style=\"color: #64FFFF\">▆</span><span style=\"color: #64FFFF\">█</span><span style=\"color: #64FFFF\">▆</span><span style=\"color: #64FFFF\">█</span><span style=\"color: #64FFFF\">▆</span><span style=\"color: #64FFFF\">█</span><span style=\"color: #64FFFF\">▆</span><span style=\"color: #64FFFF\">█</span><span style=\"color: #64FFFF\">▆</span>|               ┃\n",
       "┗━━━━┻┻━━━┷━━━┷━━━┷━━━┻━━━┷━━━┷━━━┷━━━┻━━━┷━━━┷━━━┷━━━┻━━━┷━━━┷━━━┷━━━┛\n",
       "      0               1               2               3               4</div>\n",
       "                    "
      ]
     },
     "metadata": {},
     "output_type": "display_data"
    }
   ],
   "execution_count": 9
  },
  {
   "metadata": {
    "ExecuteTime": {
     "end_time": "2025-06-19T16:25:42.488880Z",
     "start_time": "2025-06-19T16:25:42.441083Z"
    }
   },
   "cell_type": "code",
   "source": [
    "midi2_groovy.bass_roll.print_roll()\n",
    "midi2_groovy.chord_roll.print_roll()\n",
    "midi2_groovy.melody_roll.print_roll()"
   ],
   "id": "29c58c70ce864bdc",
   "outputs": [
    {
     "name": "stdout",
     "output_type": "stream",
     "text": [
      "View: Compact, Type: Bass, MIDI: ./midi2_groovy.mid, TimeSignature: 4/4\n",
      "Quantization Mode: Start_end, Quantization Factor: 16, Length: 4bars 0steps 0ticks \n",
      "key: CMajor/AMinor\n"
     ]
    },
    {
     "data": {
      "text/plain": [
       "<IPython.core.display.HTML object>"
      ],
      "text/html": [
       "\n",
       "                    <div style=\"\n",
       "                        overflow-x: auto;\n",
       "                        white-space: pre;\n",
       "                        font-family: monospace;\n",
       "                        line-height: 1.1;\n",
       "                        font-size: 16px;\n",
       "                        padding: 4px;\n",
       "                        margin: 0;\n",
       "                    \">┏━━━━┳┳━━━┯━━━┯━━━┯━━━┳━━━┯━━━┯━━━┯━━━┳━━━┯━━━┯━━━┯━━━┳━━━┯━━━┯━━━┯━━━┓\n",
       "┃  C3┃|               <span style=\"color: #64FFFF\">█</span><span style=\"color: #64FFFF\">▆</span><span style=\"color: #64FFFF\">▆</span><span style=\"color: #64FFFF\">▆</span><span style=\"color: #64FFFF\">▆</span><span style=\"color: #64FFFF\">▆</span><span style=\"color: #64FFFF\">▆</span><span style=\"color: #64FFFF\">▆</span><span style=\"color: #64FFFF\">▆</span><span style=\"color: #64FFFF\">▆</span><span style=\"color: #64FFFF\">▆</span><span style=\"color: #64FFFF\">▆</span><span style=\"color: #64FFFF\">▆</span><span style=\"color: #64FFFF\">▆</span><span style=\"color: #64FFFF\">▆</span><span style=\"color: #64FFFF\">▆</span>|               |               ┃\n",
       "┃  A2┃<span style=\"color: #64FFFF\">█</span><span style=\"color: #64FFFF\">▆</span><span style=\"color: #64FFFF\">▆</span><span style=\"color: #64FFFF\">▆</span><span style=\"color: #64FFFF\">▆</span><span style=\"color: #64FFFF\">▆</span><span style=\"color: #64FFFF\">▆</span><span style=\"color: #64FFFF\">▆</span><span style=\"color: #64FFFF\">▆</span><span style=\"color: #64FFFF\">▆</span><span style=\"color: #64FFFF\">▆</span><span style=\"color: #64FFFF\">▆</span><span style=\"color: #64FFFF\">▆</span><span style=\"color: #64FFFF\">▆</span><span style=\"color: #64FFFF\">▆</span><span style=\"color: #64FFFF\">▆</span>|               |               <span style=\"color: #64FFFF\">█</span><span style=\"color: #64FFFF\">▆</span><span style=\"color: #64FFFF\">▆</span><span style=\"color: #64FFFF\">▆</span><span style=\"color: #64FFFF\">▆</span><span style=\"color: #64FFFF\">▆</span><span style=\"color: #64FFFF\">▆</span><span style=\"color: #64FFFF\">▆</span><span style=\"color: #64FFFF\">▆</span><span style=\"color: #64FFFF\">▆</span><span style=\"color: #64FFFF\">▆</span><span style=\"color: #64FFFF\">▆</span><span style=\"color: #64FFFF\">▆</span><span style=\"color: #64FFFF\">▆</span><span style=\"color: #64FFFF\">▆</span><span style=\"color: #64FFFF\">▆</span>┃\n",
       "┃  G2┃|               |               <span style=\"color: #64FFFF\">█</span><span style=\"color: #64FFFF\">▆</span><span style=\"color: #64FFFF\">▆</span><span style=\"color: #64FFFF\">▆</span><span style=\"color: #64FFFF\">▆</span><span style=\"color: #64FFFF\">▆</span><span style=\"color: #64FFFF\">▆</span><span style=\"color: #64FFFF\">▆</span><span style=\"color: #64FFFF\">▆</span><span style=\"color: #64FFFF\">▆</span><span style=\"color: #64FFFF\">▆</span><span style=\"color: #64FFFF\">▆</span><span style=\"color: #64FFFF\">▆</span><span style=\"color: #64FFFF\">▆</span><span style=\"color: #64FFFF\">▆</span><span style=\"color: #64FFFF\">▆</span>|               ┃\n",
       "┗━━━━┻┻━━━┷━━━┷━━━┷━━━┻━━━┷━━━┷━━━┷━━━┻━━━┷━━━┷━━━┷━━━┻━━━┷━━━┷━━━┷━━━┛\n",
       "      0               1               2               3               4</div>\n",
       "                    "
      ]
     },
     "metadata": {},
     "output_type": "display_data"
    },
    {
     "name": "stdout",
     "output_type": "stream",
     "text": [
      "View: Compact, Type: Chord, MIDI: ./midi2_groovy.mid, TimeSignature: 4/4\n",
      "Quantization Mode: Start_end, Quantization Factor: 16, Length: 4bars 0steps 0ticks \n",
      "key: CMajor/AMinor\n"
     ]
    },
    {
     "data": {
      "text/plain": [
       "<IPython.core.display.HTML object>"
      ],
      "text/html": [
       "\n",
       "                    <div style=\"\n",
       "                        overflow-x: auto;\n",
       "                        white-space: pre;\n",
       "                        font-family: monospace;\n",
       "                        line-height: 1.1;\n",
       "                        font-size: 16px;\n",
       "                        padding: 4px;\n",
       "                        margin: 0;\n",
       "                    \">┏━━━━┳┳━━━┯━━━┯━━━┯━━━┳━━━┯━━━┯━━━┯━━━┳━━━┯━━━┯━━━┯━━━┳━━━┯━━━┯━━━┯━━━┓\n",
       "┃  D4┃|               <span style=\"color: #64FFFF\">█</span><span style=\"color: #64FFFF\">▆</span><span style=\"color: #64FFFF\">▆</span><span style=\"color: #64FFFF\">▆</span><span style=\"color: #64FFFF\">▆</span><span style=\"color: #64FFFF\">▆</span><span style=\"color: #64FFFF\">▆</span><span style=\"color: #64FFFF\">▆</span><span style=\"color: #64FFFF\">▆</span><span style=\"color: #64FFFF\">▆</span><span style=\"color: #64FFFF\">▆</span><span style=\"color: #64FFFF\">▆</span><span style=\"color: #64FFFF\">▆</span><span style=\"color: #64FFFF\">▆</span><span style=\"color: #64FFFF\">▆</span><span style=\"color: #64FFFF\">▆</span>|               |               ┃\n",
       "┃  C4┃<span style=\"color: #64FFFF\">█</span><span style=\"color: #64FFFF\">▆</span><span style=\"color: #64FFFF\">▆</span><span style=\"color: #64FFFF\">▆</span><span style=\"color: #64FFFF\">▆</span><span style=\"color: #64FFFF\">▆</span><span style=\"color: #64FFFF\">▆</span><span style=\"color: #64FFFF\">▆</span><span style=\"color: #64FFFF\">▆</span><span style=\"color: #64FFFF\">▆</span><span style=\"color: #64FFFF\">▆</span><span style=\"color: #64FFFF\">▆</span><span style=\"color: #64FFFF\">▆</span><span style=\"color: #64FFFF\">▆</span><span style=\"color: #64FFFF\">▆</span><span style=\"color: #64FFFF\">▆</span>|               |               |               ┃\n",
       "┃  B3┃|               |               |               <span style=\"color: #64FFFF\">█</span><span style=\"color: #64FFFF\">▆</span><span style=\"color: #64FFFF\">▆</span><span style=\"color: #64FFFF\">▆</span><span style=\"color: #64FFFF\">▆</span><span style=\"color: #64FFFF\">▆</span><span style=\"color: #64FFFF\">▆</span><span style=\"color: #64FFFF\">▆</span><span style=\"color: #64FFFF\">▆</span><span style=\"color: #64FFFF\">▆</span><span style=\"color: #64FFFF\">▆</span><span style=\"color: #64FFFF\">▆</span><span style=\"color: #64FFFF\">▆</span><span style=\"color: #64FFFF\">▆</span><span style=\"color: #64FFFF\">▆</span><span style=\"color: #64FFFF\">▆</span>┃\n",
       "┃  A3┃|               <span style=\"color: #64FFFF\">█</span><span style=\"color: #64FFFF\">▆</span><span style=\"color: #64FFFF\">▆</span><span style=\"color: #64FFFF\">▆</span><span style=\"color: #64FFFF\">▆</span><span style=\"color: #64FFFF\">▆</span><span style=\"color: #64FFFF\">▆</span><span style=\"color: #64FFFF\">▆</span><span style=\"color: #64FFFF\">▆</span><span style=\"color: #64FFFF\">▆</span><span style=\"color: #64FFFF\">▆</span><span style=\"color: #64FFFF\">▆</span><span style=\"color: #64FFFF\">▆</span><span style=\"color: #64FFFF\">▆</span><span style=\"color: #64FFFF\">▆</span><span style=\"color: #64FFFF\">▆</span><span style=\"color: #64FFFF\">█</span><span style=\"color: #64FFFF\">▆</span><span style=\"color: #64FFFF\">▆</span><span style=\"color: #64FFFF\">▆</span><span style=\"color: #64FFFF\">▆</span><span style=\"color: #64FFFF\">▆</span><span style=\"color: #64FFFF\">▆</span><span style=\"color: #64FFFF\">▆</span><span style=\"color: #64FFFF\">▆</span><span style=\"color: #64FFFF\">▆</span><span style=\"color: #64FFFF\">▆</span><span style=\"color: #64FFFF\">▆</span><span style=\"color: #64FFFF\">▆</span><span style=\"color: #64FFFF\">▆</span><span style=\"color: #64FFFF\">▆</span><span style=\"color: #64FFFF\">▆</span>|               ┃\n",
       "┃  G3┃<span style=\"color: #64FFFF\">█</span><span style=\"color: #64FFFF\">▆</span><span style=\"color: #64FFFF\">▆</span><span style=\"color: #64FFFF\">▆</span><span style=\"color: #64FFFF\">▆</span><span style=\"color: #64FFFF\">▆</span><span style=\"color: #64FFFF\">▆</span><span style=\"color: #64FFFF\">▆</span><span style=\"color: #64FFFF\">▆</span><span style=\"color: #64FFFF\">▆</span><span style=\"color: #64FFFF\">▆</span><span style=\"color: #64FFFF\">▆</span><span style=\"color: #64FFFF\">▆</span><span style=\"color: #64FFFF\">▆</span><span style=\"color: #64FFFF\">▆</span><span style=\"color: #64FFFF\">▆</span>|               |               <span style=\"color: #64FFFF\">█</span><span style=\"color: #64FFFF\">▆</span><span style=\"color: #64FFFF\">▆</span><span style=\"color: #64FFFF\">▆</span><span style=\"color: #64FFFF\">▆</span><span style=\"color: #64FFFF\">▆</span><span style=\"color: #64FFFF\">▆</span><span style=\"color: #64FFFF\">▆</span><span style=\"color: #64FFFF\">▆</span><span style=\"color: #64FFFF\">▆</span><span style=\"color: #64FFFF\">▆</span><span style=\"color: #64FFFF\">▆</span><span style=\"color: #64FFFF\">▆</span><span style=\"color: #64FFFF\">▆</span><span style=\"color: #64FFFF\">▆</span><span style=\"color: #64FFFF\">▆</span>┃\n",
       "┃  F3┃|               <span style=\"color: #64FFFF\">█</span><span style=\"color: #64FFFF\">▆</span><span style=\"color: #64FFFF\">▆</span><span style=\"color: #64FFFF\">▆</span><span style=\"color: #64FFFF\">▆</span><span style=\"color: #64FFFF\">▆</span><span style=\"color: #64FFFF\">▆</span><span style=\"color: #64FFFF\">▆</span><span style=\"color: #64FFFF\">▆</span><span style=\"color: #64FFFF\">▆</span><span style=\"color: #64FFFF\">▆</span><span style=\"color: #64FFFF\">▆</span><span style=\"color: #64FFFF\">▆</span><span style=\"color: #64FFFF\">▆</span><span style=\"color: #64FFFF\">▆</span><span style=\"color: #64FFFF\">▆</span>|               |               ┃\n",
       "┃  E3┃|               |               <span style=\"color: #64FFFF\">█</span><span style=\"color: #64FFFF\">▆</span><span style=\"color: #64FFFF\">▆</span><span style=\"color: #64FFFF\">▆</span><span style=\"color: #64FFFF\">▆</span><span style=\"color: #64FFFF\">▆</span><span style=\"color: #64FFFF\">▆</span><span style=\"color: #64FFFF\">▆</span><span style=\"color: #64FFFF\">▆</span><span style=\"color: #64FFFF\">▆</span><span style=\"color: #64FFFF\">▆</span><span style=\"color: #64FFFF\">▆</span><span style=\"color: #64FFFF\">▆</span><span style=\"color: #64FFFF\">▆</span><span style=\"color: #64FFFF\">▆</span><span style=\"color: #64FFFF\">▆</span>|               ┃\n",
       "┃  D3┃<span style=\"color: #64FFFF\">█</span><span style=\"color: #64FFFF\">▆</span><span style=\"color: #64FFFF\">▆</span><span style=\"color: #64FFFF\">▆</span><span style=\"color: #64FFFF\">▆</span><span style=\"color: #64FFFF\">▆</span><span style=\"color: #64FFFF\">▆</span><span style=\"color: #64FFFF\">▆</span><span style=\"color: #64FFFF\">▆</span><span style=\"color: #64FFFF\">▆</span><span style=\"color: #64FFFF\">▆</span><span style=\"color: #64FFFF\">▆</span><span style=\"color: #64FFFF\">▆</span><span style=\"color: #64FFFF\">▆</span><span style=\"color: #64FFFF\">▆</span><span style=\"color: #64FFFF\">▆</span>|               |               <span style=\"color: #64FFFF\">█</span><span style=\"color: #64FFFF\">▆</span><span style=\"color: #64FFFF\">▆</span><span style=\"color: #64FFFF\">▆</span><span style=\"color: #64FFFF\">▆</span><span style=\"color: #64FFFF\">▆</span><span style=\"color: #64FFFF\">▆</span><span style=\"color: #64FFFF\">▆</span><span style=\"color: #64FFFF\">▆</span><span style=\"color: #64FFFF\">▆</span><span style=\"color: #64FFFF\">▆</span><span style=\"color: #64FFFF\">▆</span><span style=\"color: #64FFFF\">▆</span><span style=\"color: #64FFFF\">▆</span><span style=\"color: #64FFFF\">▆</span><span style=\"color: #64FFFF\">▆</span>┃\n",
       "┃  C3┃|               <span style=\"color: #64FFFF\">█</span><span style=\"color: #64FFFF\">▆</span><span style=\"color: #64FFFF\">▆</span><span style=\"color: #64FFFF\">▆</span><span style=\"color: #64FFFF\">▆</span><span style=\"color: #64FFFF\">▆</span><span style=\"color: #64FFFF\">▆</span><span style=\"color: #64FFFF\">▆</span><span style=\"color: #64FFFF\">▆</span><span style=\"color: #64FFFF\">▆</span><span style=\"color: #64FFFF\">▆</span><span style=\"color: #64FFFF\">▆</span><span style=\"color: #64FFFF\">▆</span><span style=\"color: #64FFFF\">▆</span><span style=\"color: #64FFFF\">▆</span><span style=\"color: #64FFFF\">▆</span>|               |               ┃\n",
       "┃  B2┃|               |               <span style=\"color: #64FFFF\">█</span><span style=\"color: #64FFFF\">▆</span><span style=\"color: #64FFFF\">▆</span><span style=\"color: #64FFFF\">▆</span><span style=\"color: #64FFFF\">▆</span><span style=\"color: #64FFFF\">▆</span><span style=\"color: #64FFFF\">▆</span><span style=\"color: #64FFFF\">▆</span><span style=\"color: #64FFFF\">▆</span><span style=\"color: #64FFFF\">▆</span><span style=\"color: #64FFFF\">▆</span><span style=\"color: #64FFFF\">▆</span><span style=\"color: #64FFFF\">▆</span><span style=\"color: #64FFFF\">▆</span><span style=\"color: #64FFFF\">▆</span><span style=\"color: #64FFFF\">▆</span>|               ┃\n",
       "┃  A2┃<span style=\"color: #64FFFF\">█</span><span style=\"color: #64FFFF\">▆</span><span style=\"color: #64FFFF\">▆</span><span style=\"color: #64FFFF\">▆</span><span style=\"color: #64FFFF\">▆</span><span style=\"color: #64FFFF\">▆</span><span style=\"color: #64FFFF\">▆</span><span style=\"color: #64FFFF\">▆</span><span style=\"color: #64FFFF\">▆</span><span style=\"color: #64FFFF\">▆</span><span style=\"color: #64FFFF\">▆</span><span style=\"color: #64FFFF\">▆</span><span style=\"color: #64FFFF\">▆</span><span style=\"color: #64FFFF\">▆</span><span style=\"color: #64FFFF\">▆</span><span style=\"color: #64FFFF\">▆</span>|               |               <span style=\"color: #64FFFF\">█</span><span style=\"color: #64FFFF\">▆</span><span style=\"color: #64FFFF\">▆</span><span style=\"color: #64FFFF\">▆</span><span style=\"color: #64FFFF\">▆</span><span style=\"color: #64FFFF\">▆</span><span style=\"color: #64FFFF\">▆</span><span style=\"color: #64FFFF\">▆</span><span style=\"color: #64FFFF\">▆</span><span style=\"color: #64FFFF\">▆</span><span style=\"color: #64FFFF\">▆</span><span style=\"color: #64FFFF\">▆</span><span style=\"color: #64FFFF\">▆</span><span style=\"color: #64FFFF\">▆</span><span style=\"color: #64FFFF\">▆</span><span style=\"color: #64FFFF\">▆</span>┃\n",
       "┃  G2┃|               |               <span style=\"color: #64FFFF\">█</span><span style=\"color: #64FFFF\">▆</span><span style=\"color: #64FFFF\">▆</span><span style=\"color: #64FFFF\">▆</span><span style=\"color: #64FFFF\">▆</span><span style=\"color: #64FFFF\">▆</span><span style=\"color: #64FFFF\">▆</span><span style=\"color: #64FFFF\">▆</span><span style=\"color: #64FFFF\">▆</span><span style=\"color: #64FFFF\">▆</span><span style=\"color: #64FFFF\">▆</span><span style=\"color: #64FFFF\">▆</span><span style=\"color: #64FFFF\">▆</span><span style=\"color: #64FFFF\">▆</span><span style=\"color: #64FFFF\">▆</span><span style=\"color: #64FFFF\">▆</span>|               ┃\n",
       "┗━━━━┻┻━━━┷━━━┷━━━┷━━━┻━━━┷━━━┷━━━┷━━━┻━━━┷━━━┷━━━┷━━━┻━━━┷━━━┷━━━┷━━━┛\n",
       "      0               1               2               3               4</div>\n",
       "                    "
      ]
     },
     "metadata": {},
     "output_type": "display_data"
    },
    {
     "name": "stdout",
     "output_type": "stream",
     "text": [
      "View: Compact, Type: Melody, MIDI: ./midi2_groovy.mid, TimeSignature: 4/4\n",
      "Quantization Mode: Start_end, Quantization Factor: 16, Length: 4bars 0steps 0ticks \n",
      "key: CMajor/AMinor\n"
     ]
    },
    {
     "data": {
      "text/plain": [
       "<IPython.core.display.HTML object>"
      ],
      "text/html": [
       "\n",
       "                    <div style=\"\n",
       "                        overflow-x: auto;\n",
       "                        white-space: pre;\n",
       "                        font-family: monospace;\n",
       "                        line-height: 1.1;\n",
       "                        font-size: 16px;\n",
       "                        padding: 4px;\n",
       "                        margin: 0;\n",
       "                    \">┏┳┳━━━┯━━━┯━━━┯━━━┳━━━┯━━━┯━━━┯━━━┳━━━┯━━━┯━━━┯━━━┳━━━┯━━━┯━━━┯━━━┓\n",
       "┗┻┻━━━┷━━━┷━━━┷━━━┻━━━┷━━━┷━━━┷━━━┻━━━┷━━━┷━━━┷━━━┻━━━┷━━━┷━━━┷━━━┛\n",
       "   0               1               2               3               4</div>\n",
       "                    "
      ]
     },
     "metadata": {},
     "output_type": "display_data"
    }
   ],
   "execution_count": 10
  },
  {
   "metadata": {
    "ExecuteTime": {
     "end_time": "2025-06-19T16:25:45.821567Z",
     "start_time": "2025-06-19T16:25:45.710718Z"
    }
   },
   "cell_type": "code",
   "source": [
    "# another case, with messy notes\n",
    "midi3 = MIDIProcessor('./midi3.mid')\n",
    "midi3.piano_roll.print_roll()"
   ],
   "id": "3fa51d1ba4fb1faa",
   "outputs": [
    {
     "name": "stdout",
     "output_type": "stream",
     "text": [
      "View: Compact, Type: Composite, MIDI: ./midi3.mid, TimeSignature: 4/4\n",
      "Quantization Mode: Start_end, Quantization Factor: 16, Length: 4bars 0steps 0ticks \n",
      "key: CMajor/AMinor\n"
     ]
    },
    {
     "data": {
      "text/plain": [
       "<IPython.core.display.HTML object>"
      ],
      "text/html": [
       "\n",
       "                    <div style=\"\n",
       "                        overflow-x: auto;\n",
       "                        white-space: pre;\n",
       "                        font-family: monospace;\n",
       "                        line-height: 1.1;\n",
       "                        font-size: 16px;\n",
       "                        padding: 4px;\n",
       "                        margin: 0;\n",
       "                    \">┏━━━━┳┳━━━┯━━━┯━━━┯━━━┳━━━┯━━━┯━━━┯━━━┳━━━┯━━━┯━━━┯━━━┳━━━┯━━━┯━━━┯━━━┓\n",
       "┃  G3┃<span style=\"color: #64FFFF\">█</span><span style=\"color: #64FFFF\">▆</span><span style=\"color: #64FFFF\">▆</span><span style=\"color: #64FFFF\">▆</span><span style=\"color: #64FFFF\">▆</span><span style=\"color: #64FFFF\">▆</span><span style=\"color: #64FFFF\">▆</span><span style=\"color: #64FFFF\">▆</span><span style=\"color: #64FFFF\">▆</span><span style=\"color: #64FFFF\">▆</span><span style=\"color: #64FFFF\">▆</span><span style=\"color: #64FFFF\">▆</span><span style=\"color: #64FFFF\">▆</span><span style=\"color: #64FFFF\">▆</span><span style=\"color: #64FFFF\">▆</span><span style=\"color: #64FFFF\">▆</span>|               <span style=\"color: #64FFFF\">█</span><span style=\"color: #64FFFF\">▆</span><span style=\"color: #64FFFF\">▆</span><span style=\"color: #64FFFF\">▆</span><span style=\"color: #64FFFF\">▆</span><span style=\"color: #64FFFF\">▆</span><span style=\"color: #64FFFF\">▆</span><span style=\"color: #64FFFF\">▆</span><span style=\"color: #64FFFF\">▆</span><span style=\"color: #64FFFF\">▆</span><span style=\"color: #64FFFF\">▆</span><span style=\"color: #64FFFF\">▆</span><span style=\"color: #64FFFF\">▆</span><span style=\"color: #64FFFF\">▆</span><span style=\"color: #64FFFF\">▆</span><span style=\"color: #64FFFF\">▆</span>|               ┃\n",
       "┃  F3┃|               <span style=\"color: #64FFFF\">█</span><span style=\"color: #64FFFF\">▆</span><span style=\"color: #64FFFF\">▆</span><span style=\"color: #64FFFF\">▆</span><span style=\"color: #64FFFF\">▆</span><span style=\"color: #64FFFF\">▆</span><span style=\"color: #64FFFF\">▆</span><span style=\"color: #64FFFF\">▆</span><span style=\"color: #64FFFF\">▆</span><span style=\"color: #64FFFF\">▆</span><span style=\"color: #64FFFF\">▆</span><span style=\"color: #64FFFF\">▆</span><span style=\"color: #64FFFF\">▆</span><span style=\"color: #64FFFF\">▆</span><span style=\"color: #64FFFF\">▆</span><span style=\"color: #64FFFF\">▆</span>|               <span style=\"color: #64FFFF\">█</span><span style=\"color: #64FFFF\">▆</span><span style=\"color: #64FFFF\">▆</span><span style=\"color: #64FFFF\">▆</span><span style=\"color: #64FFFF\">▆</span><span style=\"color: #64FFFF\">▆</span><span style=\"color: #64FFFF\">█</span><span style=\"color: #64FFFF\">▆</span><span style=\"color: #64FFFF\">▆</span><span style=\"color: #64FFFF\">▆</span><span style=\"color: #64FFFF\">▆</span><span style=\"color: #64FFFF\">▆</span><span style=\"color: #64FFFF\">▆</span><span style=\"color: #64FFFF\">▆</span><span style=\"color: #64FFFF\">▆</span><span style=\"color: #64FFFF\">▆</span>┃\n",
       "┃  D3┃<span style=\"color: #64FFFF\">█</span><span style=\"color: #64FFFF\">▆</span><span style=\"color: #64FFFF\">▆</span><span style=\"color: #64FFFF\">▆</span>  <span style=\"color: #64FFFF\">█</span><span style=\"color: #64FFFF\">▆</span><span style=\"color: #64FFFF\">▆</span><span style=\"color: #64FFFF\">▆</span>  <span style=\"color: #64FFFF\">█</span><span style=\"color: #64FFFF\">▆</span><span style=\"color: #64FFFF\">▆</span><span style=\"color: #64FFFF\">▆</span><span style=\"color: #64FFFF\">█</span><span style=\"color: #64FFFF\">▆</span><span style=\"color: #64FFFF\">▆</span><span style=\"color: #64FFFF\">▆</span><span style=\"color: #64FFFF\">▆</span><span style=\"color: #64FFFF\">▆</span><span style=\"color: #64FFFF\">▆</span><span style=\"color: #64FFFF\">▆</span><span style=\"color: #64FFFF\">▆</span><span style=\"color: #64FFFF\">▆</span><span style=\"color: #64FFFF\">▆</span><span style=\"color: #64FFFF\">▆</span><span style=\"color: #64FFFF\">▆</span><span style=\"color: #64FFFF\">▆</span><span style=\"color: #64FFFF\">▆</span><span style=\"color: #64FFFF\">▆</span><span style=\"color: #64FFFF\">█</span><span style=\"color: #64FFFF\">▆</span><span style=\"color: #64FFFF\">▆</span><span style=\"color: #64FFFF\">▆</span><span style=\"color: #64FFFF\">▆</span><span style=\"color: #64FFFF\">▆</span><span style=\"color: #64FFFF\">▆</span><span style=\"color: #64FFFF\">▆</span><span style=\"color: #64FFFF\">█</span><span style=\"color: #64FFFF\">▆</span><span style=\"color: #64FFFF\">▆</span><span style=\"color: #64FFFF\">▆</span><span style=\"color: #64FFFF\">█</span><span style=\"color: #64FFFF\">▆</span><span style=\"color: #64FFFF\">▆</span><span style=\"color: #64FFFF\">▆</span><span style=\"color: #64FFFF\">▆</span><span style=\"color: #64FFFF\">▆</span>      <span style=\"color: #64FFFF\">█</span><span style=\"color: #64FFFF\">▆</span><span style=\"color: #64FFFF\">▆</span><span style=\"color: #64FFFF\">▆</span><span style=\"color: #64FFFF\">▆</span><span style=\"color: #64FFFF\">▆</span><span style=\"color: #64FFFF\">▆</span><span style=\"color: #64FFFF\">▆</span>┃\n",
       "┃  C3┃|               <span style=\"color: #64FFFF\">█</span><span style=\"color: #64FFFF\">▆</span><span style=\"color: #64FFFF\">▆</span><span style=\"color: #64FFFF\">▆</span><span style=\"color: #64FFFF\">▆</span><span style=\"color: #64FFFF\">▆</span><span style=\"color: #64FFFF\">▆</span><span style=\"color: #64FFFF\">▆</span><span style=\"color: #64FFFF\">█</span><span style=\"color: #64FFFF\">▆</span><span style=\"color: #64FFFF\">▆</span><span style=\"color: #64FFFF\">▆</span><span style=\"color: #64FFFF\">▆</span><span style=\"color: #64FFFF\">▆</span><span style=\"color: #64FFFF\">▆</span><span style=\"color: #64FFFF\">▆</span>|               <span style=\"color: #64FFFF\">█</span><span style=\"color: #64FFFF\">▆</span><span style=\"color: #64FFFF\">▆</span><span style=\"color: #64FFFF\">▆</span><span style=\"color: #64FFFF\">▆</span><span style=\"color: #64FFFF\">▆</span><span style=\"color: #64FFFF\">▆</span><span style=\"color: #64FFFF\">▆</span><span style=\"color: #64FFFF\">▆</span><span style=\"color: #64FFFF\">▆</span><span style=\"color: #64FFFF\">▆</span><span style=\"color: #64FFFF\">▆</span><span style=\"color: #64FFFF\">▆</span><span style=\"color: #64FFFF\">▆</span><span style=\"color: #64FFFF\">▆</span><span style=\"color: #64FFFF\">▆</span>┃\n",
       "┃  B2┃<span style=\"color: #64FFFF\">█</span><span style=\"color: #64FFFF\">▆</span><span style=\"color: #64FFFF\">▆</span><span style=\"color: #64FFFF\">▆</span><span style=\"color: #64FFFF\">▆</span><span style=\"color: #64FFFF\">▆</span><span style=\"color: #64FFFF\">▆</span><span style=\"color: #64FFFF\">▆</span><span style=\"color: #64FFFF\">▆</span><span style=\"color: #64FFFF\">▆</span><span style=\"color: #64FFFF\">▆</span><span style=\"color: #64FFFF\">▆</span><span style=\"color: #64FFFF\">▆</span><span style=\"color: #64FFFF\">▆</span><span style=\"color: #64FFFF\">▆</span><span style=\"color: #64FFFF\">▆</span>|               |               |               ┃\n",
       "┃  A2┃|               <span style=\"color: #64FFFF\">█</span><span style=\"color: #64FFFF\">▆</span><span style=\"color: #64FFFF\">▆</span><span style=\"color: #64FFFF\">▆</span><span style=\"color: #64FFFF\">▆</span><span style=\"color: #64FFFF\">▆</span><span style=\"color: #64FFFF\">▆</span><span style=\"color: #64FFFF\">▆</span><span style=\"color: #64FFFF\">▆</span><span style=\"color: #64FFFF\">▆</span><span style=\"color: #64FFFF\">▆</span><span style=\"color: #64FFFF\">▆</span><span style=\"color: #64FFFF\">▆</span><span style=\"color: #64FFFF\">▆</span><span style=\"color: #64FFFF\">▆</span><span style=\"color: #64FFFF\">▆</span><span style=\"color: #64FFFF\">█</span><span style=\"color: #64FFFF\">▆</span><span style=\"color: #64FFFF\">▆</span><span style=\"color: #64FFFF\">▆</span><span style=\"color: #64FFFF\">▆</span><span style=\"color: #64FFFF\">▆</span><span style=\"color: #64FFFF\">▆</span><span style=\"color: #64FFFF\">▆</span><span style=\"color: #64FFFF\">▆</span><span style=\"color: #64FFFF\">▆</span><span style=\"color: #64FFFF\">▆</span><span style=\"color: #64FFFF\">▆</span><span style=\"color: #64FFFF\">▆</span><span style=\"color: #64FFFF\">▆</span><span style=\"color: #64FFFF\">▆</span><span style=\"color: #64FFFF\">▆</span>|               ┃\n",
       "┃  G2┃<span style=\"color: #64FFFF\">█</span><span style=\"color: #64FFFF\">▆</span><span style=\"color: #64FFFF\">▆</span><span style=\"color: #64FFFF\">▆</span><span style=\"color: #64FFFF\">▆</span><span style=\"color: #64FFFF\">▆</span><span style=\"color: #64FFFF\">▆</span><span style=\"color: #64FFFF\">▆</span><span style=\"color: #64FFFF\">▆</span><span style=\"color: #64FFFF\">▆</span><span style=\"color: #64FFFF\">▆</span><span style=\"color: #64FFFF\">▆</span><span style=\"color: #64FFFF\">▆</span><span style=\"color: #64FFFF\">▆</span><span style=\"color: #64FFFF\">▆</span><span style=\"color: #64FFFF\">▆</span>|               |               <span style=\"color: #64FFFF\">█</span><span style=\"color: #64FFFF\">▆</span><span style=\"color: #64FFFF\">▆</span><span style=\"color: #64FFFF\">▆</span><span style=\"color: #64FFFF\">▆</span><span style=\"color: #64FFFF\">▆</span><span style=\"color: #64FFFF\">▆</span><span style=\"color: #64FFFF\">▆</span><span style=\"color: #64FFFF\">▆</span><span style=\"color: #64FFFF\">▆</span><span style=\"color: #64FFFF\">▆</span><span style=\"color: #64FFFF\">▆</span><span style=\"color: #64FFFF\">▆</span><span style=\"color: #64FFFF\">▆</span><span style=\"color: #64FFFF\">▆</span><span style=\"color: #64FFFF\">▆</span>┃\n",
       "┃  E2┃|               |               <span style=\"color: #64FFFF\">█</span><span style=\"color: #64FFFF\">▆</span><span style=\"color: #64FFFF\">▆</span><span style=\"color: #64FFFF\">▆</span><span style=\"color: #64FFFF\">▆</span><span style=\"color: #64FFFF\">▆</span><span style=\"color: #64FFFF\">▆</span><span style=\"color: #64FFFF\">▆</span><span style=\"color: #64FFFF\">▆</span><span style=\"color: #64FFFF\">▆</span><span style=\"color: #64FFFF\">▆</span><span style=\"color: #64FFFF\">▆</span><span style=\"color: #64FFFF\">▆</span><span style=\"color: #64FFFF\">▆</span><span style=\"color: #64FFFF\">▆</span><span style=\"color: #64FFFF\">▆</span>|               ┃\n",
       "┗━━━━┻┻━━━┷━━━┷━━━┷━━━┻━━━┷━━━┷━━━┷━━━┻━━━┷━━━┷━━━┷━━━┻━━━┷━━━┷━━━┷━━━┛\n",
       "      0               1               2               3               4</div>\n",
       "                    "
      ]
     },
     "metadata": {},
     "output_type": "display_data"
    }
   ],
   "execution_count": 11
  },
  {
   "metadata": {
    "ExecuteTime": {
     "end_time": "2025-06-19T16:25:48.332661Z",
     "start_time": "2025-06-19T16:25:48.290067Z"
    }
   },
   "cell_type": "code",
   "source": [
    "midi3.bass_roll.print_roll()\n",
    "midi3.chord_roll.print_roll()\n",
    "midi3.melody_roll.print_roll()"
   ],
   "id": "790569cc62844625",
   "outputs": [
    {
     "name": "stdout",
     "output_type": "stream",
     "text": [
      "View: Compact, Type: Bass, MIDI: ./midi3.mid, TimeSignature: 4/4\n",
      "Quantization Mode: Start_end, Quantization Factor: 16, Length: 4bars 0steps 0ticks \n",
      "key: CMajor/AMinor\n"
     ]
    },
    {
     "data": {
      "text/plain": [
       "<IPython.core.display.HTML object>"
      ],
      "text/html": [
       "\n",
       "                    <div style=\"\n",
       "                        overflow-x: auto;\n",
       "                        white-space: pre;\n",
       "                        font-family: monospace;\n",
       "                        line-height: 1.1;\n",
       "                        font-size: 16px;\n",
       "                        padding: 4px;\n",
       "                        margin: 0;\n",
       "                    \">┏━━━━┳┳━━━┯━━━┯━━━┯━━━┳━━━┯━━━┯━━━┯━━━┳━━━┯━━━┯━━━┯━━━┳━━━┯━━━┯━━━┯━━━┓\n",
       "┃  A2┃|               <span style=\"color: #64FFFF\">█</span><span style=\"color: #64FFFF\">▆</span><span style=\"color: #64FFFF\">▆</span><span style=\"color: #64FFFF\">▆</span><span style=\"color: #64FFFF\">▆</span><span style=\"color: #64FFFF\">▆</span><span style=\"color: #64FFFF\">▆</span><span style=\"color: #64FFFF\">▆</span><span style=\"color: #64FFFF\">▆</span><span style=\"color: #64FFFF\">▆</span><span style=\"color: #64FFFF\">▆</span><span style=\"color: #64FFFF\">▆</span><span style=\"color: #64FFFF\">▆</span><span style=\"color: #64FFFF\">▆</span><span style=\"color: #64FFFF\">▆</span><span style=\"color: #64FFFF\">▆</span>|               |               ┃\n",
       "┃  G2┃<span style=\"color: #64FFFF\">█</span><span style=\"color: #64FFFF\">▆</span><span style=\"color: #64FFFF\">▆</span><span style=\"color: #64FFFF\">▆</span><span style=\"color: #64FFFF\">▆</span><span style=\"color: #64FFFF\">▆</span><span style=\"color: #64FFFF\">▆</span><span style=\"color: #64FFFF\">▆</span><span style=\"color: #64FFFF\">▆</span><span style=\"color: #64FFFF\">▆</span><span style=\"color: #64FFFF\">▆</span><span style=\"color: #64FFFF\">▆</span><span style=\"color: #64FFFF\">▆</span><span style=\"color: #64FFFF\">▆</span><span style=\"color: #64FFFF\">▆</span><span style=\"color: #64FFFF\">▆</span>|               |               <span style=\"color: #64FFFF\">█</span><span style=\"color: #64FFFF\">▆</span><span style=\"color: #64FFFF\">▆</span><span style=\"color: #64FFFF\">▆</span><span style=\"color: #64FFFF\">▆</span><span style=\"color: #64FFFF\">▆</span><span style=\"color: #64FFFF\">▆</span><span style=\"color: #64FFFF\">▆</span><span style=\"color: #64FFFF\">▆</span><span style=\"color: #64FFFF\">▆</span><span style=\"color: #64FFFF\">▆</span><span style=\"color: #64FFFF\">▆</span><span style=\"color: #64FFFF\">▆</span><span style=\"color: #64FFFF\">▆</span><span style=\"color: #64FFFF\">▆</span><span style=\"color: #64FFFF\">▆</span>┃\n",
       "┃  E2┃|               |               <span style=\"color: #64FFFF\">█</span><span style=\"color: #64FFFF\">▆</span><span style=\"color: #64FFFF\">▆</span><span style=\"color: #64FFFF\">▆</span><span style=\"color: #64FFFF\">▆</span><span style=\"color: #64FFFF\">▆</span><span style=\"color: #64FFFF\">▆</span><span style=\"color: #64FFFF\">▆</span><span style=\"color: #64FFFF\">▆</span><span style=\"color: #64FFFF\">▆</span><span style=\"color: #64FFFF\">▆</span><span style=\"color: #64FFFF\">▆</span><span style=\"color: #64FFFF\">▆</span><span style=\"color: #64FFFF\">▆</span><span style=\"color: #64FFFF\">▆</span><span style=\"color: #64FFFF\">▆</span>|               ┃\n",
       "┗━━━━┻┻━━━┷━━━┷━━━┷━━━┻━━━┷━━━┷━━━┷━━━┻━━━┷━━━┷━━━┷━━━┻━━━┷━━━┷━━━┷━━━┛\n",
       "      0               1               2               3               4</div>\n",
       "                    "
      ]
     },
     "metadata": {},
     "output_type": "display_data"
    },
    {
     "name": "stdout",
     "output_type": "stream",
     "text": [
      "View: Compact, Type: Chord, MIDI: ./midi3.mid, TimeSignature: 4/4\n",
      "Quantization Mode: Start_end, Quantization Factor: 16, Length: 4bars 0steps 0ticks \n",
      "key: CMajor/AMinor\n"
     ]
    },
    {
     "data": {
      "text/plain": [
       "<IPython.core.display.HTML object>"
      ],
      "text/html": [
       "\n",
       "                    <div style=\"\n",
       "                        overflow-x: auto;\n",
       "                        white-space: pre;\n",
       "                        font-family: monospace;\n",
       "                        line-height: 1.1;\n",
       "                        font-size: 16px;\n",
       "                        padding: 4px;\n",
       "                        margin: 0;\n",
       "                    \">┏━━━━┳┳━━━┯━━━┯━━━┯━━━┳━━━┯━━━┯━━━┯━━━┳━━━┯━━━┯━━━┯━━━┳━━━┯━━━┯━━━┯━━━┓\n",
       "┃  G3┃<span style=\"color: #64FFFF\">█</span><span style=\"color: #64FFFF\">▆</span><span style=\"color: #64FFFF\">▆</span><span style=\"color: #64FFFF\">▆</span><span style=\"color: #64FFFF\">▆</span><span style=\"color: #64FFFF\">▆</span><span style=\"color: #64FFFF\">▆</span><span style=\"color: #64FFFF\">▆</span><span style=\"color: #64FFFF\">▆</span><span style=\"color: #64FFFF\">▆</span><span style=\"color: #64FFFF\">▆</span><span style=\"color: #64FFFF\">▆</span><span style=\"color: #64FFFF\">▆</span><span style=\"color: #64FFFF\">▆</span><span style=\"color: #64FFFF\">▆</span><span style=\"color: #64FFFF\">▆</span>|               <span style=\"color: #64FFFF\">█</span><span style=\"color: #64FFFF\">▆</span><span style=\"color: #64FFFF\">▆</span><span style=\"color: #64FFFF\">▆</span><span style=\"color: #64FFFF\">▆</span><span style=\"color: #64FFFF\">▆</span><span style=\"color: #64FFFF\">▆</span><span style=\"color: #64FFFF\">▆</span><span style=\"color: #64FFFF\">▆</span><span style=\"color: #64FFFF\">▆</span><span style=\"color: #64FFFF\">▆</span><span style=\"color: #64FFFF\">▆</span><span style=\"color: #64FFFF\">▆</span><span style=\"color: #64FFFF\">▆</span><span style=\"color: #64FFFF\">▆</span><span style=\"color: #64FFFF\">▆</span>|               ┃\n",
       "┃  F3┃|               <span style=\"color: #64FFFF\">█</span><span style=\"color: #64FFFF\">▆</span><span style=\"color: #64FFFF\">▆</span><span style=\"color: #64FFFF\">▆</span><span style=\"color: #64FFFF\">▆</span><span style=\"color: #64FFFF\">▆</span><span style=\"color: #64FFFF\">▆</span><span style=\"color: #64FFFF\">▆</span><span style=\"color: #64FFFF\">▆</span><span style=\"color: #64FFFF\">▆</span><span style=\"color: #64FFFF\">▆</span><span style=\"color: #64FFFF\">▆</span><span style=\"color: #64FFFF\">▆</span><span style=\"color: #64FFFF\">▆</span><span style=\"color: #64FFFF\">▆</span><span style=\"color: #64FFFF\">▆</span>|               <span style=\"color: #64FFFF\">█</span><span style=\"color: #64FFFF\">▆</span><span style=\"color: #64FFFF\">▆</span><span style=\"color: #64FFFF\">▆</span><span style=\"color: #64FFFF\">▆</span><span style=\"color: #64FFFF\">▆</span><span style=\"color: #64FFFF\">▆</span><span style=\"color: #64FFFF\">▆</span><span style=\"color: #64FFFF\">▆</span><span style=\"color: #64FFFF\">▆</span><span style=\"color: #64FFFF\">▆</span><span style=\"color: #64FFFF\">▆</span><span style=\"color: #64FFFF\">▆</span><span style=\"color: #64FFFF\">▆</span><span style=\"color: #64FFFF\">▆</span><span style=\"color: #64FFFF\">▆</span>┃\n",
       "┃  D3┃<span style=\"color: #64FFFF\">█</span><span style=\"color: #64FFFF\">▆</span><span style=\"color: #64FFFF\">▆</span><span style=\"color: #64FFFF\">▆</span><span style=\"color: #64FFFF\">▆</span><span style=\"color: #64FFFF\">▆</span><span style=\"color: #64FFFF\">▆</span><span style=\"color: #64FFFF\">▆</span><span style=\"color: #64FFFF\">▆</span><span style=\"color: #64FFFF\">▆</span><span style=\"color: #64FFFF\">▆</span><span style=\"color: #64FFFF\">▆</span><span style=\"color: #64FFFF\">▆</span><span style=\"color: #64FFFF\">▆</span><span style=\"color: #64FFFF\">▆</span><span style=\"color: #64FFFF\">▆</span><span style=\"color: #64FFFF\">█</span><span style=\"color: #64FFFF\">▆</span><span style=\"color: #64FFFF\">▆</span><span style=\"color: #64FFFF\">▆</span><span style=\"color: #64FFFF\">▆</span><span style=\"color: #64FFFF\">▆</span><span style=\"color: #64FFFF\">▆</span><span style=\"color: #64FFFF\">▆</span><span style=\"color: #64FFFF\">▆</span><span style=\"color: #64FFFF\">▆</span><span style=\"color: #64FFFF\">▆</span><span style=\"color: #64FFFF\">▆</span><span style=\"color: #64FFFF\">▆</span><span style=\"color: #64FFFF\">▆</span><span style=\"color: #64FFFF\">▆</span><span style=\"color: #64FFFF\">▆</span><span style=\"color: #64FFFF\">█</span><span style=\"color: #64FFFF\">▆</span><span style=\"color: #64FFFF\">▆</span><span style=\"color: #64FFFF\">▆</span><span style=\"color: #64FFFF\">▆</span><span style=\"color: #64FFFF\">▆</span><span style=\"color: #64FFFF\">▆</span><span style=\"color: #64FFFF\">▆</span><span style=\"color: #64FFFF\">▆</span><span style=\"color: #64FFFF\">▆</span><span style=\"color: #64FFFF\">▆</span><span style=\"color: #64FFFF\">▆</span><span style=\"color: #64FFFF\">▆</span><span style=\"color: #64FFFF\">▆</span><span style=\"color: #64FFFF\">▆</span><span style=\"color: #64FFFF\">▆</span><span style=\"color: #64FFFF\">█</span><span style=\"color: #64FFFF\">▆</span><span style=\"color: #64FFFF\">▆</span><span style=\"color: #64FFFF\">▆</span><span style=\"color: #64FFFF\">▆</span><span style=\"color: #64FFFF\">▆</span><span style=\"color: #64FFFF\">▆</span><span style=\"color: #64FFFF\">▆</span><span style=\"color: #64FFFF\">▆</span><span style=\"color: #64FFFF\">▆</span><span style=\"color: #64FFFF\">▆</span><span style=\"color: #64FFFF\">▆</span><span style=\"color: #64FFFF\">▆</span><span style=\"color: #64FFFF\">▆</span><span style=\"color: #64FFFF\">▆</span><span style=\"color: #64FFFF\">▆</span>┃\n",
       "┃  C3┃|               <span style=\"color: #64FFFF\">█</span><span style=\"color: #64FFFF\">▆</span><span style=\"color: #64FFFF\">▆</span><span style=\"color: #64FFFF\">▆</span><span style=\"color: #64FFFF\">▆</span><span style=\"color: #64FFFF\">▆</span><span style=\"color: #64FFFF\">▆</span><span style=\"color: #64FFFF\">▆</span><span style=\"color: #64FFFF\">▆</span><span style=\"color: #64FFFF\">▆</span><span style=\"color: #64FFFF\">▆</span><span style=\"color: #64FFFF\">▆</span><span style=\"color: #64FFFF\">▆</span><span style=\"color: #64FFFF\">▆</span><span style=\"color: #64FFFF\">▆</span><span style=\"color: #64FFFF\">▆</span>|               <span style=\"color: #64FFFF\">█</span><span style=\"color: #64FFFF\">▆</span><span style=\"color: #64FFFF\">▆</span><span style=\"color: #64FFFF\">▆</span><span style=\"color: #64FFFF\">▆</span><span style=\"color: #64FFFF\">▆</span><span style=\"color: #64FFFF\">▆</span><span style=\"color: #64FFFF\">▆</span><span style=\"color: #64FFFF\">▆</span><span style=\"color: #64FFFF\">▆</span><span style=\"color: #64FFFF\">▆</span><span style=\"color: #64FFFF\">▆</span><span style=\"color: #64FFFF\">▆</span><span style=\"color: #64FFFF\">▆</span><span style=\"color: #64FFFF\">▆</span><span style=\"color: #64FFFF\">▆</span>┃\n",
       "┃  B2┃<span style=\"color: #64FFFF\">█</span><span style=\"color: #64FFFF\">▆</span><span style=\"color: #64FFFF\">▆</span><span style=\"color: #64FFFF\">▆</span><span style=\"color: #64FFFF\">▆</span><span style=\"color: #64FFFF\">▆</span><span style=\"color: #64FFFF\">▆</span><span style=\"color: #64FFFF\">▆</span><span style=\"color: #64FFFF\">▆</span><span style=\"color: #64FFFF\">▆</span><span style=\"color: #64FFFF\">▆</span><span style=\"color: #64FFFF\">▆</span><span style=\"color: #64FFFF\">▆</span><span style=\"color: #64FFFF\">▆</span><span style=\"color: #64FFFF\">▆</span><span style=\"color: #64FFFF\">▆</span>|               |               |               ┃\n",
       "┃  A2┃|               <span style=\"color: #64FFFF\">█</span><span style=\"color: #64FFFF\">▆</span><span style=\"color: #64FFFF\">▆</span><span style=\"color: #64FFFF\">▆</span><span style=\"color: #64FFFF\">▆</span><span style=\"color: #64FFFF\">▆</span><span style=\"color: #64FFFF\">▆</span><span style=\"color: #64FFFF\">▆</span><span style=\"color: #64FFFF\">▆</span><span style=\"color: #64FFFF\">▆</span><span style=\"color: #64FFFF\">▆</span><span style=\"color: #64FFFF\">▆</span><span style=\"color: #64FFFF\">▆</span><span style=\"color: #64FFFF\">▆</span><span style=\"color: #64FFFF\">▆</span><span style=\"color: #64FFFF\">▆</span><span style=\"color: #64FFFF\">█</span><span style=\"color: #64FFFF\">▆</span><span style=\"color: #64FFFF\">▆</span><span style=\"color: #64FFFF\">▆</span><span style=\"color: #64FFFF\">▆</span><span style=\"color: #64FFFF\">▆</span><span style=\"color: #64FFFF\">▆</span><span style=\"color: #64FFFF\">▆</span><span style=\"color: #64FFFF\">▆</span><span style=\"color: #64FFFF\">▆</span><span style=\"color: #64FFFF\">▆</span><span style=\"color: #64FFFF\">▆</span><span style=\"color: #64FFFF\">▆</span><span style=\"color: #64FFFF\">▆</span><span style=\"color: #64FFFF\">▆</span><span style=\"color: #64FFFF\">▆</span>|               ┃\n",
       "┃  G2┃<span style=\"color: #64FFFF\">█</span><span style=\"color: #64FFFF\">▆</span><span style=\"color: #64FFFF\">▆</span><span style=\"color: #64FFFF\">▆</span><span style=\"color: #64FFFF\">▆</span><span style=\"color: #64FFFF\">▆</span><span style=\"color: #64FFFF\">▆</span><span style=\"color: #64FFFF\">▆</span><span style=\"color: #64FFFF\">▆</span><span style=\"color: #64FFFF\">▆</span><span style=\"color: #64FFFF\">▆</span><span style=\"color: #64FFFF\">▆</span><span style=\"color: #64FFFF\">▆</span><span style=\"color: #64FFFF\">▆</span><span style=\"color: #64FFFF\">▆</span><span style=\"color: #64FFFF\">▆</span>|               |               <span style=\"color: #64FFFF\">█</span><span style=\"color: #64FFFF\">▆</span><span style=\"color: #64FFFF\">▆</span><span style=\"color: #64FFFF\">▆</span><span style=\"color: #64FFFF\">▆</span><span style=\"color: #64FFFF\">▆</span><span style=\"color: #64FFFF\">▆</span><span style=\"color: #64FFFF\">▆</span><span style=\"color: #64FFFF\">▆</span><span style=\"color: #64FFFF\">▆</span><span style=\"color: #64FFFF\">▆</span><span style=\"color: #64FFFF\">▆</span><span style=\"color: #64FFFF\">▆</span><span style=\"color: #64FFFF\">▆</span><span style=\"color: #64FFFF\">▆</span><span style=\"color: #64FFFF\">▆</span>┃\n",
       "┃  E2┃|               |               <span style=\"color: #64FFFF\">█</span><span style=\"color: #64FFFF\">▆</span><span style=\"color: #64FFFF\">▆</span><span style=\"color: #64FFFF\">▆</span><span style=\"color: #64FFFF\">▆</span><span style=\"color: #64FFFF\">▆</span><span style=\"color: #64FFFF\">▆</span><span style=\"color: #64FFFF\">▆</span><span style=\"color: #64FFFF\">▆</span><span style=\"color: #64FFFF\">▆</span><span style=\"color: #64FFFF\">▆</span><span style=\"color: #64FFFF\">▆</span><span style=\"color: #64FFFF\">▆</span><span style=\"color: #64FFFF\">▆</span><span style=\"color: #64FFFF\">▆</span><span style=\"color: #64FFFF\">▆</span>|               ┃\n",
       "┗━━━━┻┻━━━┷━━━┷━━━┷━━━┻━━━┷━━━┷━━━┷━━━┻━━━┷━━━┷━━━┷━━━┻━━━┷━━━┷━━━┷━━━┛\n",
       "      0               1               2               3               4</div>\n",
       "                    "
      ]
     },
     "metadata": {},
     "output_type": "display_data"
    },
    {
     "name": "stdout",
     "output_type": "stream",
     "text": [
      "View: Compact, Type: Melody, MIDI: ./midi3.mid, TimeSignature: 4/4\n",
      "Quantization Mode: Start_end, Quantization Factor: 16, Length: 4bars 0steps 0ticks \n",
      "key: CMajor/AMinor\n"
     ]
    },
    {
     "data": {
      "text/plain": [
       "<IPython.core.display.HTML object>"
      ],
      "text/html": [
       "\n",
       "                    <div style=\"\n",
       "                        overflow-x: auto;\n",
       "                        white-space: pre;\n",
       "                        font-family: monospace;\n",
       "                        line-height: 1.1;\n",
       "                        font-size: 16px;\n",
       "                        padding: 4px;\n",
       "                        margin: 0;\n",
       "                    \">┏┳┳━━━┯━━━┯━━━┯━━━┳━━━┯━━━┯━━━┯━━━┳━━━┯━━━┯━━━┯━━━┳━━━┯━━━┯━━━┯━━━┓\n",
       "┗┻┻━━━┷━━━┷━━━┷━━━┻━━━┷━━━┷━━━┷━━━┻━━━┷━━━┷━━━┷━━━┻━━━┷━━━┷━━━┷━━━┛\n",
       "   0               1               2               3               4</div>\n",
       "                    "
      ]
     },
     "metadata": {},
     "output_type": "display_data"
    }
   ],
   "execution_count": 12
  },
  {
   "metadata": {
    "ExecuteTime": {
     "end_time": "2025-06-19T16:44:05.684164Z",
     "start_time": "2025-06-19T16:44:05.510364Z"
    }
   },
   "cell_type": "code",
   "source": [
    "midi7_comp = MIDIProcessor('./midi7_comp.mid')\n",
    "midi7_comp.piano_roll.print_roll()"
   ],
   "id": "163431e04ec669d5",
   "outputs": [
    {
     "name": "stdout",
     "output_type": "stream",
     "text": [
      "View: Compact, Type: Composite, MIDI: ./midi7_comp.mid, TimeSignature: 4/4\n",
      "Quantization Mode: Start_end, Quantization Factor: 16, Length: 4bars 0steps 0ticks \n",
      "key: D#Major/CMinor\n"
     ]
    },
    {
     "data": {
      "text/plain": [
       "<IPython.core.display.HTML object>"
      ],
      "text/html": [
       "\n",
       "                    <div style=\"\n",
       "                        overflow-x: auto;\n",
       "                        white-space: pre;\n",
       "                        font-family: monospace;\n",
       "                        line-height: 1.1;\n",
       "                        font-size: 16px;\n",
       "                        padding: 4px;\n",
       "                        margin: 0;\n",
       "                    \">┏━━━━━┳┳━━━┯━━━┯━━━┯━━━┳━━━┯━━━┯━━━┯━━━┳━━━┯━━━┯━━━┯━━━┳━━━┯━━━┯━━━┯━━━┓\n",
       "┃   C6┃|     <span style=\"color: #61FFFF\">█</span>         |               |     <span style=\"color: #61FFFF\">█</span>         |               ┃\n",
       "┃  A#5┃|   <span style=\"color: #6EFFFF\">█</span><span style=\"color: #6EFFFF\">▆</span>  <span style=\"color: #5EFFFF\">█</span><span style=\"color: #5EFFFF\">▆</span>      |               |   <span style=\"color: #6EFFFF\">█</span><span style=\"color: #6EFFFF\">▆</span>  <span style=\"color: #5EFFFF\">█</span><span style=\"color: #5EFFFF\">▆</span>      |               ┃\n",
       "┃   G5┃|         <span style=\"color: #6CFFFF\">█</span>     |           <span style=\"color: #69FFFF\">█</span>   |         <span style=\"color: #6CFFFF\">█</span>     |           <span style=\"color: #69FFFF\">█</span> <span style=\"color: #64FFFF\">█</span> ┃\n",
       "┃  F#5┃|          <span style=\"color: #6CFFFF\">█</span>    |           <span style=\"color: #51FFFF\">█</span>   |          <span style=\"color: #6CFFFF\">█</span>    |           <span style=\"color: #51FFFF\">█</span>   ┃\n",
       "┃   F5┃|           <span style=\"color: #6AFFFF\">█</span>   |         <span style=\"color: #50FFFF\">█</span>  <span style=\"color: #44FFFF\">█</span>  |           <span style=\"color: #6AFFFF\">█</span>   |         <span style=\"color: #50FFFF\">█</span>  <span style=\"color: #44FFFF\">█</span>  ┃\n",
       "┃  D#5┃|            <span style=\"color: #6CFFFF\">█</span>  |       <span style=\"color: #78FFFF\">█</span><span style=\"color: #78FFFF\">▆</span>    <span style=\"color: #64FFFF\">█</span> |            <span style=\"color: #6CFFFF\">█</span>  |       <span style=\"color: #78FFFF\">█</span><span style=\"color: #78FFFF\">▆</span>      ┃\n",
       "┃   C5┃|              <span style=\"color: #67FFFF\">█</span><span style=\"color: #67FFFF\">▆</span><span style=\"color: #67FFFF\">▆</span>    <span style=\"color: #72FFFF\">█</span>        <span style=\"color: #6DFFFF\">█</span>|              <span style=\"color: #67FFFF\">█</span><span style=\"color: #67FFFF\">▆</span><span style=\"color: #67FFFF\">▆</span>    <span style=\"color: #72FFFF\">█</span>        <span style=\"color: #6DFFFF\">█</span>┃\n",
       "┃  A#4┃|               |   <span style=\"color: #64FFFF\">█</span>           |               |   <span style=\"color: #64FFFF\">█</span>           ┃\n",
       "┃   G4┃<span style=\"color: #50FFFF\">█</span><span style=\"color: #50FFFF\">▆</span>      <span style=\"color: #42FFFF\">█</span>       <span style=\"color: #53FFFF\">█</span><span style=\"color: #53FFFF\">▆</span>      <span style=\"color: #47FFFF\">█</span>       <span style=\"color: #50FFFF\">█</span><span style=\"color: #50FFFF\">▆</span>      <span style=\"color: #42FFFF\">█</span>       <span style=\"color: #53FFFF\">█</span><span style=\"color: #53FFFF\">▆</span>      <span style=\"color: #47FFFF\">█</span>       ┃\n",
       "┃   F4┃|   <span style=\"color: #46FFFF\">█</span>       <span style=\"color: #55FFFF\">█</span><span style=\"color: #55FFFF\">▆</span>  |   <span style=\"color: #46FFFF\">█</span><span style=\"color: #46FFFF\">▆</span>          |   <span style=\"color: #46FFFF\">█</span>       <span style=\"color: #55FFFF\">█</span><span style=\"color: #55FFFF\">▆</span>  |   <span style=\"color: #46FFFF\">█</span><span style=\"color: #46FFFF\">▆</span>          ┃\n",
       "┃  D#4┃<span style=\"color: #50FFFF\">█</span><span style=\"color: #50FFFF\">▆</span>      <span style=\"color: #33FFFF\">█</span>       <span style=\"color: #48FFFF\">█</span><span style=\"color: #48FFFF\">▆</span>      <span style=\"color: #43FFFF\">█</span>   <span style=\"color: #4EFFFF\">█</span>   <span style=\"color: #50FFFF\">█</span><span style=\"color: #50FFFF\">▆</span>      <span style=\"color: #33FFFF\">█</span>       <span style=\"color: #48FFFF\">█</span><span style=\"color: #48FFFF\">▆</span>      <span style=\"color: #43FFFF\">█</span>   <span style=\"color: #4EFFFF\">█</span>   ┃\n",
       "┃   D4┃|   <span style=\"color: #46FFFF\">█</span>       <span style=\"color: #52FFFF\">█</span><span style=\"color: #52FFFF\">▆</span>  |   <span style=\"color: #49FFFF\">█</span><span style=\"color: #49FFFF\">▆</span>          |   <span style=\"color: #46FFFF\">█</span>       <span style=\"color: #52FFFF\">█</span><span style=\"color: #52FFFF\">▆</span>  |   <span style=\"color: #49FFFF\">█</span><span style=\"color: #49FFFF\">▆</span>          ┃\n",
       "┃   C4┃<span style=\"color: #50FFFF\">█</span><span style=\"color: #50FFFF\">▆</span>  <span style=\"color: #3AFFFF\">█</span>   <span style=\"color: #46FFFF\">█</span>       <span style=\"color: #4EFFFF\">█</span><span style=\"color: #4EFFFF\">▆</span>  <span style=\"color: #47FFFF\">█</span><span style=\"color: #47FFFF\">▆</span>  <span style=\"color: #42FFFF\">█</span>       <span style=\"color: #50FFFF\">█</span><span style=\"color: #50FFFF\">▆</span>  <span style=\"color: #3AFFFF\">█</span>   <span style=\"color: #46FFFF\">█</span>       <span style=\"color: #4EFFFF\">█</span><span style=\"color: #4EFFFF\">▆</span>  <span style=\"color: #47FFFF\">█</span><span style=\"color: #47FFFF\">▆</span>  <span style=\"color: #42FFFF\">█</span>       ┃\n",
       "┃   B3┃|               |           <span style=\"color: #50FFFF\">█</span>   |               |           <span style=\"color: #50FFFF\">█</span>   ┃\n",
       "┃  A#3┃<span style=\"color: #47FFFF\">█</span><span style=\"color: #47FFFF\">▆</span>  <span style=\"color: #48FFFF\">█</span>       <span style=\"color: #46FFFF\">█</span>   <span style=\"color: #40FFFF\">█</span><span style=\"color: #40FFFF\">▆</span>  <span style=\"color: #44FFFF\">█</span><span style=\"color: #44FFFF\">▆</span>          <span style=\"color: #47FFFF\">█</span><span style=\"color: #47FFFF\">▆</span>  <span style=\"color: #48FFFF\">█</span>       <span style=\"color: #46FFFF\">█</span>   <span style=\"color: #40FFFF\">█</span><span style=\"color: #40FFFF\">▆</span>  <span style=\"color: #44FFFF\">█</span><span style=\"color: #44FFFF\">▆</span>          ┃\n",
       "┃  G#3┃|       <span style=\"color: #47FFFF\">█</span>       |       <span style=\"color: #46FFFF\">█</span><span style=\"color: #46FFFF\">▆</span>      |       <span style=\"color: #47FFFF\">█</span>       |       <span style=\"color: #46FFFF\">█</span><span style=\"color: #46FFFF\">▆</span>      ┃\n",
       "┃   G3┃|               <span style=\"color: #64FFFF\">█</span><span style=\"color: #64FFFF\">▆</span>          <span style=\"color: #47FFFF\">█</span>   |               <span style=\"color: #64FFFF\">█</span><span style=\"color: #64FFFF\">▆</span>          <span style=\"color: #47FFFF\">█</span>   ┃\n",
       "┃   F3┃|           <span style=\"color: #46FFFF\">█</span>   |               |           <span style=\"color: #46FFFF\">█</span>   |               ┃\n",
       "┃   C3┃<span style=\"color: #4EFFFF\">█</span><span style=\"color: #4EFFFF\">▆</span>              <span style=\"color: #4DFFFF\">█</span><span style=\"color: #4DFFFF\">▆</span>              <span style=\"color: #4EFFFF\">█</span><span style=\"color: #4EFFFF\">▆</span>              <span style=\"color: #4DFFFF\">█</span><span style=\"color: #4DFFFF\">▆</span>              ┃\n",
       "┃   B2┃|             <span style=\"color: #55FFFF\">█</span><span style=\"color: #55FFFF\">▆</span>|             <span style=\"color: #54FFFF\">█</span> |             <span style=\"color: #55FFFF\">█</span><span style=\"color: #55FFFF\">▆</span>|             <span style=\"color: #54FFFF\">█</span> ┃\n",
       "┃  A#2┃|   <span style=\"color: #50FFFF\">█</span>           |   <span style=\"color: #59FFFF\">█</span><span style=\"color: #59FFFF\">▆</span>          |   <span style=\"color: #50FFFF\">█</span>           |   <span style=\"color: #59FFFF\">█</span><span style=\"color: #59FFFF\">▆</span>          ┃\n",
       "┃  G#2┃|       <span style=\"color: #50FFFF\">█</span>       |       <span style=\"color: #50FFFF\">█</span>       |       <span style=\"color: #50FFFF\">█</span>       |       <span style=\"color: #50FFFF\">█</span>       ┃\n",
       "┃   G2┃|           <span style=\"color: #4EFFFF\">█</span>   |           <span style=\"color: #43FFFF\">█</span>   |           <span style=\"color: #4EFFFF\">█</span>   |           <span style=\"color: #43FFFF\">█</span>   ┃\n",
       "┗━━━━━┻┻━━━┷━━━┷━━━┷━━━┻━━━┷━━━┷━━━┷━━━┻━━━┷━━━┷━━━┷━━━┻━━━┷━━━┷━━━┷━━━┛\n",
       "       0               1               2               3               4</div>\n",
       "                    "
      ]
     },
     "metadata": {},
     "output_type": "display_data"
    }
   ],
   "execution_count": 15
  },
  {
   "metadata": {
    "ExecuteTime": {
     "end_time": "2025-06-19T16:26:28.740172Z",
     "start_time": "2025-06-19T16:26:28.670221Z"
    }
   },
   "cell_type": "code",
   "source": [
    "midi7_comp.bass_roll.print_roll()\n",
    "midi7_comp.chord_roll.print_roll()\n",
    "midi7_comp.melody_roll.print_roll()"
   ],
   "id": "87ff5c817ca9d3ed",
   "outputs": [
    {
     "name": "stdout",
     "output_type": "stream",
     "text": [
      "View: Compact, Type: Bass, MIDI: ./midi7_comp.mid, TimeSignature: 4/4\n",
      "Quantization Mode: Start_end, Quantization Factor: 16, Length: 4bars 0steps 0ticks \n",
      "key: D#Major/CMinor\n"
     ]
    },
    {
     "data": {
      "text/plain": [
       "<IPython.core.display.HTML object>"
      ],
      "text/html": [
       "\n",
       "                    <div style=\"\n",
       "                        overflow-x: auto;\n",
       "                        white-space: pre;\n",
       "                        font-family: monospace;\n",
       "                        line-height: 1.1;\n",
       "                        font-size: 16px;\n",
       "                        padding: 4px;\n",
       "                        margin: 0;\n",
       "                    \">┏━━━━━┳┳━━━┯━━━┯━━━┯━━━┳━━━┯━━━┯━━━┯━━━┳━━━┯━━━┯━━━┯━━━┳━━━┯━━━┯━━━┯━━━┓\n",
       "┃   C3┃<span style=\"color: #4EFFFF\">█</span><span style=\"color: #4EFFFF\">▆</span><span style=\"color: #4EFFFF\">▆</span><span style=\"color: #4EFFFF\">▆</span>            <span style=\"color: #4DFFFF\">█</span><span style=\"color: #4DFFFF\">▆</span><span style=\"color: #4DFFFF\">▆</span><span style=\"color: #4DFFFF\">▆</span>            <span style=\"color: #4EFFFF\">█</span><span style=\"color: #4EFFFF\">▆</span><span style=\"color: #4EFFFF\">▆</span><span style=\"color: #4EFFFF\">▆</span>            <span style=\"color: #4DFFFF\">█</span><span style=\"color: #4DFFFF\">▆</span><span style=\"color: #4DFFFF\">▆</span><span style=\"color: #4DFFFF\">▆</span>            ┃\n",
       "┃   B2┃|             <span style=\"color: #55FFFF\">█</span><span style=\"color: #55FFFF\">▆</span>|             <span style=\"color: #54FFFF\">█</span><span style=\"color: #54FFFF\">▆</span>|             <span style=\"color: #55FFFF\">█</span><span style=\"color: #55FFFF\">▆</span>|             <span style=\"color: #54FFFF\">█</span><span style=\"color: #54FFFF\">▆</span>┃\n",
       "┃  A#2┃|   <span style=\"color: #50FFFF\">█</span><span style=\"color: #50FFFF\">▆</span><span style=\"color: #50FFFF\">▆</span><span style=\"color: #50FFFF\">▆</span>        |   <span style=\"color: #59FFFF\">█</span><span style=\"color: #59FFFF\">▆</span><span style=\"color: #59FFFF\">▆</span><span style=\"color: #59FFFF\">▆</span>        |   <span style=\"color: #50FFFF\">█</span><span style=\"color: #50FFFF\">▆</span><span style=\"color: #50FFFF\">▆</span><span style=\"color: #50FFFF\">▆</span>        |   <span style=\"color: #59FFFF\">█</span><span style=\"color: #59FFFF\">▆</span><span style=\"color: #59FFFF\">▆</span><span style=\"color: #59FFFF\">▆</span>        ┃\n",
       "┃  G#2┃|       <span style=\"color: #50FFFF\">█</span><span style=\"color: #50FFFF\">▆</span><span style=\"color: #50FFFF\">▆</span><span style=\"color: #50FFFF\">▆</span>    |       <span style=\"color: #50FFFF\">█</span><span style=\"color: #50FFFF\">▆</span><span style=\"color: #50FFFF\">▆</span><span style=\"color: #50FFFF\">▆</span>    |       <span style=\"color: #50FFFF\">█</span><span style=\"color: #50FFFF\">▆</span><span style=\"color: #50FFFF\">▆</span><span style=\"color: #50FFFF\">▆</span>    |       <span style=\"color: #50FFFF\">█</span><span style=\"color: #50FFFF\">▆</span><span style=\"color: #50FFFF\">▆</span><span style=\"color: #50FFFF\">▆</span>    ┃\n",
       "┃   G2┃|           <span style=\"color: #4EFFFF\">█</span><span style=\"color: #4EFFFF\">▆</span>  |           <span style=\"color: #43FFFF\">█</span><span style=\"color: #43FFFF\">▆</span>  |           <span style=\"color: #4EFFFF\">█</span><span style=\"color: #4EFFFF\">▆</span>  |           <span style=\"color: #43FFFF\">█</span><span style=\"color: #43FFFF\">▆</span>  ┃\n",
       "┗━━━━━┻┻━━━┷━━━┷━━━┷━━━┻━━━┷━━━┷━━━┷━━━┻━━━┷━━━┷━━━┷━━━┻━━━┷━━━┷━━━┷━━━┛\n",
       "       0               1               2               3               4</div>\n",
       "                    "
      ]
     },
     "metadata": {},
     "output_type": "display_data"
    },
    {
     "name": "stdout",
     "output_type": "stream",
     "text": [
      "View: Compact, Type: Chord, MIDI: ./midi7_comp.mid, TimeSignature: 4/4\n",
      "Quantization Mode: Start_end, Quantization Factor: 16, Length: 4bars 0steps 0ticks \n",
      "key: D#Major/CMinor\n"
     ]
    },
    {
     "data": {
      "text/plain": [
       "<IPython.core.display.HTML object>"
      ],
      "text/html": [
       "\n",
       "                    <div style=\"\n",
       "                        overflow-x: auto;\n",
       "                        white-space: pre;\n",
       "                        font-family: monospace;\n",
       "                        line-height: 1.1;\n",
       "                        font-size: 16px;\n",
       "                        padding: 4px;\n",
       "                        margin: 0;\n",
       "                    \">┏━━━━━┳┳━━━┯━━━┯━━━┯━━━┳━━━┯━━━┯━━━┯━━━┳━━━┯━━━┯━━━┯━━━┳━━━┯━━━┯━━━┯━━━┓\n",
       "┃  A#4┃|               |   <span style=\"color: #64FFFF\">█</span><span style=\"color: #64FFFF\">▆</span><span style=\"color: #64FFFF\">▆</span><span style=\"color: #64FFFF\">▆</span>        |               |   <span style=\"color: #64FFFF\">█</span><span style=\"color: #64FFFF\">▆</span><span style=\"color: #64FFFF\">▆</span><span style=\"color: #64FFFF\">▆</span>        ┃\n",
       "┃   G4┃<span style=\"color: #50FFFF\">█</span><span style=\"color: #50FFFF\">▆</span><span style=\"color: #50FFFF\">▆</span><span style=\"color: #50FFFF\">▆</span>    <span style=\"color: #42FFFF\">█</span><span style=\"color: #42FFFF\">▆</span><span style=\"color: #42FFFF\">▆</span><span style=\"color: #42FFFF\">▆</span>    <span style=\"color: #53FFFF\">█</span><span style=\"color: #53FFFF\">▆</span><span style=\"color: #53FFFF\">▆</span><span style=\"color: #53FFFF\">▆</span>    <span style=\"color: #47FFFF\">█</span><span style=\"color: #47FFFF\">▆</span><span style=\"color: #47FFFF\">▆</span><span style=\"color: #47FFFF\">▆</span>    <span style=\"color: #50FFFF\">█</span><span style=\"color: #50FFFF\">▆</span><span style=\"color: #50FFFF\">▆</span><span style=\"color: #50FFFF\">▆</span>    <span style=\"color: #42FFFF\">█</span><span style=\"color: #42FFFF\">▆</span><span style=\"color: #42FFFF\">▆</span><span style=\"color: #42FFFF\">▆</span>    <span style=\"color: #53FFFF\">█</span><span style=\"color: #53FFFF\">▆</span><span style=\"color: #53FFFF\">▆</span><span style=\"color: #53FFFF\">▆</span>    <span style=\"color: #47FFFF\">█</span><span style=\"color: #47FFFF\">▆</span><span style=\"color: #47FFFF\">▆</span><span style=\"color: #47FFFF\">▆</span>    ┃\n",
       "┃   F4┃|   <span style=\"color: #46FFFF\">█</span><span style=\"color: #46FFFF\">▆</span><span style=\"color: #46FFFF\">▆</span><span style=\"color: #46FFFF\">▆</span>    <span style=\"color: #55FFFF\">█</span><span style=\"color: #55FFFF\">▆</span>  |   <span style=\"color: #46FFFF\">█</span><span style=\"color: #46FFFF\">▆</span><span style=\"color: #46FFFF\">▆</span><span style=\"color: #46FFFF\">▆</span>        |   <span style=\"color: #46FFFF\">█</span><span style=\"color: #46FFFF\">▆</span><span style=\"color: #46FFFF\">▆</span><span style=\"color: #46FFFF\">▆</span>    <span style=\"color: #55FFFF\">█</span><span style=\"color: #55FFFF\">▆</span>  |   <span style=\"color: #46FFFF\">█</span><span style=\"color: #46FFFF\">▆</span><span style=\"color: #46FFFF\">▆</span><span style=\"color: #46FFFF\">▆</span>        ┃\n",
       "┃  D#4┃<span style=\"color: #50FFFF\">█</span><span style=\"color: #50FFFF\">▆</span><span style=\"color: #50FFFF\">▆</span><span style=\"color: #50FFFF\">▆</span>    <span style=\"color: #33FFFF\">█</span><span style=\"color: #33FFFF\">▆</span><span style=\"color: #33FFFF\">▆</span><span style=\"color: #33FFFF\">▆</span>    <span style=\"color: #48FFFF\">█</span><span style=\"color: #48FFFF\">▆</span><span style=\"color: #48FFFF\">▆</span><span style=\"color: #48FFFF\">▆</span>    <span style=\"color: #43FFFF\">█</span><span style=\"color: #43FFFF\">▆</span><span style=\"color: #43FFFF\">▆</span><span style=\"color: #43FFFF\">▆</span>    <span style=\"color: #50FFFF\">█</span><span style=\"color: #50FFFF\">▆</span><span style=\"color: #50FFFF\">▆</span><span style=\"color: #50FFFF\">▆</span>    <span style=\"color: #33FFFF\">█</span><span style=\"color: #33FFFF\">▆</span><span style=\"color: #33FFFF\">▆</span><span style=\"color: #33FFFF\">▆</span>    <span style=\"color: #48FFFF\">█</span><span style=\"color: #48FFFF\">▆</span><span style=\"color: #48FFFF\">▆</span><span style=\"color: #48FFFF\">▆</span>    <span style=\"color: #43FFFF\">█</span><span style=\"color: #43FFFF\">▆</span><span style=\"color: #43FFFF\">▆</span><span style=\"color: #43FFFF\">▆</span>    ┃\n",
       "┃   D4┃|   <span style=\"color: #46FFFF\">█</span><span style=\"color: #46FFFF\">▆</span><span style=\"color: #46FFFF\">▆</span><span style=\"color: #46FFFF\">▆</span>    <span style=\"color: #52FFFF\">█</span><span style=\"color: #52FFFF\">▆</span>  |   <span style=\"color: #49FFFF\">█</span><span style=\"color: #49FFFF\">▆</span><span style=\"color: #49FFFF\">▆</span><span style=\"color: #49FFFF\">▆</span>        |   <span style=\"color: #46FFFF\">█</span><span style=\"color: #46FFFF\">▆</span><span style=\"color: #46FFFF\">▆</span><span style=\"color: #46FFFF\">▆</span>    <span style=\"color: #52FFFF\">█</span><span style=\"color: #52FFFF\">▆</span>  |   <span style=\"color: #49FFFF\">█</span><span style=\"color: #49FFFF\">▆</span><span style=\"color: #49FFFF\">▆</span><span style=\"color: #49FFFF\">▆</span>        ┃\n",
       "┃   C4┃<span style=\"color: #50FFFF\">█</span><span style=\"color: #50FFFF\">▆</span><span style=\"color: #50FFFF\">▆</span><span style=\"color: #50FFFF\">▆</span><span style=\"color: #3AFFFF\">█</span><span style=\"color: #3AFFFF\">▆</span><span style=\"color: #3AFFFF\">▆</span><span style=\"color: #3AFFFF\">▆</span><span style=\"color: #46FFFF\">█</span><span style=\"color: #46FFFF\">▆</span><span style=\"color: #46FFFF\">▆</span><span style=\"color: #46FFFF\">▆</span>    <span style=\"color: #4EFFFF\">█</span><span style=\"color: #4EFFFF\">▆</span><span style=\"color: #4EFFFF\">▆</span><span style=\"color: #4EFFFF\">▆</span><span style=\"color: #47FFFF\">█</span><span style=\"color: #47FFFF\">▆</span><span style=\"color: #47FFFF\">▆</span><span style=\"color: #47FFFF\">▆</span><span style=\"color: #42FFFF\">█</span><span style=\"color: #42FFFF\">▆</span><span style=\"color: #42FFFF\">▆</span><span style=\"color: #42FFFF\">▆</span>    <span style=\"color: #50FFFF\">█</span><span style=\"color: #50FFFF\">▆</span><span style=\"color: #50FFFF\">▆</span><span style=\"color: #50FFFF\">▆</span><span style=\"color: #3AFFFF\">█</span><span style=\"color: #3AFFFF\">▆</span><span style=\"color: #3AFFFF\">▆</span><span style=\"color: #3AFFFF\">▆</span><span style=\"color: #46FFFF\">█</span><span style=\"color: #46FFFF\">▆</span><span style=\"color: #46FFFF\">▆</span><span style=\"color: #46FFFF\">▆</span>    <span style=\"color: #4EFFFF\">█</span><span style=\"color: #4EFFFF\">▆</span><span style=\"color: #4EFFFF\">▆</span><span style=\"color: #4EFFFF\">▆</span><span style=\"color: #47FFFF\">█</span><span style=\"color: #47FFFF\">▆</span><span style=\"color: #47FFFF\">▆</span><span style=\"color: #47FFFF\">▆</span><span style=\"color: #42FFFF\">█</span><span style=\"color: #42FFFF\">▆</span><span style=\"color: #42FFFF\">▆</span><span style=\"color: #42FFFF\">▆</span>    ┃\n",
       "┃   B3┃|               |           <span style=\"color: #50FFFF\">█</span><span style=\"color: #50FFFF\">▆</span>  |               |           <span style=\"color: #50FFFF\">█</span><span style=\"color: #50FFFF\">▆</span>  ┃\n",
       "┃  A#3┃<span style=\"color: #47FFFF\">█</span><span style=\"color: #47FFFF\">▆</span><span style=\"color: #47FFFF\">▆</span><span style=\"color: #47FFFF\">▆</span><span style=\"color: #48FFFF\">█</span><span style=\"color: #48FFFF\">▆</span><span style=\"color: #48FFFF\">▆</span><span style=\"color: #48FFFF\">▆</span>    <span style=\"color: #46FFFF\">█</span><span style=\"color: #46FFFF\">▆</span>  <span style=\"color: #40FFFF\">█</span><span style=\"color: #40FFFF\">▆</span><span style=\"color: #40FFFF\">▆</span><span style=\"color: #40FFFF\">▆</span><span style=\"color: #44FFFF\">█</span><span style=\"color: #44FFFF\">▆</span><span style=\"color: #44FFFF\">▆</span><span style=\"color: #44FFFF\">▆</span>        <span style=\"color: #47FFFF\">█</span><span style=\"color: #47FFFF\">▆</span><span style=\"color: #47FFFF\">▆</span><span style=\"color: #47FFFF\">▆</span><span style=\"color: #48FFFF\">█</span><span style=\"color: #48FFFF\">▆</span><span style=\"color: #48FFFF\">▆</span><span style=\"color: #48FFFF\">▆</span>    <span style=\"color: #46FFFF\">█</span><span style=\"color: #46FFFF\">▆</span>  <span style=\"color: #40FFFF\">█</span><span style=\"color: #40FFFF\">▆</span><span style=\"color: #40FFFF\">▆</span><span style=\"color: #40FFFF\">▆</span><span style=\"color: #44FFFF\">█</span><span style=\"color: #44FFFF\">▆</span><span style=\"color: #44FFFF\">▆</span><span style=\"color: #44FFFF\">▆</span>        ┃\n",
       "┃  G#3┃|       <span style=\"color: #47FFFF\">█</span><span style=\"color: #47FFFF\">▆</span><span style=\"color: #47FFFF\">▆</span><span style=\"color: #47FFFF\">▆</span>    |       <span style=\"color: #46FFFF\">█</span><span style=\"color: #46FFFF\">▆</span><span style=\"color: #46FFFF\">▆</span><span style=\"color: #46FFFF\">▆</span>    |       <span style=\"color: #47FFFF\">█</span><span style=\"color: #47FFFF\">▆</span><span style=\"color: #47FFFF\">▆</span><span style=\"color: #47FFFF\">▆</span>    |       <span style=\"color: #46FFFF\">█</span><span style=\"color: #46FFFF\">▆</span><span style=\"color: #46FFFF\">▆</span><span style=\"color: #46FFFF\">▆</span>    ┃\n",
       "┃   G3┃|               <span style=\"color: #64FFFF\">█</span><span style=\"color: #64FFFF\">▆</span><span style=\"color: #64FFFF\">▆</span><span style=\"color: #64FFFF\">▆</span>        <span style=\"color: #47FFFF\">█</span><span style=\"color: #47FFFF\">▆</span>  |               <span style=\"color: #64FFFF\">█</span><span style=\"color: #64FFFF\">▆</span><span style=\"color: #64FFFF\">▆</span><span style=\"color: #64FFFF\">▆</span>        <span style=\"color: #47FFFF\">█</span><span style=\"color: #47FFFF\">▆</span>  ┃\n",
       "┃   F3┃|           <span style=\"color: #46FFFF\">█</span><span style=\"color: #46FFFF\">▆</span>  |               |           <span style=\"color: #46FFFF\">█</span><span style=\"color: #46FFFF\">▆</span>  |               ┃\n",
       "┃   C3┃<span style=\"color: #4EFFFF\">█</span><span style=\"color: #4EFFFF\">▆</span><span style=\"color: #4EFFFF\">▆</span><span style=\"color: #4EFFFF\">▆</span>            <span style=\"color: #4DFFFF\">█</span><span style=\"color: #4DFFFF\">▆</span><span style=\"color: #4DFFFF\">▆</span><span style=\"color: #4DFFFF\">▆</span>            <span style=\"color: #4EFFFF\">█</span><span style=\"color: #4EFFFF\">▆</span><span style=\"color: #4EFFFF\">▆</span><span style=\"color: #4EFFFF\">▆</span>            <span style=\"color: #4DFFFF\">█</span><span style=\"color: #4DFFFF\">▆</span><span style=\"color: #4DFFFF\">▆</span><span style=\"color: #4DFFFF\">▆</span>            ┃\n",
       "┃   B2┃|             <span style=\"color: #55FFFF\">█</span><span style=\"color: #55FFFF\">▆</span>|             <span style=\"color: #54FFFF\">█</span><span style=\"color: #54FFFF\">▆</span>|             <span style=\"color: #55FFFF\">█</span><span style=\"color: #55FFFF\">▆</span>|             <span style=\"color: #54FFFF\">█</span><span style=\"color: #54FFFF\">▆</span>┃\n",
       "┃  A#2┃|   <span style=\"color: #50FFFF\">█</span><span style=\"color: #50FFFF\">▆</span><span style=\"color: #50FFFF\">▆</span><span style=\"color: #50FFFF\">▆</span>        |   <span style=\"color: #59FFFF\">█</span><span style=\"color: #59FFFF\">▆</span><span style=\"color: #59FFFF\">▆</span><span style=\"color: #59FFFF\">▆</span>        |   <span style=\"color: #50FFFF\">█</span><span style=\"color: #50FFFF\">▆</span><span style=\"color: #50FFFF\">▆</span><span style=\"color: #50FFFF\">▆</span>        |   <span style=\"color: #59FFFF\">█</span><span style=\"color: #59FFFF\">▆</span><span style=\"color: #59FFFF\">▆</span><span style=\"color: #59FFFF\">▆</span>        ┃\n",
       "┃  G#2┃|       <span style=\"color: #50FFFF\">█</span><span style=\"color: #50FFFF\">▆</span><span style=\"color: #50FFFF\">▆</span><span style=\"color: #50FFFF\">▆</span>    |       <span style=\"color: #50FFFF\">█</span><span style=\"color: #50FFFF\">▆</span><span style=\"color: #50FFFF\">▆</span><span style=\"color: #50FFFF\">▆</span>    |       <span style=\"color: #50FFFF\">█</span><span style=\"color: #50FFFF\">▆</span><span style=\"color: #50FFFF\">▆</span><span style=\"color: #50FFFF\">▆</span>    |       <span style=\"color: #50FFFF\">█</span><span style=\"color: #50FFFF\">▆</span><span style=\"color: #50FFFF\">▆</span><span style=\"color: #50FFFF\">▆</span>    ┃\n",
       "┃   G2┃|           <span style=\"color: #4EFFFF\">█</span><span style=\"color: #4EFFFF\">▆</span>  |           <span style=\"color: #43FFFF\">█</span><span style=\"color: #43FFFF\">▆</span>  |           <span style=\"color: #4EFFFF\">█</span><span style=\"color: #4EFFFF\">▆</span>  |           <span style=\"color: #43FFFF\">█</span><span style=\"color: #43FFFF\">▆</span>  ┃\n",
       "┗━━━━━┻┻━━━┷━━━┷━━━┷━━━┻━━━┷━━━┷━━━┷━━━┻━━━┷━━━┷━━━┷━━━┻━━━┷━━━┷━━━┷━━━┛\n",
       "       0               1               2               3               4</div>\n",
       "                    "
      ]
     },
     "metadata": {},
     "output_type": "display_data"
    },
    {
     "name": "stdout",
     "output_type": "stream",
     "text": [
      "View: Compact, Type: Melody, MIDI: ./midi7_comp.mid, TimeSignature: 4/4\n",
      "Quantization Mode: Start_end, Quantization Factor: 16, Length: 4bars 0steps 0ticks \n",
      "key: D#Major/CMinor\n"
     ]
    },
    {
     "data": {
      "text/plain": [
       "<IPython.core.display.HTML object>"
      ],
      "text/html": [
       "\n",
       "                    <div style=\"\n",
       "                        overflow-x: auto;\n",
       "                        white-space: pre;\n",
       "                        font-family: monospace;\n",
       "                        line-height: 1.1;\n",
       "                        font-size: 16px;\n",
       "                        padding: 4px;\n",
       "                        margin: 0;\n",
       "                    \">┏━━━━━┳┳━━━┯━━━┯━━━┯━━━┳━━━┯━━━┯━━━┯━━━┳━━━┯━━━┯━━━┯━━━┳━━━┯━━━┯━━━┯━━━┓\n",
       "┃   C6┃|     <span style=\"color: #61FFFF\">█</span>         |               |     <span style=\"color: #61FFFF\">█</span>         |               ┃\n",
       "┃  A#5┃|   <span style=\"color: #6EFFFF\">█</span><span style=\"color: #6EFFFF\">▆</span>  <span style=\"color: #5EFFFF\">█</span><span style=\"color: #5EFFFF\">▆</span>      |               |   <span style=\"color: #6EFFFF\">█</span><span style=\"color: #6EFFFF\">▆</span>  <span style=\"color: #5EFFFF\">█</span><span style=\"color: #5EFFFF\">▆</span>      |               ┃\n",
       "┃   G5┃|         <span style=\"color: #6CFFFF\">█</span>     |           <span style=\"color: #69FFFF\">█</span>   |         <span style=\"color: #6CFFFF\">█</span>     |           <span style=\"color: #69FFFF\">█</span> <span style=\"color: #64FFFF\">█</span> ┃\n",
       "┃  F#5┃|          <span style=\"color: #6CFFFF\">█</span>    |           <span style=\"color: #51FFFF\">█</span>   |          <span style=\"color: #6CFFFF\">█</span>    |           <span style=\"color: #51FFFF\">█</span>   ┃\n",
       "┃   F5┃|           <span style=\"color: #6AFFFF\">█</span>   |         <span style=\"color: #50FFFF\">█</span>  <span style=\"color: #44FFFF\">█</span>  |           <span style=\"color: #6AFFFF\">█</span>   |         <span style=\"color: #50FFFF\">█</span>  <span style=\"color: #44FFFF\">█</span>  ┃\n",
       "┃  D#5┃|            <span style=\"color: #6CFFFF\">█</span>  |       <span style=\"color: #78FFFF\">█</span><span style=\"color: #78FFFF\">▆</span>    <span style=\"color: #64FFFF\">█</span> |            <span style=\"color: #6CFFFF\">█</span>  |       <span style=\"color: #78FFFF\">█</span><span style=\"color: #78FFFF\">▆</span>      ┃\n",
       "┃   C5┃|              <span style=\"color: #67FFFF\">█</span><span style=\"color: #67FFFF\">▆</span><span style=\"color: #67FFFF\">▆</span>    <span style=\"color: #72FFFF\">█</span>        <span style=\"color: #6DFFFF\">█</span>|              <span style=\"color: #67FFFF\">█</span><span style=\"color: #67FFFF\">▆</span><span style=\"color: #67FFFF\">▆</span>    <span style=\"color: #72FFFF\">█</span>        <span style=\"color: #6DFFFF\">█</span>┃\n",
       "┃  D#4┃|               |           <span style=\"color: #4EFFFF\">█</span>   |               |           <span style=\"color: #4EFFFF\">█</span>   ┃\n",
       "┗━━━━━┻┻━━━┷━━━┷━━━┷━━━┻━━━┷━━━┷━━━┷━━━┻━━━┷━━━┷━━━┷━━━┻━━━┷━━━┷━━━┷━━━┛\n",
       "       0               1               2               3               4</div>\n",
       "                    "
      ]
     },
     "metadata": {},
     "output_type": "display_data"
    }
   ],
   "execution_count": 14
  },
  {
   "metadata": {},
   "cell_type": "markdown",
   "source": [
    "# More MIDI Types\n",
    "Now let’s look at the different MIDI types. Currently, there are nine supported types: Composite, Chord, Bass, Melody, Arp, Kick, ClapSnare (backbeat), HiHat, and Drummer. The `MIDIProcessor` can automatically detect the type based on keywords found in the MIDI file name. If no explicit type is specified in the name, it will attempt to infer whether the file is a Bass, Melody, or Drummer based on the piano roll. If none of these are detected, the MIDI is classified as Composite by default."
   ],
   "id": "3114478c41b3ff"
  },
  {
   "metadata": {
    "ExecuteTime": {
     "end_time": "2025-06-21T05:49:17.669889Z",
     "start_time": "2025-06-21T05:49:17.627777Z"
    }
   },
   "cell_type": "code",
   "source": [
    "# Arpeggio\n",
    "midi4_arp = MIDIProcessor('./midi4_arp.mid')\n",
    "midi4_arp.piano_roll.print_roll()"
   ],
   "id": "20a446b51e395aad",
   "outputs": [
    {
     "name": "stdout",
     "output_type": "stream",
     "text": [
      "View: Compact, Type: Arp, MIDI: ./midi4_arp.mid, TimeSignature: 4/4\n",
      "Quantization Mode: Start_end, Quantization Factor: 16, Length: 8bars 0steps 0ticks \n",
      "key: DMajor/BMinor\n"
     ]
    },
    {
     "data": {
      "text/plain": [
       "<IPython.core.display.HTML object>"
      ],
      "text/html": [
       "\n",
       "                    <div style=\"\n",
       "                        overflow-x: auto;\n",
       "                        white-space: pre;\n",
       "                        font-family: monospace;\n",
       "                        line-height: 1.1;\n",
       "                        font-size: 16px;\n",
       "                        padding: 4px;\n",
       "                        margin: 0;\n",
       "                    \">┏━━━━━┳┳━━━┯━━━┯━━━┯━━━┳━━━┯━━━┯━━━┯━━━┳━━━┯━━━┯━━━┯━━━┳━━━┯━━━┯━━━┯━━━┳━━━┯━━━┯━━━┯━━━┳━━━┯━━━┯━━━┯━━━┳━━━┯━━━┯━━━┯━━━┳━━━┯━━━┯━━━┯━━━┓\n",
       "┃   G4┃|               |               |               |               |       <span style=\"color: #50FFFF\">█</span><span style=\"color: #50FFFF\">▆</span>    <span style=\"color: #4EFFFF\">█</span><span style=\"color: #4EFFFF\">▆</span>|     <span style=\"color: #4EFFFF\">█</span><span style=\"color: #4EFFFF\">▆</span>        |               |               ┃\n",
       "┃  F#4┃|               |               |               |               |               |       <span style=\"color: #4EFFFF\">█</span><span style=\"color: #4EFFFF\">▆</span>    <span style=\"color: #4EFFFF\">█</span><span style=\"color: #4EFFFF\">▆</span>|               |               ┃\n",
       "┃   E4┃|               |     <span style=\"color: #4EFFFF\">█</span><span style=\"color: #4EFFFF\">▆</span>      <span style=\"color: #4EFFFF\">█</span><span style=\"color: #4EFFFF\">▆</span>|               |               |               |               |       <span style=\"color: #4EFFFF\">█</span><span style=\"color: #4EFFFF\">▆</span>    <span style=\"color: #4EFFFF\">█</span><span style=\"color: #4EFFFF\">▆</span>|       <span style=\"color: #4EFFFF\">█</span><span style=\"color: #4EFFFF\">▆</span>      ┃\n",
       "┃   D4┃|     <span style=\"color: #4EFFFF\">█</span><span style=\"color: #4EFFFF\">▆</span>      <span style=\"color: #4EFFFF\">█</span><span style=\"color: #4EFFFF\">▆</span>|               |     <span style=\"color: #4EFFFF\">█</span><span style=\"color: #4EFFFF\">▆</span>      <span style=\"color: #4EFFFF\">█</span><span style=\"color: #4EFFFF\">▆</span>|               |     <span style=\"color: #4EFFFF\">█</span><span style=\"color: #4EFFFF\">▆</span>        |               |     <span style=\"color: #4EFFFF\">█</span><span style=\"color: #4EFFFF\">▆</span>        |     <span style=\"color: #4EFFFF\">█</span><span style=\"color: #4EFFFF\">▆</span>    <span style=\"color: #4EFFFF\">█</span><span style=\"color: #4EFFFF\">▆</span>  ┃\n",
       "┃   B3┃|   <span style=\"color: #4EFFFF\">█</span><span style=\"color: #4EFFFF\">▆</span>      <span style=\"color: #4EFFFF\">█</span><span style=\"color: #4EFFFF\">▆</span>  |   <span style=\"color: #4EFFFF\">█</span><span style=\"color: #4EFFFF\">▆</span>      <span style=\"color: #4EFFFF\">█</span><span style=\"color: #4EFFFF\">▆</span>  |   <span style=\"color: #4EFFFF\">█</span><span style=\"color: #4EFFFF\">▆</span>      <span style=\"color: #4EFFFF\">█</span><span style=\"color: #4EFFFF\">▆</span>  |     <span style=\"color: #4EFFFF\">█</span><span style=\"color: #4EFFFF\">▆</span>    <span style=\"color: #4EFFFF\">█</span><span style=\"color: #4EFFFF\">▆</span>  |   <span style=\"color: #4EFFFF\">█</span><span style=\"color: #4EFFFF\">▆</span>      <span style=\"color: #4EFFFF\">█</span><span style=\"color: #4EFFFF\">▆</span>  |   <span style=\"color: #4EFFFF\">█</span><span style=\"color: #4EFFFF\">▆</span>      <span style=\"color: #4EFFFF\">█</span><span style=\"color: #4EFFFF\">▆</span>  |   <span style=\"color: #4EFFFF\">█</span><span style=\"color: #4EFFFF\">▆</span>      <span style=\"color: #4EFFFF\">█</span><span style=\"color: #4EFFFF\">▆</span>  |             <span style=\"color: #4EFFFF\">█</span><span style=\"color: #4EFFFF\">▆</span>┃\n",
       "┃   A3┃| <span style=\"color: #4EFFFF\">█</span><span style=\"color: #4EFFFF\">▆</span>      <span style=\"color: #4EFFFF\">█</span><span style=\"color: #4EFFFF\">▆</span>    | <span style=\"color: #4EFFFF\">█</span><span style=\"color: #4EFFFF\">▆</span>      <span style=\"color: #4EFFFF\">█</span><span style=\"color: #4EFFFF\">▆</span>    | <span style=\"color: #4EFFFF\">█</span><span style=\"color: #4EFFFF\">▆</span>      <span style=\"color: #4EFFFF\">█</span><span style=\"color: #4EFFFF\">▆</span>    |   <span style=\"color: #4EFFFF\">█</span><span style=\"color: #4EFFFF\">▆</span>        <span style=\"color: #4EFFFF\">█</span><span style=\"color: #4EFFFF\">▆</span>| <span style=\"color: #4EFFFF\">█</span><span style=\"color: #4EFFFF\">▆</span>      <span style=\"color: #4EFFFF\">█</span><span style=\"color: #4EFFFF\">▆</span>    | <span style=\"color: #4EFFFF\">█</span><span style=\"color: #4EFFFF\">▆</span>      <span style=\"color: #4EFFFF\">█</span><span style=\"color: #4EFFFF\">▆</span>    | <span style=\"color: #4EFFFF\">█</span><span style=\"color: #4EFFFF\">▆</span>      <span style=\"color: #4EFFFF\">█</span><span style=\"color: #4EFFFF\">▆</span>    |   <span style=\"color: #4EFFFF\">█</span><span style=\"color: #4EFFFF\">▆</span>          ┃\n",
       "┃   G3┃<span style=\"color: #4EFFFF\">█</span><span style=\"color: #4EFFFF\">▆</span>      <span style=\"color: #4EFFFF\">█</span><span style=\"color: #4EFFFF\">▆</span>      |               |               | <span style=\"color: #4EFFFF\">█</span><span style=\"color: #4EFFFF\">▆</span>      <span style=\"color: #4EFFFF\">█</span><span style=\"color: #4EFFFF\">▆</span>    <span style=\"color: #4EFFFF\">█</span><span style=\"color: #4EFFFF\">▆</span>              |               |               | <span style=\"color: #4EFFFF\">█</span><span style=\"color: #4EFFFF\">▆</span>      <span style=\"color: #4EFFFF\">█</span><span style=\"color: #4EFFFF\">▆</span>    ┃\n",
       "┃  F#3┃|               <span style=\"color: #4EFFFF\">█</span><span style=\"color: #4EFFFF\">▆</span>      <span style=\"color: #4EFFFF\">█</span><span style=\"color: #4EFFFF\">▆</span>      |               |               |               <span style=\"color: #4EFFFF\">█</span><span style=\"color: #4EFFFF\">▆</span>              |               |               ┃\n",
       "┃   E3┃|               |               <span style=\"color: #4EFFFF\">█</span><span style=\"color: #4EFFFF\">▆</span>      <span style=\"color: #4EFFFF\">█</span><span style=\"color: #4EFFFF\">▆</span>      |               |               |               <span style=\"color: #4EFFFF\">█</span><span style=\"color: #4EFFFF\">▆</span>              |               ┃\n",
       "┃   D3┃|               |               |               <span style=\"color: #4EFFFF\">█</span><span style=\"color: #4EFFFF\">▆</span>      <span style=\"color: #4EFFFF\">█</span><span style=\"color: #4EFFFF\">▆</span>      |               |               |               <span style=\"color: #4EFFFF\">█</span><span style=\"color: #4EFFFF\">▆</span>              ┃\n",
       "┗━━━━━┻┻━━━┷━━━┷━━━┷━━━┻━━━┷━━━┷━━━┷━━━┻━━━┷━━━┷━━━┷━━━┻━━━┷━━━┷━━━┷━━━┻━━━┷━━━┷━━━┷━━━┻━━━┷━━━┷━━━┷━━━┻━━━┷━━━┷━━━┷━━━┻━━━┷━━━┷━━━┷━━━┛\n",
       "       0               1               2               3               4               5               6               7               8</div>\n",
       "                    "
      ]
     },
     "metadata": {},
     "output_type": "display_data"
    }
   ],
   "execution_count": 6
  },
  {
   "metadata": {
    "ExecuteTime": {
     "end_time": "2025-06-21T05:49:42.606099Z",
     "start_time": "2025-06-21T05:49:42.580077Z"
    }
   },
   "cell_type": "code",
   "source": [
    "# Drum\n",
    "midi5_drum = MIDIProcessor('./midi5_drum.mid')\n",
    "midi5_drum.piano_roll.print_roll()"
   ],
   "id": "a2a495a051749355",
   "outputs": [
    {
     "name": "stdout",
     "output_type": "stream",
     "text": [
      "View: Compact, Type: Drummer, MIDI: ./midi5_drum.mid, TimeSignature: 4/4\n",
      "Quantization Mode: Start_end, Quantization Factor: 16, Length: 2bars 0steps 0ticks \n",
      "key: Unknown\n"
     ]
    },
    {
     "data": {
      "text/plain": [
       "<IPython.core.display.HTML object>"
      ],
      "text/html": [
       "\n",
       "                    <div style=\"\n",
       "                        overflow-x: auto;\n",
       "                        white-space: pre;\n",
       "                        font-family: monospace;\n",
       "                        line-height: 1.1;\n",
       "                        font-size: 16px;\n",
       "                        padding: 4px;\n",
       "                        margin: 0;\n",
       "                    \">┏━━━━┳┳━━━┯━━━┯━━━┯━━━┳━━━┯━━━┯━━━┯━━━┓\n",
       "┃  C4┃<span style=\"color: #64FFFF\">█</span><span style=\"color: #64FFFF\">▆</span>  <span style=\"color: #64FFFF\">█</span><span style=\"color: #64FFFF\">▆</span>  <span style=\"color: #64FFFF\">█</span><span style=\"color: #64FFFF\">▆</span>  <span style=\"color: #64FFFF\">█</span><span style=\"color: #64FFFF\">▆</span>  <span style=\"color: #64FFFF\">█</span><span style=\"color: #64FFFF\">▆</span>  <span style=\"color: #64FFFF\">█</span><span style=\"color: #64FFFF\">▆</span>  <span style=\"color: #64FFFF\">█</span><span style=\"color: #64FFFF\">▆</span>  <span style=\"color: #64FFFF\">█</span><span style=\"color: #64FFFF\">▆</span><span style=\"color: #64FFFF\">█</span><span style=\"color: #64FFFF\">▆</span>┃\n",
       "┗━━━━┻┻━━━┷━━━┷━━━┷━━━┻━━━┷━━━┷━━━┷━━━┛\n",
       "      0               1               2</div>\n",
       "                    "
      ]
     },
     "metadata": {},
     "output_type": "display_data"
    }
   ],
   "execution_count": 7
  },
  {
   "metadata": {
    "ExecuteTime": {
     "end_time": "2025-06-21T05:49:57.686347Z",
     "start_time": "2025-06-21T05:49:57.630579Z"
    }
   },
   "cell_type": "code",
   "source": [
    "# Bass\n",
    "midi6_bass = MIDIProcessor('./midi6_bass.mid')\n",
    "midi6_bass.piano_roll.print_roll()"
   ],
   "id": "48fc5f0ddb299378",
   "outputs": [
    {
     "name": "stdout",
     "output_type": "stream",
     "text": [
      "View: Compact, Type: Bass, MIDI: ./midi6_bass.mid, TimeSignature: 4/4\n",
      "Quantization Mode: Start_end, Quantization Factor: 16, Length: 4bars 0steps 0ticks \n",
      "key: CMajor/AMinor\n"
     ]
    },
    {
     "data": {
      "text/plain": [
       "<IPython.core.display.HTML object>"
      ],
      "text/html": [
       "\n",
       "                    <div style=\"\n",
       "                        overflow-x: auto;\n",
       "                        white-space: pre;\n",
       "                        font-family: monospace;\n",
       "                        line-height: 1.1;\n",
       "                        font-size: 16px;\n",
       "                        padding: 4px;\n",
       "                        margin: 0;\n",
       "                    \">┏━━━━┳┳━━━┯━━━┯━━━┯━━━┳━━━┯━━━┯━━━┯━━━┳━━━┯━━━┯━━━┯━━━┳━━━┯━━━┯━━━┯━━━┓\n",
       "┃  D3┃|               <span style=\"color: #64FFFF\">█</span><span style=\"color: #64FFFF\">▆</span><span style=\"color: #64FFFF\">█</span><span style=\"color: #64FFFF\">▆</span><span style=\"color: #64FFFF\">█</span><span style=\"color: #64FFFF\">▆</span><span style=\"color: #64FFFF\">█</span><span style=\"color: #64FFFF\">▆</span><span style=\"color: #64FFFF\">█</span><span style=\"color: #64FFFF\">▆</span><span style=\"color: #64FFFF\">█</span><span style=\"color: #64FFFF\">▆</span><span style=\"color: #64FFFF\">█</span><span style=\"color: #64FFFF\">▆</span><span style=\"color: #64FFFF\">█</span><span style=\"color: #64FFFF\">▆</span>|               |               ┃\n",
       "┃  C3┃<span style=\"color: #64FFFF\">█</span><span style=\"color: #64FFFF\">▆</span><span style=\"color: #64FFFF\">█</span><span style=\"color: #64FFFF\">▆</span><span style=\"color: #64FFFF\">█</span><span style=\"color: #64FFFF\">▆</span><span style=\"color: #64FFFF\">█</span><span style=\"color: #64FFFF\">▆</span><span style=\"color: #64FFFF\">█</span><span style=\"color: #64FFFF\">▆</span><span style=\"color: #64FFFF\">█</span><span style=\"color: #64FFFF\">▆</span><span style=\"color: #64FFFF\">█</span><span style=\"color: #64FFFF\">▆</span><span style=\"color: #64FFFF\">█</span><span style=\"color: #64FFFF\">▆</span>|               |               |               ┃\n",
       "┃  B2┃|               |               |               <span style=\"color: #64FFFF\">█</span><span style=\"color: #64FFFF\">▆</span><span style=\"color: #64FFFF\">█</span><span style=\"color: #64FFFF\">▆</span><span style=\"color: #64FFFF\">█</span><span style=\"color: #64FFFF\">▆</span><span style=\"color: #64FFFF\">█</span><span style=\"color: #64FFFF\">▆</span><span style=\"color: #64FFFF\">█</span><span style=\"color: #64FFFF\">▆</span><span style=\"color: #64FFFF\">█</span><span style=\"color: #64FFFF\">▆</span><span style=\"color: #64FFFF\">█</span><span style=\"color: #64FFFF\">▆</span><span style=\"color: #64FFFF\">█</span><span style=\"color: #64FFFF\">▆</span>┃\n",
       "┃  A2┃|               |               <span style=\"color: #64FFFF\">█</span><span style=\"color: #64FFFF\">▆</span><span style=\"color: #64FFFF\">█</span><span style=\"color: #64FFFF\">▆</span><span style=\"color: #64FFFF\">█</span><span style=\"color: #64FFFF\">▆</span><span style=\"color: #64FFFF\">█</span><span style=\"color: #64FFFF\">▆</span><span style=\"color: #64FFFF\">█</span><span style=\"color: #64FFFF\">▆</span><span style=\"color: #64FFFF\">█</span><span style=\"color: #64FFFF\">▆</span><span style=\"color: #64FFFF\">█</span><span style=\"color: #64FFFF\">▆</span><span style=\"color: #64FFFF\">█</span><span style=\"color: #64FFFF\">▆</span>|               ┃\n",
       "┗━━━━┻┻━━━┷━━━┷━━━┷━━━┻━━━┷━━━┷━━━┷━━━┻━━━┷━━━┷━━━┷━━━┻━━━┷━━━┷━━━┷━━━┛\n",
       "      0               1               2               3               4</div>\n",
       "                    "
      ]
     },
     "metadata": {},
     "output_type": "display_data"
    }
   ],
   "execution_count": 8
  }
 ],
 "metadata": {
  "kernelspec": {
   "display_name": "Python 3 (ipykernel)",
   "language": "python",
   "name": "python3"
  },
  "language_info": {
   "codemirror_mode": {
    "name": "ipython",
    "version": 3
   },
   "file_extension": ".py",
   "mimetype": "text/x-python",
   "name": "python",
   "nbconvert_exporter": "python",
   "pygments_lexer": "ipython3",
   "version": "3.12.3"
  }
 },
 "nbformat": 4,
 "nbformat_minor": 5
}
